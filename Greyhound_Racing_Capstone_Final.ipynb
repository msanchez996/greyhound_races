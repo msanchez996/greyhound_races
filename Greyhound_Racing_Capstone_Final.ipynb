{
  "nbformat": 4,
  "nbformat_minor": 0,
  "metadata": {
    "colab": {
      "name": "Greyhound Racing Capstone Final.ipynb",
      "provenance": [],
      "collapsed_sections": []
    },
    "kernelspec": {
      "name": "python3",
      "display_name": "Python 3"
    },
    "language_info": {
      "name": "python"
    }
  },
  "cells": [
    {
      "cell_type": "markdown",
      "metadata": {
        "id": "PqAFBeGT0mDD"
      },
      "source": [
        "# Import data\n"
      ]
    },
    {
      "cell_type": "code",
      "metadata": {
        "colab": {
          "base_uri": "https://localhost:8080/"
        },
        "id": "la8t2SLh0bjQ",
        "outputId": "533793e4-4c79-4976-a79c-da1948786cc6"
      },
      "source": [
        "import numpy as np\n",
        "import seaborn as sns\n",
        "import matplotlib.pyplot as plt\n",
        "import pandas as pd\n",
        "import os\n",
        "from time import time\n",
        "\n",
        "## Metrics \n",
        "from sklearn import metrics\n",
        "from sklearn.metrics import (roc_curve, roc_auc_score)\n",
        "from sklearn.metrics import (confusion_matrix, accuracy_score, classification_report)\n",
        "from sklearn.metrics import (f1_score, precision_score, recall_score)\n",
        "\n",
        "## StatsModels & SkLearn\n",
        "import statsmodels.api as sm\n",
        "import statsmodels.tools \n",
        "from sklearn import (svm, linear_model, preprocessing)\n",
        "from sklearn import datasets\n",
        "from sklearn.svm import SVC\n",
        "from sklearn.linear_model import (LogisticRegression, LinearRegression)\n",
        "from sklearn.model_selection import (train_test_split, GridSearchCV, cross_val_score)\n",
        "from sklearn.inspection import permutation_importance\n",
        "from sklearn.tree import DecisionTreeClassifier\n",
        "from sklearn.ensemble import (RandomForestClassifier, ExtraTreesClassifier, BaggingClassifier)\n",
        "\n",
        "%matplotlib inline"
      ],
      "execution_count": 1,
      "outputs": [
        {
          "output_type": "stream",
          "name": "stderr",
          "text": [
            "/usr/local/lib/python3.7/dist-packages/statsmodels/tools/_testing.py:19: FutureWarning: pandas.util.testing is deprecated. Use the functions in the public API at pandas.testing instead.\n",
            "  import pandas.util.testing as tm\n"
          ]
        }
      ]
    },
    {
      "cell_type": "code",
      "metadata": {
        "id": "P6wcNbfS4hsa"
      },
      "source": [
        "# !wget https://developer.nvidia.com/compute/cuda/9.0/Prod/local_installers/cuda-repo-ubuntu1704-9-0-local_9.0.176-1_amd64-deb\n",
        "\n",
        "# !ls  ## Check if required cuda 9.0 amd64-deb file is downloaded\n",
        "# !dpkg -i cuda-repo-ubuntu1704-9-0-local_9.0.176-1_amd64-deb\n",
        "# !ls /var/cuda-repo-9-0-local | grep .pub\n",
        "# !apt-key add /var/cuda-repo-9-0-local/7fa2af80.pub\n",
        "# !apt-get update\n",
        "# !sudo apt-get install cuda-9.0"
      ],
      "execution_count": 2,
      "outputs": []
    },
    {
      "cell_type": "code",
      "metadata": {
        "id": "w-P7uuzI2WB-"
      },
      "source": [
        "#pip install thundersvm"
      ],
      "execution_count": 3,
      "outputs": []
    },
    {
      "cell_type": "code",
      "metadata": {
        "id": "VqpwuGDX4W5L"
      },
      "source": [
        "#from thundersvm import SVC"
      ],
      "execution_count": 4,
      "outputs": []
    },
    {
      "cell_type": "code",
      "metadata": {
        "id": "aWfgOfGy01UA"
      },
      "source": [
        "df = pd.read_csv('data_final.csv')"
      ],
      "execution_count": 5,
      "outputs": []
    },
    {
      "cell_type": "code",
      "metadata": {
        "colab": {
          "base_uri": "https://localhost:8080/",
          "height": 0
        },
        "id": "_ErWoO7-1AuM",
        "outputId": "de4d6342-a92d-4040-85e7-db7dda91fcb5"
      },
      "source": [
        "# Have a look at the dataset\n",
        "\n",
        "df.head(12)"
      ],
      "execution_count": 6,
      "outputs": [
        {
          "output_type": "execute_result",
          "data": {
            "text/html": [
              "<div>\n",
              "<style scoped>\n",
              "    .dataframe tbody tr th:only-of-type {\n",
              "        vertical-align: middle;\n",
              "    }\n",
              "\n",
              "    .dataframe tbody tr th {\n",
              "        vertical-align: top;\n",
              "    }\n",
              "\n",
              "    .dataframe thead th {\n",
              "        text-align: right;\n",
              "    }\n",
              "</style>\n",
              "<table border=\"1\" class=\"dataframe\">\n",
              "  <thead>\n",
              "    <tr style=\"text-align: right;\">\n",
              "      <th></th>\n",
              "      <th>Race_ID</th>\n",
              "      <th>Trap</th>\n",
              "      <th>Odds</th>\n",
              "      <th>BSP</th>\n",
              "      <th>Public_Estimate</th>\n",
              "      <th>Last_Run</th>\n",
              "      <th>Distance_All</th>\n",
              "      <th>Finish_All</th>\n",
              "      <th>Distance_Places_All</th>\n",
              "      <th>Races_All</th>\n",
              "      <th>Distance_Recent</th>\n",
              "      <th>Finish_Recent</th>\n",
              "      <th>Odds_Recent</th>\n",
              "      <th>Early_Recent</th>\n",
              "      <th>Races_380</th>\n",
              "      <th>Wins_380</th>\n",
              "      <th>Finish_380</th>\n",
              "      <th>Odds_380</th>\n",
              "      <th>Early_380</th>\n",
              "      <th>Grade_380</th>\n",
              "      <th>Time_380</th>\n",
              "      <th>Early_Time_380</th>\n",
              "      <th>Stay_380</th>\n",
              "      <th>Favourite</th>\n",
              "      <th>Finished</th>\n",
              "      <th>Wide_380</th>\n",
              "      <th>Dist_By</th>\n",
              "      <th>Winner</th>\n",
              "    </tr>\n",
              "  </thead>\n",
              "  <tbody>\n",
              "    <tr>\n",
              "      <th>0</th>\n",
              "      <td>0</td>\n",
              "      <td>6</td>\n",
              "      <td>2.75</td>\n",
              "      <td>4.00</td>\n",
              "      <td>1</td>\n",
              "      <td>12</td>\n",
              "      <td>456.47</td>\n",
              "      <td>4.09</td>\n",
              "      <td>402.86</td>\n",
              "      <td>17</td>\n",
              "      <td>494.29</td>\n",
              "      <td>3.38</td>\n",
              "      <td>4.42</td>\n",
              "      <td>2.46</td>\n",
              "      <td>4</td>\n",
              "      <td>0.50</td>\n",
              "      <td>2.50</td>\n",
              "      <td>4.38</td>\n",
              "      <td>2.00</td>\n",
              "      <td>4.00</td>\n",
              "      <td>17.84</td>\n",
              "      <td>3.63</td>\n",
              "      <td>0.50</td>\n",
              "      <td>6.0</td>\n",
              "      <td>4</td>\n",
              "      <td>0.00</td>\n",
              "      <td>-10.50</td>\n",
              "      <td>0</td>\n",
              "    </tr>\n",
              "    <tr>\n",
              "      <th>1</th>\n",
              "      <td>0</td>\n",
              "      <td>3</td>\n",
              "      <td>5.00</td>\n",
              "      <td>7.60</td>\n",
              "      <td>4</td>\n",
              "      <td>5</td>\n",
              "      <td>410.48</td>\n",
              "      <td>3.53</td>\n",
              "      <td>414.00</td>\n",
              "      <td>21</td>\n",
              "      <td>380.00</td>\n",
              "      <td>3.71</td>\n",
              "      <td>4.04</td>\n",
              "      <td>3.43</td>\n",
              "      <td>10</td>\n",
              "      <td>0.20</td>\n",
              "      <td>3.71</td>\n",
              "      <td>4.04</td>\n",
              "      <td>3.43</td>\n",
              "      <td>3.29</td>\n",
              "      <td>24.18</td>\n",
              "      <td>3.70</td>\n",
              "      <td>0.28</td>\n",
              "      <td>6.0</td>\n",
              "      <td>1</td>\n",
              "      <td>0.14</td>\n",
              "      <td>-4.71</td>\n",
              "      <td>1</td>\n",
              "    </tr>\n",
              "    <tr>\n",
              "      <th>2</th>\n",
              "      <td>0</td>\n",
              "      <td>5</td>\n",
              "      <td>5.00</td>\n",
              "      <td>9.40</td>\n",
              "      <td>6</td>\n",
              "      <td>9</td>\n",
              "      <td>386.45</td>\n",
              "      <td>3.39</td>\n",
              "      <td>380.00</td>\n",
              "      <td>31</td>\n",
              "      <td>380.00</td>\n",
              "      <td>3.00</td>\n",
              "      <td>4.46</td>\n",
              "      <td>3.43</td>\n",
              "      <td>25</td>\n",
              "      <td>0.20</td>\n",
              "      <td>3.00</td>\n",
              "      <td>4.46</td>\n",
              "      <td>3.43</td>\n",
              "      <td>3.71</td>\n",
              "      <td>24.06</td>\n",
              "      <td>3.67</td>\n",
              "      <td>-0.43</td>\n",
              "      <td>6.0</td>\n",
              "      <td>3</td>\n",
              "      <td>0.00</td>\n",
              "      <td>-2.86</td>\n",
              "      <td>0</td>\n",
              "    </tr>\n",
              "    <tr>\n",
              "      <th>3</th>\n",
              "      <td>0</td>\n",
              "      <td>4</td>\n",
              "      <td>7.00</td>\n",
              "      <td>7.80</td>\n",
              "      <td>5</td>\n",
              "      <td>9</td>\n",
              "      <td>380.00</td>\n",
              "      <td>3.03</td>\n",
              "      <td>380.00</td>\n",
              "      <td>21</td>\n",
              "      <td>380.00</td>\n",
              "      <td>2.71</td>\n",
              "      <td>5.46</td>\n",
              "      <td>2.43</td>\n",
              "      <td>16</td>\n",
              "      <td>0.25</td>\n",
              "      <td>2.71</td>\n",
              "      <td>5.46</td>\n",
              "      <td>2.43</td>\n",
              "      <td>4.43</td>\n",
              "      <td>24.14</td>\n",
              "      <td>3.65</td>\n",
              "      <td>0.28</td>\n",
              "      <td>6.0</td>\n",
              "      <td>2</td>\n",
              "      <td>0.00</td>\n",
              "      <td>-2.71</td>\n",
              "      <td>0</td>\n",
              "    </tr>\n",
              "    <tr>\n",
              "      <th>4</th>\n",
              "      <td>0</td>\n",
              "      <td>2</td>\n",
              "      <td>5.00</td>\n",
              "      <td>5.10</td>\n",
              "      <td>2</td>\n",
              "      <td>13</td>\n",
              "      <td>385.00</td>\n",
              "      <td>2.59</td>\n",
              "      <td>388.33</td>\n",
              "      <td>40</td>\n",
              "      <td>380.00</td>\n",
              "      <td>2.71</td>\n",
              "      <td>4.18</td>\n",
              "      <td>3.14</td>\n",
              "      <td>30</td>\n",
              "      <td>0.33</td>\n",
              "      <td>2.71</td>\n",
              "      <td>4.18</td>\n",
              "      <td>3.14</td>\n",
              "      <td>2.71</td>\n",
              "      <td>24.05</td>\n",
              "      <td>3.64</td>\n",
              "      <td>-0.43</td>\n",
              "      <td>6.0</td>\n",
              "      <td>6</td>\n",
              "      <td>0.00</td>\n",
              "      <td>-2.32</td>\n",
              "      <td>0</td>\n",
              "    </tr>\n",
              "    <tr>\n",
              "      <th>5</th>\n",
              "      <td>0</td>\n",
              "      <td>1</td>\n",
              "      <td>6.00</td>\n",
              "      <td>5.34</td>\n",
              "      <td>3</td>\n",
              "      <td>16</td>\n",
              "      <td>418.65</td>\n",
              "      <td>3.27</td>\n",
              "      <td>421.88</td>\n",
              "      <td>52</td>\n",
              "      <td>380.00</td>\n",
              "      <td>3.29</td>\n",
              "      <td>5.89</td>\n",
              "      <td>3.14</td>\n",
              "      <td>23</td>\n",
              "      <td>0.13</td>\n",
              "      <td>3.29</td>\n",
              "      <td>5.89</td>\n",
              "      <td>3.14</td>\n",
              "      <td>2.57</td>\n",
              "      <td>24.14</td>\n",
              "      <td>3.68</td>\n",
              "      <td>0.15</td>\n",
              "      <td>6.0</td>\n",
              "      <td>5</td>\n",
              "      <td>0.00</td>\n",
              "      <td>-4.43</td>\n",
              "      <td>0</td>\n",
              "    </tr>\n",
              "    <tr>\n",
              "      <th>6</th>\n",
              "      <td>1</td>\n",
              "      <td>5</td>\n",
              "      <td>6.00</td>\n",
              "      <td>10.16</td>\n",
              "      <td>6</td>\n",
              "      <td>5</td>\n",
              "      <td>455.21</td>\n",
              "      <td>3.22</td>\n",
              "      <td>451.84</td>\n",
              "      <td>117</td>\n",
              "      <td>380.00</td>\n",
              "      <td>2.29</td>\n",
              "      <td>5.79</td>\n",
              "      <td>2.43</td>\n",
              "      <td>52</td>\n",
              "      <td>0.19</td>\n",
              "      <td>2.29</td>\n",
              "      <td>5.79</td>\n",
              "      <td>2.43</td>\n",
              "      <td>5.43</td>\n",
              "      <td>24.05</td>\n",
              "      <td>3.67</td>\n",
              "      <td>-0.14</td>\n",
              "      <td>3.0</td>\n",
              "      <td>5</td>\n",
              "      <td>0.00</td>\n",
              "      <td>-0.43</td>\n",
              "      <td>0</td>\n",
              "    </tr>\n",
              "    <tr>\n",
              "      <th>7</th>\n",
              "      <td>1</td>\n",
              "      <td>2</td>\n",
              "      <td>5.00</td>\n",
              "      <td>8.60</td>\n",
              "      <td>4</td>\n",
              "      <td>12</td>\n",
              "      <td>479.52</td>\n",
              "      <td>3.91</td>\n",
              "      <td>466.43</td>\n",
              "      <td>93</td>\n",
              "      <td>380.00</td>\n",
              "      <td>3.71</td>\n",
              "      <td>5.46</td>\n",
              "      <td>2.43</td>\n",
              "      <td>29</td>\n",
              "      <td>0.28</td>\n",
              "      <td>3.71</td>\n",
              "      <td>5.46</td>\n",
              "      <td>2.43</td>\n",
              "      <td>4.43</td>\n",
              "      <td>24.42</td>\n",
              "      <td>3.70</td>\n",
              "      <td>1.28</td>\n",
              "      <td>3.0</td>\n",
              "      <td>3</td>\n",
              "      <td>0.00</td>\n",
              "      <td>-5.71</td>\n",
              "      <td>0</td>\n",
              "    </tr>\n",
              "    <tr>\n",
              "      <th>8</th>\n",
              "      <td>1</td>\n",
              "      <td>4</td>\n",
              "      <td>4.00</td>\n",
              "      <td>4.50</td>\n",
              "      <td>2</td>\n",
              "      <td>5</td>\n",
              "      <td>388.33</td>\n",
              "      <td>2.84</td>\n",
              "      <td>392.50</td>\n",
              "      <td>12</td>\n",
              "      <td>380.00</td>\n",
              "      <td>2.15</td>\n",
              "      <td>5.42</td>\n",
              "      <td>2.92</td>\n",
              "      <td>7</td>\n",
              "      <td>0.43</td>\n",
              "      <td>2.43</td>\n",
              "      <td>5.50</td>\n",
              "      <td>2.86</td>\n",
              "      <td>5.86</td>\n",
              "      <td>24.18</td>\n",
              "      <td>3.70</td>\n",
              "      <td>-0.43</td>\n",
              "      <td>3.0</td>\n",
              "      <td>2</td>\n",
              "      <td>0.00</td>\n",
              "      <td>-1.39</td>\n",
              "      <td>0</td>\n",
              "    </tr>\n",
              "    <tr>\n",
              "      <th>9</th>\n",
              "      <td>1</td>\n",
              "      <td>6</td>\n",
              "      <td>5.00</td>\n",
              "      <td>5.14</td>\n",
              "      <td>3</td>\n",
              "      <td>13</td>\n",
              "      <td>400.87</td>\n",
              "      <td>3.35</td>\n",
              "      <td>408.57</td>\n",
              "      <td>138</td>\n",
              "      <td>425.71</td>\n",
              "      <td>5.51</td>\n",
              "      <td>7.60</td>\n",
              "      <td>2.89</td>\n",
              "      <td>106</td>\n",
              "      <td>0.23</td>\n",
              "      <td>3.86</td>\n",
              "      <td>7.00</td>\n",
              "      <td>2.71</td>\n",
              "      <td>3.71</td>\n",
              "      <td>20.69</td>\n",
              "      <td>3.68</td>\n",
              "      <td>1.15</td>\n",
              "      <td>3.0</td>\n",
              "      <td>4</td>\n",
              "      <td>0.00</td>\n",
              "      <td>-11.00</td>\n",
              "      <td>0</td>\n",
              "    </tr>\n",
              "    <tr>\n",
              "      <th>10</th>\n",
              "      <td>1</td>\n",
              "      <td>3</td>\n",
              "      <td>3.50</td>\n",
              "      <td>3.83</td>\n",
              "      <td>1</td>\n",
              "      <td>12</td>\n",
              "      <td>451.62</td>\n",
              "      <td>3.11</td>\n",
              "      <td>456.67</td>\n",
              "      <td>40</td>\n",
              "      <td>481.43</td>\n",
              "      <td>3.57</td>\n",
              "      <td>6.93</td>\n",
              "      <td>4.14</td>\n",
              "      <td>18</td>\n",
              "      <td>0.22</td>\n",
              "      <td>2.29</td>\n",
              "      <td>5.71</td>\n",
              "      <td>4.71</td>\n",
              "      <td>3.86</td>\n",
              "      <td>24.08</td>\n",
              "      <td>3.72</td>\n",
              "      <td>-2.42</td>\n",
              "      <td>3.0</td>\n",
              "      <td>1</td>\n",
              "      <td>0.00</td>\n",
              "      <td>-2.21</td>\n",
              "      <td>1</td>\n",
              "    </tr>\n",
              "    <tr>\n",
              "      <th>11</th>\n",
              "      <td>1</td>\n",
              "      <td>1</td>\n",
              "      <td>7.00</td>\n",
              "      <td>8.68</td>\n",
              "      <td>5</td>\n",
              "      <td>5</td>\n",
              "      <td>438.35</td>\n",
              "      <td>3.22</td>\n",
              "      <td>416.09</td>\n",
              "      <td>52</td>\n",
              "      <td>471.43</td>\n",
              "      <td>2.29</td>\n",
              "      <td>4.86</td>\n",
              "      <td>4.00</td>\n",
              "      <td>27</td>\n",
              "      <td>0.19</td>\n",
              "      <td>2.14</td>\n",
              "      <td>4.46</td>\n",
              "      <td>4.29</td>\n",
              "      <td>6.00</td>\n",
              "      <td>20.70</td>\n",
              "      <td>3.74</td>\n",
              "      <td>-2.15</td>\n",
              "      <td>3.0</td>\n",
              "      <td>6</td>\n",
              "      <td>0.00</td>\n",
              "      <td>-8.04</td>\n",
              "      <td>0</td>\n",
              "    </tr>\n",
              "  </tbody>\n",
              "</table>\n",
              "</div>"
            ],
            "text/plain": [
              "    Race_ID  Trap  Odds    BSP  ...  Finished  Wide_380  Dist_By  Winner\n",
              "0         0     6  2.75   4.00  ...         4      0.00   -10.50       0\n",
              "1         0     3  5.00   7.60  ...         1      0.14    -4.71       1\n",
              "2         0     5  5.00   9.40  ...         3      0.00    -2.86       0\n",
              "3         0     4  7.00   7.80  ...         2      0.00    -2.71       0\n",
              "4         0     2  5.00   5.10  ...         6      0.00    -2.32       0\n",
              "5         0     1  6.00   5.34  ...         5      0.00    -4.43       0\n",
              "6         1     5  6.00  10.16  ...         5      0.00    -0.43       0\n",
              "7         1     2  5.00   8.60  ...         3      0.00    -5.71       0\n",
              "8         1     4  4.00   4.50  ...         2      0.00    -1.39       0\n",
              "9         1     6  5.00   5.14  ...         4      0.00   -11.00       0\n",
              "10        1     3  3.50   3.83  ...         1      0.00    -2.21       1\n",
              "11        1     1  7.00   8.68  ...         6      0.00    -8.04       0\n",
              "\n",
              "[12 rows x 28 columns]"
            ]
          },
          "metadata": {},
          "execution_count": 6
        }
      ]
    },
    {
      "cell_type": "code",
      "metadata": {
        "colab": {
          "base_uri": "https://localhost:8080/",
          "height": 0
        },
        "id": "1oxTcDFH17Sn",
        "outputId": "b732cbd9-e533-4f07-9464-6e77b78d31ea"
      },
      "source": [
        "df.tail()"
      ],
      "execution_count": 7,
      "outputs": [
        {
          "output_type": "execute_result",
          "data": {
            "text/html": [
              "<div>\n",
              "<style scoped>\n",
              "    .dataframe tbody tr th:only-of-type {\n",
              "        vertical-align: middle;\n",
              "    }\n",
              "\n",
              "    .dataframe tbody tr th {\n",
              "        vertical-align: top;\n",
              "    }\n",
              "\n",
              "    .dataframe thead th {\n",
              "        text-align: right;\n",
              "    }\n",
              "</style>\n",
              "<table border=\"1\" class=\"dataframe\">\n",
              "  <thead>\n",
              "    <tr style=\"text-align: right;\">\n",
              "      <th></th>\n",
              "      <th>Race_ID</th>\n",
              "      <th>Trap</th>\n",
              "      <th>Odds</th>\n",
              "      <th>BSP</th>\n",
              "      <th>Public_Estimate</th>\n",
              "      <th>Last_Run</th>\n",
              "      <th>Distance_All</th>\n",
              "      <th>Finish_All</th>\n",
              "      <th>Distance_Places_All</th>\n",
              "      <th>Races_All</th>\n",
              "      <th>Distance_Recent</th>\n",
              "      <th>Finish_Recent</th>\n",
              "      <th>Odds_Recent</th>\n",
              "      <th>Early_Recent</th>\n",
              "      <th>Races_380</th>\n",
              "      <th>Wins_380</th>\n",
              "      <th>Finish_380</th>\n",
              "      <th>Odds_380</th>\n",
              "      <th>Early_380</th>\n",
              "      <th>Grade_380</th>\n",
              "      <th>Time_380</th>\n",
              "      <th>Early_Time_380</th>\n",
              "      <th>Stay_380</th>\n",
              "      <th>Favourite</th>\n",
              "      <th>Finished</th>\n",
              "      <th>Wide_380</th>\n",
              "      <th>Dist_By</th>\n",
              "      <th>Winner</th>\n",
              "    </tr>\n",
              "  </thead>\n",
              "  <tbody>\n",
              "    <tr>\n",
              "      <th>12001</th>\n",
              "      <td>2000</td>\n",
              "      <td>4</td>\n",
              "      <td>3.5</td>\n",
              "      <td>4.67</td>\n",
              "      <td>3</td>\n",
              "      <td>4</td>\n",
              "      <td>408.19</td>\n",
              "      <td>3.25</td>\n",
              "      <td>383.91</td>\n",
              "      <td>52</td>\n",
              "      <td>380.00</td>\n",
              "      <td>3.23</td>\n",
              "      <td>5.42</td>\n",
              "      <td>4.62</td>\n",
              "      <td>35</td>\n",
              "      <td>0.110000</td>\n",
              "      <td>3.000000</td>\n",
              "      <td>5.36000</td>\n",
              "      <td>5.000000</td>\n",
              "      <td>5.71</td>\n",
              "      <td>24.13</td>\n",
              "      <td>3.75</td>\n",
              "      <td>-2.000000</td>\n",
              "      <td>1.0</td>\n",
              "      <td>4</td>\n",
              "      <td>0.000000</td>\n",
              "      <td>-3.50000</td>\n",
              "      <td>0</td>\n",
              "    </tr>\n",
              "    <tr>\n",
              "      <th>12002</th>\n",
              "      <td>2000</td>\n",
              "      <td>2</td>\n",
              "      <td>7.0</td>\n",
              "      <td>9.36</td>\n",
              "      <td>6</td>\n",
              "      <td>8</td>\n",
              "      <td>418.62</td>\n",
              "      <td>3.82</td>\n",
              "      <td>412.00</td>\n",
              "      <td>58</td>\n",
              "      <td>425.71</td>\n",
              "      <td>6.30</td>\n",
              "      <td>6.55</td>\n",
              "      <td>6.04</td>\n",
              "      <td>37</td>\n",
              "      <td>0.140000</td>\n",
              "      <td>4.710000</td>\n",
              "      <td>6.43000</td>\n",
              "      <td>5.000000</td>\n",
              "      <td>4.86</td>\n",
              "      <td>20.81</td>\n",
              "      <td>3.73</td>\n",
              "      <td>-0.290000</td>\n",
              "      <td>1.0</td>\n",
              "      <td>3</td>\n",
              "      <td>0.000000</td>\n",
              "      <td>-12.43000</td>\n",
              "      <td>0</td>\n",
              "    </tr>\n",
              "    <tr>\n",
              "      <th>12003</th>\n",
              "      <td>2000</td>\n",
              "      <td>5</td>\n",
              "      <td>5.0</td>\n",
              "      <td>4.35</td>\n",
              "      <td>2</td>\n",
              "      <td>7</td>\n",
              "      <td>400.00</td>\n",
              "      <td>4.05</td>\n",
              "      <td>410.00</td>\n",
              "      <td>9</td>\n",
              "      <td>380.00</td>\n",
              "      <td>3.82</td>\n",
              "      <td>8.00</td>\n",
              "      <td>4.73</td>\n",
              "      <td>4</td>\n",
              "      <td>0.000000</td>\n",
              "      <td>4.000000</td>\n",
              "      <td>8.00000</td>\n",
              "      <td>4.750000</td>\n",
              "      <td>6.00</td>\n",
              "      <td>24.36</td>\n",
              "      <td>3.74</td>\n",
              "      <td>-0.750000</td>\n",
              "      <td>1.0</td>\n",
              "      <td>6</td>\n",
              "      <td>0.000000</td>\n",
              "      <td>-4.75000</td>\n",
              "      <td>0</td>\n",
              "    </tr>\n",
              "    <tr>\n",
              "      <th>12004</th>\n",
              "      <td>2000</td>\n",
              "      <td>1</td>\n",
              "      <td>4.0</td>\n",
              "      <td>3.86</td>\n",
              "      <td>1</td>\n",
              "      <td>3</td>\n",
              "      <td>436.36</td>\n",
              "      <td>4.82</td>\n",
              "      <td>442.00</td>\n",
              "      <td>22</td>\n",
              "      <td>457.14</td>\n",
              "      <td>4.34</td>\n",
              "      <td>6.75</td>\n",
              "      <td>4.14</td>\n",
              "      <td>0</td>\n",
              "      <td>0.182501</td>\n",
              "      <td>3.430684</td>\n",
              "      <td>5.29702</td>\n",
              "      <td>3.487433</td>\n",
              "      <td>5.71</td>\n",
              "      <td>24.13</td>\n",
              "      <td>3.74</td>\n",
              "      <td>-0.056749</td>\n",
              "      <td>1.0</td>\n",
              "      <td>2</td>\n",
              "      <td>0.068085</td>\n",
              "      <td>-4.48688</td>\n",
              "      <td>0</td>\n",
              "    </tr>\n",
              "    <tr>\n",
              "      <th>12005</th>\n",
              "      <td>2000</td>\n",
              "      <td>3</td>\n",
              "      <td>5.0</td>\n",
              "      <td>8.31</td>\n",
              "      <td>5</td>\n",
              "      <td>4</td>\n",
              "      <td>418.18</td>\n",
              "      <td>5.66</td>\n",
              "      <td>422.50</td>\n",
              "      <td>22</td>\n",
              "      <td>380.00</td>\n",
              "      <td>6.61</td>\n",
              "      <td>5.75</td>\n",
              "      <td>6.22</td>\n",
              "      <td>6</td>\n",
              "      <td>0.170000</td>\n",
              "      <td>4.830000</td>\n",
              "      <td>5.67000</td>\n",
              "      <td>4.670000</td>\n",
              "      <td>5.00</td>\n",
              "      <td>16.35</td>\n",
              "      <td>3.77</td>\n",
              "      <td>0.160000</td>\n",
              "      <td>1.0</td>\n",
              "      <td>5</td>\n",
              "      <td>0.170000</td>\n",
              "      <td>-21.00000</td>\n",
              "      <td>0</td>\n",
              "    </tr>\n",
              "  </tbody>\n",
              "</table>\n",
              "</div>"
            ],
            "text/plain": [
              "       Race_ID  Trap  Odds   BSP  ...  Finished  Wide_380   Dist_By  Winner\n",
              "12001     2000     4   3.5  4.67  ...         4  0.000000  -3.50000       0\n",
              "12002     2000     2   7.0  9.36  ...         3  0.000000 -12.43000       0\n",
              "12003     2000     5   5.0  4.35  ...         6  0.000000  -4.75000       0\n",
              "12004     2000     1   4.0  3.86  ...         2  0.068085  -4.48688       0\n",
              "12005     2000     3   5.0  8.31  ...         5  0.170000 -21.00000       0\n",
              "\n",
              "[5 rows x 28 columns]"
            ]
          },
          "metadata": {},
          "execution_count": 7
        }
      ]
    },
    {
      "cell_type": "code",
      "metadata": {
        "colab": {
          "base_uri": "https://localhost:8080/"
        },
        "id": "UXTRJqOZ1BnZ",
        "outputId": "72c155f5-f929-4cb3-94e2-410161e83dce"
      },
      "source": [
        "# Check data types, all are float or integer values\n",
        "\n",
        "df.dtypes"
      ],
      "execution_count": 8,
      "outputs": [
        {
          "output_type": "execute_result",
          "data": {
            "text/plain": [
              "Race_ID                  int64\n",
              "Trap                     int64\n",
              "Odds                   float64\n",
              "BSP                    float64\n",
              "Public_Estimate          int64\n",
              "Last_Run                 int64\n",
              "Distance_All           float64\n",
              "Finish_All             float64\n",
              "Distance_Places_All    float64\n",
              "Races_All                int64\n",
              "Distance_Recent        float64\n",
              "Finish_Recent          float64\n",
              "Odds_Recent            float64\n",
              "Early_Recent           float64\n",
              "Races_380                int64\n",
              "Wins_380               float64\n",
              "Finish_380             float64\n",
              "Odds_380               float64\n",
              "Early_380              float64\n",
              "Grade_380              float64\n",
              "Time_380               float64\n",
              "Early_Time_380         float64\n",
              "Stay_380               float64\n",
              "Favourite              float64\n",
              "Finished                 int64\n",
              "Wide_380               float64\n",
              "Dist_By                float64\n",
              "Winner                   int64\n",
              "dtype: object"
            ]
          },
          "metadata": {},
          "execution_count": 8
        }
      ]
    },
    {
      "cell_type": "code",
      "metadata": {
        "colab": {
          "base_uri": "https://localhost:8080/"
        },
        "id": "8sMEMntq1O0o",
        "outputId": "69464715-a247-4440-95b0-0d3aa3eae4d8"
      },
      "source": [
        "# Check for null values - no nulls\n",
        "\n",
        "df.isnull().sum()"
      ],
      "execution_count": 9,
      "outputs": [
        {
          "output_type": "execute_result",
          "data": {
            "text/plain": [
              "Race_ID                0\n",
              "Trap                   0\n",
              "Odds                   0\n",
              "BSP                    0\n",
              "Public_Estimate        0\n",
              "Last_Run               0\n",
              "Distance_All           0\n",
              "Finish_All             0\n",
              "Distance_Places_All    0\n",
              "Races_All              0\n",
              "Distance_Recent        0\n",
              "Finish_Recent          0\n",
              "Odds_Recent            0\n",
              "Early_Recent           0\n",
              "Races_380              0\n",
              "Wins_380               0\n",
              "Finish_380             0\n",
              "Odds_380               0\n",
              "Early_380              0\n",
              "Grade_380              0\n",
              "Time_380               0\n",
              "Early_Time_380         0\n",
              "Stay_380               0\n",
              "Favourite              0\n",
              "Finished               0\n",
              "Wide_380               0\n",
              "Dist_By                0\n",
              "Winner                 0\n",
              "dtype: int64"
            ]
          },
          "metadata": {},
          "execution_count": 9
        }
      ]
    },
    {
      "cell_type": "code",
      "metadata": {
        "colab": {
          "base_uri": "https://localhost:8080/"
        },
        "id": "Sur6Rsjq2w90",
        "outputId": "913b9636-dbf5-478f-cc2d-c2e03536f072"
      },
      "source": [
        "# 12006 rows, 28 columns - representing 12006 dogs and 28 features\n",
        "\n",
        "df.shape"
      ],
      "execution_count": 10,
      "outputs": [
        {
          "output_type": "execute_result",
          "data": {
            "text/plain": [
              "(12006, 28)"
            ]
          },
          "metadata": {},
          "execution_count": 10
        }
      ]
    },
    {
      "cell_type": "code",
      "metadata": {
        "colab": {
          "base_uri": "https://localhost:8080/"
        },
        "id": "Nca9mFQW25ag",
        "outputId": "3901390c-24df-47b0-f8ff-b68c1242b4d1"
      },
      "source": [
        "# No duplicated rows\n",
        "\n",
        "df.duplicated().sum()"
      ],
      "execution_count": 11,
      "outputs": [
        {
          "output_type": "execute_result",
          "data": {
            "text/plain": [
              "0"
            ]
          },
          "metadata": {},
          "execution_count": 11
        }
      ]
    },
    {
      "cell_type": "code",
      "metadata": {
        "colab": {
          "base_uri": "https://localhost:8080/"
        },
        "id": "YnftCnzo3IrV",
        "outputId": "22826b91-1974-44b0-b124-f3b761e7b965"
      },
      "source": [
        "# Min 2 races ran by greyhound, max 462\n",
        "\n",
        "df.Races_All.min()\n",
        "df.Races_All.max()"
      ],
      "execution_count": 12,
      "outputs": [
        {
          "output_type": "execute_result",
          "data": {
            "text/plain": [
              "462"
            ]
          },
          "metadata": {},
          "execution_count": 12
        }
      ]
    },
    {
      "cell_type": "markdown",
      "metadata": {
        "id": "HfA1HSVD2ep9"
      },
      "source": [
        "# EDA"
      ]
    },
    {
      "cell_type": "code",
      "metadata": {
        "colab": {
          "base_uri": "https://localhost:8080/",
          "height": 317
        },
        "id": "JAGzGzE-1YP5",
        "outputId": "933ffa78-b9ee-4c60-be66-1488c0fbc6e7"
      },
      "source": [
        "df.describe()"
      ],
      "execution_count": null,
      "outputs": [
        {
          "output_type": "execute_result",
          "data": {
            "text/html": [
              "<div>\n",
              "<style scoped>\n",
              "    .dataframe tbody tr th:only-of-type {\n",
              "        vertical-align: middle;\n",
              "    }\n",
              "\n",
              "    .dataframe tbody tr th {\n",
              "        vertical-align: top;\n",
              "    }\n",
              "\n",
              "    .dataframe thead th {\n",
              "        text-align: right;\n",
              "    }\n",
              "</style>\n",
              "<table border=\"1\" class=\"dataframe\">\n",
              "  <thead>\n",
              "    <tr style=\"text-align: right;\">\n",
              "      <th></th>\n",
              "      <th>Race_ID</th>\n",
              "      <th>Trap</th>\n",
              "      <th>Odds</th>\n",
              "      <th>BSP</th>\n",
              "      <th>Public_Estimate</th>\n",
              "      <th>Last_Run</th>\n",
              "      <th>Distance_All</th>\n",
              "      <th>Finish_All</th>\n",
              "      <th>Distance_Places_All</th>\n",
              "      <th>Races_All</th>\n",
              "      <th>Distance_Recent</th>\n",
              "      <th>Finish_Recent</th>\n",
              "      <th>Odds_Recent</th>\n",
              "      <th>Early_Recent</th>\n",
              "      <th>Races_380</th>\n",
              "      <th>Wins_380</th>\n",
              "      <th>Finish_380</th>\n",
              "      <th>Odds_380</th>\n",
              "      <th>Early_380</th>\n",
              "      <th>Grade_380</th>\n",
              "      <th>Time_380</th>\n",
              "      <th>Early_Time_380</th>\n",
              "      <th>Stay_380</th>\n",
              "      <th>Favourite</th>\n",
              "      <th>Finished</th>\n",
              "      <th>Wide_380</th>\n",
              "      <th>Dist_By</th>\n",
              "      <th>Winner</th>\n",
              "    </tr>\n",
              "  </thead>\n",
              "  <tbody>\n",
              "    <tr>\n",
              "      <th>count</th>\n",
              "      <td>12006.00000</td>\n",
              "      <td>12006.000000</td>\n",
              "      <td>12006.000000</td>\n",
              "      <td>12006.000000</td>\n",
              "      <td>12006.000000</td>\n",
              "      <td>12006.000000</td>\n",
              "      <td>12006.000000</td>\n",
              "      <td>12006.000000</td>\n",
              "      <td>12006.000000</td>\n",
              "      <td>12006.000000</td>\n",
              "      <td>12006.000000</td>\n",
              "      <td>12006.000000</td>\n",
              "      <td>12006.000000</td>\n",
              "      <td>12006.000000</td>\n",
              "      <td>12006.000000</td>\n",
              "      <td>12006.000000</td>\n",
              "      <td>12006.000000</td>\n",
              "      <td>12006.000000</td>\n",
              "      <td>12006.000000</td>\n",
              "      <td>12006.000000</td>\n",
              "      <td>12006.000000</td>\n",
              "      <td>12006.000000</td>\n",
              "      <td>12006.000000</td>\n",
              "      <td>12006.000000</td>\n",
              "      <td>12006.000000</td>\n",
              "      <td>12006.000000</td>\n",
              "      <td>12006.000000</td>\n",
              "      <td>12006.000000</td>\n",
              "    </tr>\n",
              "    <tr>\n",
              "      <th>mean</th>\n",
              "      <td>1000.00000</td>\n",
              "      <td>3.500000</td>\n",
              "      <td>5.371940</td>\n",
              "      <td>7.600623</td>\n",
              "      <td>3.501916</td>\n",
              "      <td>7.149592</td>\n",
              "      <td>400.232647</td>\n",
              "      <td>3.666011</td>\n",
              "      <td>399.435106</td>\n",
              "      <td>62.054223</td>\n",
              "      <td>394.522238</td>\n",
              "      <td>3.613933</td>\n",
              "      <td>5.355872</td>\n",
              "      <td>3.608929</td>\n",
              "      <td>41.426287</td>\n",
              "      <td>0.182518</td>\n",
              "      <td>3.429541</td>\n",
              "      <td>5.298725</td>\n",
              "      <td>3.488412</td>\n",
              "      <td>5.703423</td>\n",
              "      <td>24.042455</td>\n",
              "      <td>3.703312</td>\n",
              "      <td>-0.058871</td>\n",
              "      <td>3.442533</td>\n",
              "      <td>3.499500</td>\n",
              "      <td>0.068360</td>\n",
              "      <td>-4.473741</td>\n",
              "      <td>0.166667</td>\n",
              "    </tr>\n",
              "    <tr>\n",
              "      <th>std</th>\n",
              "      <td>577.66293</td>\n",
              "      <td>1.707896</td>\n",
              "      <td>2.208432</td>\n",
              "      <td>4.255454</td>\n",
              "      <td>1.706236</td>\n",
              "      <td>3.346557</td>\n",
              "      <td>28.816968</td>\n",
              "      <td>0.527866</td>\n",
              "      <td>28.957759</td>\n",
              "      <td>56.200429</td>\n",
              "      <td>32.899091</td>\n",
              "      <td>0.860507</td>\n",
              "      <td>1.375506</td>\n",
              "      <td>1.099211</td>\n",
              "      <td>47.747793</td>\n",
              "      <td>0.120820</td>\n",
              "      <td>0.754347</td>\n",
              "      <td>1.265712</td>\n",
              "      <td>1.008654</td>\n",
              "      <td>1.797255</td>\n",
              "      <td>1.290984</td>\n",
              "      <td>0.061315</td>\n",
              "      <td>1.089164</td>\n",
              "      <td>1.744878</td>\n",
              "      <td>1.708042</td>\n",
              "      <td>0.152352</td>\n",
              "      <td>3.036172</td>\n",
              "      <td>0.372694</td>\n",
              "    </tr>\n",
              "    <tr>\n",
              "      <th>min</th>\n",
              "      <td>0.00000</td>\n",
              "      <td>1.000000</td>\n",
              "      <td>1.670000</td>\n",
              "      <td>1.830000</td>\n",
              "      <td>1.000000</td>\n",
              "      <td>2.000000</td>\n",
              "      <td>306.670000</td>\n",
              "      <td>1.830000</td>\n",
              "      <td>307.570000</td>\n",
              "      <td>2.000000</td>\n",
              "      <td>303.000000</td>\n",
              "      <td>1.290000</td>\n",
              "      <td>1.500000</td>\n",
              "      <td>1.000000</td>\n",
              "      <td>0.000000</td>\n",
              "      <td>0.000000</td>\n",
              "      <td>1.000000</td>\n",
              "      <td>1.800000</td>\n",
              "      <td>1.000000</td>\n",
              "      <td>1.000000</td>\n",
              "      <td>0.000000</td>\n",
              "      <td>3.500000</td>\n",
              "      <td>-5.000000</td>\n",
              "      <td>1.000000</td>\n",
              "      <td>1.000000</td>\n",
              "      <td>0.000000</td>\n",
              "      <td>-50.000000</td>\n",
              "      <td>0.000000</td>\n",
              "    </tr>\n",
              "    <tr>\n",
              "      <th>25%</th>\n",
              "      <td>500.00000</td>\n",
              "      <td>2.000000</td>\n",
              "      <td>4.000000</td>\n",
              "      <td>4.610000</td>\n",
              "      <td>2.000000</td>\n",
              "      <td>5.000000</td>\n",
              "      <td>380.000000</td>\n",
              "      <td>3.320000</td>\n",
              "      <td>380.000000</td>\n",
              "      <td>23.000000</td>\n",
              "      <td>380.000000</td>\n",
              "      <td>3.000000</td>\n",
              "      <td>4.460000</td>\n",
              "      <td>2.860000</td>\n",
              "      <td>10.000000</td>\n",
              "      <td>0.120000</td>\n",
              "      <td>3.000000</td>\n",
              "      <td>4.460000</td>\n",
              "      <td>2.710000</td>\n",
              "      <td>4.500000</td>\n",
              "      <td>24.120000</td>\n",
              "      <td>3.660000</td>\n",
              "      <td>-0.800000</td>\n",
              "      <td>2.000000</td>\n",
              "      <td>2.000000</td>\n",
              "      <td>0.000000</td>\n",
              "      <td>-5.430000</td>\n",
              "      <td>0.000000</td>\n",
              "    </tr>\n",
              "    <tr>\n",
              "      <th>50%</th>\n",
              "      <td>1000.00000</td>\n",
              "      <td>3.500000</td>\n",
              "      <td>5.000000</td>\n",
              "      <td>6.400000</td>\n",
              "      <td>4.000000</td>\n",
              "      <td>7.000000</td>\n",
              "      <td>389.520000</td>\n",
              "      <td>3.610000</td>\n",
              "      <td>388.000000</td>\n",
              "      <td>44.000000</td>\n",
              "      <td>380.000000</td>\n",
              "      <td>3.570000</td>\n",
              "      <td>5.170000</td>\n",
              "      <td>3.570000</td>\n",
              "      <td>24.000000</td>\n",
              "      <td>0.180000</td>\n",
              "      <td>3.430000</td>\n",
              "      <td>5.140000</td>\n",
              "      <td>3.487433</td>\n",
              "      <td>6.000000</td>\n",
              "      <td>24.310000</td>\n",
              "      <td>3.700000</td>\n",
              "      <td>0.000000</td>\n",
              "      <td>3.000000</td>\n",
              "      <td>3.000000</td>\n",
              "      <td>0.000000</td>\n",
              "      <td>-4.000000</td>\n",
              "      <td>0.000000</td>\n",
              "    </tr>\n",
              "    <tr>\n",
              "      <th>75%</th>\n",
              "      <td>1500.00000</td>\n",
              "      <td>5.000000</td>\n",
              "      <td>6.000000</td>\n",
              "      <td>9.290000</td>\n",
              "      <td>5.000000</td>\n",
              "      <td>8.000000</td>\n",
              "      <td>413.995000</td>\n",
              "      <td>3.920000</td>\n",
              "      <td>412.967500</td>\n",
              "      <td>84.000000</td>\n",
              "      <td>382.322500</td>\n",
              "      <td>4.120000</td>\n",
              "      <td>6.000000</td>\n",
              "      <td>4.290000</td>\n",
              "      <td>56.000000</td>\n",
              "      <td>0.230000</td>\n",
              "      <td>3.860000</td>\n",
              "      <td>5.960000</td>\n",
              "      <td>4.140000</td>\n",
              "      <td>7.290000</td>\n",
              "      <td>24.510000</td>\n",
              "      <td>3.740000</td>\n",
              "      <td>0.710000</td>\n",
              "      <td>5.000000</td>\n",
              "      <td>5.000000</td>\n",
              "      <td>0.068085</td>\n",
              "      <td>-2.750000</td>\n",
              "      <td>0.000000</td>\n",
              "    </tr>\n",
              "    <tr>\n",
              "      <th>max</th>\n",
              "      <td>2000.00000</td>\n",
              "      <td>6.000000</td>\n",
              "      <td>21.000000</td>\n",
              "      <td>44.000000</td>\n",
              "      <td>6.000000</td>\n",
              "      <td>28.000000</td>\n",
              "      <td>573.160000</td>\n",
              "      <td>7.270000</td>\n",
              "      <td>579.550000</td>\n",
              "      <td>462.000000</td>\n",
              "      <td>614.570000</td>\n",
              "      <td>12.350000</td>\n",
              "      <td>16.640000</td>\n",
              "      <td>10.500000</td>\n",
              "      <td>441.000000</td>\n",
              "      <td>1.000000</td>\n",
              "      <td>6.000000</td>\n",
              "      <td>17.330000</td>\n",
              "      <td>6.000000</td>\n",
              "      <td>8.000000</td>\n",
              "      <td>25.660000</td>\n",
              "      <td>4.210000</td>\n",
              "      <td>5.000000</td>\n",
              "      <td>6.000000</td>\n",
              "      <td>6.000000</td>\n",
              "      <td>1.000000</td>\n",
              "      <td>11.000000</td>\n",
              "      <td>1.000000</td>\n",
              "    </tr>\n",
              "  </tbody>\n",
              "</table>\n",
              "</div>"
            ],
            "text/plain": [
              "           Race_ID          Trap  ...       Dist_By        Winner\n",
              "count  12006.00000  12006.000000  ...  12006.000000  12006.000000\n",
              "mean    1000.00000      3.500000  ...     -4.473741      0.166667\n",
              "std      577.66293      1.707896  ...      3.036172      0.372694\n",
              "min        0.00000      1.000000  ...    -50.000000      0.000000\n",
              "25%      500.00000      2.000000  ...     -5.430000      0.000000\n",
              "50%     1000.00000      3.500000  ...     -4.000000      0.000000\n",
              "75%     1500.00000      5.000000  ...     -2.750000      0.000000\n",
              "max     2000.00000      6.000000  ...     11.000000      1.000000\n",
              "\n",
              "[8 rows x 28 columns]"
            ]
          },
          "metadata": {},
          "execution_count": 9
        }
      ]
    },
    {
      "cell_type": "code",
      "metadata": {
        "colab": {
          "base_uri": "https://localhost:8080/",
          "height": 1000
        },
        "id": "UV3ViHYj2XsF",
        "outputId": "296f6af6-04f7-4543-b5a0-16d909cccef7"
      },
      "source": [
        "# Check correlations in the dataset\n",
        "\n",
        "df.corr()"
      ],
      "execution_count": null,
      "outputs": [
        {
          "output_type": "execute_result",
          "data": {
            "text/html": [
              "<div>\n",
              "<style scoped>\n",
              "    .dataframe tbody tr th:only-of-type {\n",
              "        vertical-align: middle;\n",
              "    }\n",
              "\n",
              "    .dataframe tbody tr th {\n",
              "        vertical-align: top;\n",
              "    }\n",
              "\n",
              "    .dataframe thead th {\n",
              "        text-align: right;\n",
              "    }\n",
              "</style>\n",
              "<table border=\"1\" class=\"dataframe\">\n",
              "  <thead>\n",
              "    <tr style=\"text-align: right;\">\n",
              "      <th></th>\n",
              "      <th>Race_ID</th>\n",
              "      <th>Trap</th>\n",
              "      <th>Odds</th>\n",
              "      <th>BSP</th>\n",
              "      <th>Public_Estimate</th>\n",
              "      <th>Last_Run</th>\n",
              "      <th>Distance_All</th>\n",
              "      <th>Finish_All</th>\n",
              "      <th>Distance_Places_All</th>\n",
              "      <th>Races_All</th>\n",
              "      <th>Distance_Recent</th>\n",
              "      <th>Finish_Recent</th>\n",
              "      <th>Odds_Recent</th>\n",
              "      <th>Early_Recent</th>\n",
              "      <th>Races_380</th>\n",
              "      <th>Wins_380</th>\n",
              "      <th>Finish_380</th>\n",
              "      <th>Odds_380</th>\n",
              "      <th>Early_380</th>\n",
              "      <th>Grade_380</th>\n",
              "      <th>Time_380</th>\n",
              "      <th>Early_Time_380</th>\n",
              "      <th>Stay_380</th>\n",
              "      <th>Favourite</th>\n",
              "      <th>Finished</th>\n",
              "      <th>Wide_380</th>\n",
              "      <th>Dist_By</th>\n",
              "      <th>Winner</th>\n",
              "    </tr>\n",
              "  </thead>\n",
              "  <tbody>\n",
              "    <tr>\n",
              "      <th>Race_ID</th>\n",
              "      <td>1.000000e+00</td>\n",
              "      <td>0.000000</td>\n",
              "      <td>0.007352</td>\n",
              "      <td>0.015184</td>\n",
              "      <td>0.001073</td>\n",
              "      <td>0.012864</td>\n",
              "      <td>-0.006404</td>\n",
              "      <td>-0.010224</td>\n",
              "      <td>-0.002840</td>\n",
              "      <td>-0.000748</td>\n",
              "      <td>-0.001851</td>\n",
              "      <td>-0.007483</td>\n",
              "      <td>-0.014764</td>\n",
              "      <td>-0.002816</td>\n",
              "      <td>0.001488</td>\n",
              "      <td>0.007730</td>\n",
              "      <td>-0.004215</td>\n",
              "      <td>-0.012123</td>\n",
              "      <td>-0.005243</td>\n",
              "      <td>-0.013235</td>\n",
              "      <td>-0.003040</td>\n",
              "      <td>-0.016179</td>\n",
              "      <td>0.001936</td>\n",
              "      <td>-3.335000e-03</td>\n",
              "      <td>0.000089</td>\n",
              "      <td>0.015436</td>\n",
              "      <td>0.000768</td>\n",
              "      <td>6.817943e-19</td>\n",
              "    </tr>\n",
              "    <tr>\n",
              "      <th>Trap</th>\n",
              "      <td>0.000000e+00</td>\n",
              "      <td>1.000000</td>\n",
              "      <td>-0.039046</td>\n",
              "      <td>-0.010928</td>\n",
              "      <td>0.000086</td>\n",
              "      <td>-0.008774</td>\n",
              "      <td>-0.070820</td>\n",
              "      <td>0.008526</td>\n",
              "      <td>-0.072892</td>\n",
              "      <td>-0.001243</td>\n",
              "      <td>-0.034304</td>\n",
              "      <td>0.004960</td>\n",
              "      <td>-0.073423</td>\n",
              "      <td>-0.290623</td>\n",
              "      <td>0.029462</td>\n",
              "      <td>-0.009368</td>\n",
              "      <td>0.015788</td>\n",
              "      <td>-0.076825</td>\n",
              "      <td>-0.287677</td>\n",
              "      <td>0.002056</td>\n",
              "      <td>0.006039</td>\n",
              "      <td>-0.333588</td>\n",
              "      <td>0.277346</td>\n",
              "      <td>0.000000e+00</td>\n",
              "      <td>0.016462</td>\n",
              "      <td>0.440070</td>\n",
              "      <td>0.023114</td>\n",
              "      <td>-3.729661e-03</td>\n",
              "    </tr>\n",
              "    <tr>\n",
              "      <th>Odds</th>\n",
              "      <td>7.351773e-03</td>\n",
              "      <td>-0.039046</td>\n",
              "      <td>1.000000</td>\n",
              "      <td>0.873613</td>\n",
              "      <td>0.755081</td>\n",
              "      <td>0.075256</td>\n",
              "      <td>0.061957</td>\n",
              "      <td>0.079152</td>\n",
              "      <td>0.061931</td>\n",
              "      <td>0.145791</td>\n",
              "      <td>0.068676</td>\n",
              "      <td>0.101733</td>\n",
              "      <td>0.236960</td>\n",
              "      <td>0.059522</td>\n",
              "      <td>0.129336</td>\n",
              "      <td>-0.050052</td>\n",
              "      <td>0.135067</td>\n",
              "      <td>0.247940</td>\n",
              "      <td>0.071284</td>\n",
              "      <td>0.028887</td>\n",
              "      <td>0.039025</td>\n",
              "      <td>0.143950</td>\n",
              "      <td>0.027532</td>\n",
              "      <td>8.341469e-04</td>\n",
              "      <td>0.207712</td>\n",
              "      <td>-0.028672</td>\n",
              "      <td>-0.071668</td>\n",
              "      <td>-1.597836e-01</td>\n",
              "    </tr>\n",
              "    <tr>\n",
              "      <th>BSP</th>\n",
              "      <td>1.518420e-02</td>\n",
              "      <td>-0.010928</td>\n",
              "      <td>0.873613</td>\n",
              "      <td>1.000000</td>\n",
              "      <td>0.804775</td>\n",
              "      <td>0.072149</td>\n",
              "      <td>0.059474</td>\n",
              "      <td>0.090383</td>\n",
              "      <td>0.059333</td>\n",
              "      <td>0.156367</td>\n",
              "      <td>0.071785</td>\n",
              "      <td>0.104114</td>\n",
              "      <td>0.219201</td>\n",
              "      <td>0.046036</td>\n",
              "      <td>0.143874</td>\n",
              "      <td>-0.054812</td>\n",
              "      <td>0.142594</td>\n",
              "      <td>0.232100</td>\n",
              "      <td>0.060096</td>\n",
              "      <td>0.055517</td>\n",
              "      <td>0.043502</td>\n",
              "      <td>0.143650</td>\n",
              "      <td>0.043106</td>\n",
              "      <td>7.842387e-03</td>\n",
              "      <td>0.223872</td>\n",
              "      <td>-0.008039</td>\n",
              "      <td>-0.078610</td>\n",
              "      <td>-1.638952e-01</td>\n",
              "    </tr>\n",
              "    <tr>\n",
              "      <th>Public_Estimate</th>\n",
              "      <td>1.073486e-03</td>\n",
              "      <td>0.000086</td>\n",
              "      <td>0.755081</td>\n",
              "      <td>0.804775</td>\n",
              "      <td>1.000000</td>\n",
              "      <td>0.055779</td>\n",
              "      <td>0.061839</td>\n",
              "      <td>0.079254</td>\n",
              "      <td>0.061142</td>\n",
              "      <td>0.158367</td>\n",
              "      <td>0.074755</td>\n",
              "      <td>0.090531</td>\n",
              "      <td>0.213441</td>\n",
              "      <td>0.023118</td>\n",
              "      <td>0.144351</td>\n",
              "      <td>-0.042073</td>\n",
              "      <td>0.134295</td>\n",
              "      <td>0.225681</td>\n",
              "      <td>0.042026</td>\n",
              "      <td>0.028831</td>\n",
              "      <td>0.031984</td>\n",
              "      <td>0.117031</td>\n",
              "      <td>0.054093</td>\n",
              "      <td>-1.221839e-03</td>\n",
              "      <td>0.224945</td>\n",
              "      <td>-0.013766</td>\n",
              "      <td>-0.071505</td>\n",
              "      <td>-1.796346e-01</td>\n",
              "    </tr>\n",
              "    <tr>\n",
              "      <th>Last_Run</th>\n",
              "      <td>1.286354e-02</td>\n",
              "      <td>-0.008774</td>\n",
              "      <td>0.075256</td>\n",
              "      <td>0.072149</td>\n",
              "      <td>0.055779</td>\n",
              "      <td>1.000000</td>\n",
              "      <td>-0.008557</td>\n",
              "      <td>0.039175</td>\n",
              "      <td>-0.004500</td>\n",
              "      <td>-0.003015</td>\n",
              "      <td>-0.024130</td>\n",
              "      <td>0.088712</td>\n",
              "      <td>0.067107</td>\n",
              "      <td>0.016858</td>\n",
              "      <td>0.002104</td>\n",
              "      <td>-0.002233</td>\n",
              "      <td>0.079711</td>\n",
              "      <td>0.058539</td>\n",
              "      <td>0.006887</td>\n",
              "      <td>-0.032391</td>\n",
              "      <td>0.019982</td>\n",
              "      <td>0.009531</td>\n",
              "      <td>0.048829</td>\n",
              "      <td>3.765005e-03</td>\n",
              "      <td>0.033326</td>\n",
              "      <td>0.021089</td>\n",
              "      <td>-0.049024</td>\n",
              "      <td>-1.825494e-03</td>\n",
              "    </tr>\n",
              "    <tr>\n",
              "      <th>Distance_All</th>\n",
              "      <td>-6.403728e-03</td>\n",
              "      <td>-0.070820</td>\n",
              "      <td>0.061957</td>\n",
              "      <td>0.059474</td>\n",
              "      <td>0.061839</td>\n",
              "      <td>-0.008557</td>\n",
              "      <td>1.000000</td>\n",
              "      <td>0.007917</td>\n",
              "      <td>0.935596</td>\n",
              "      <td>0.086732</td>\n",
              "      <td>0.623185</td>\n",
              "      <td>0.069811</td>\n",
              "      <td>0.131159</td>\n",
              "      <td>0.116862</td>\n",
              "      <td>-0.144475</td>\n",
              "      <td>-0.084631</td>\n",
              "      <td>0.048889</td>\n",
              "      <td>0.110731</td>\n",
              "      <td>0.166314</td>\n",
              "      <td>0.001335</td>\n",
              "      <td>-0.006385</td>\n",
              "      <td>0.177885</td>\n",
              "      <td>-0.120160</td>\n",
              "      <td>-9.467972e-03</td>\n",
              "      <td>0.018103</td>\n",
              "      <td>-0.029313</td>\n",
              "      <td>0.010788</td>\n",
              "      <td>-2.680649e-02</td>\n",
              "    </tr>\n",
              "    <tr>\n",
              "      <th>Finish_All</th>\n",
              "      <td>-1.022402e-02</td>\n",
              "      <td>0.008526</td>\n",
              "      <td>0.079152</td>\n",
              "      <td>0.090383</td>\n",
              "      <td>0.079254</td>\n",
              "      <td>0.039175</td>\n",
              "      <td>0.007917</td>\n",
              "      <td>1.000000</td>\n",
              "      <td>-0.019067</td>\n",
              "      <td>-0.216865</td>\n",
              "      <td>0.027377</td>\n",
              "      <td>0.594869</td>\n",
              "      <td>0.126639</td>\n",
              "      <td>0.317192</td>\n",
              "      <td>-0.218505</td>\n",
              "      <td>-0.422467</td>\n",
              "      <td>0.548077</td>\n",
              "      <td>0.154431</td>\n",
              "      <td>0.245390</td>\n",
              "      <td>0.343719</td>\n",
              "      <td>-0.063403</td>\n",
              "      <td>0.373905</td>\n",
              "      <td>0.152343</td>\n",
              "      <td>1.169319e-02</td>\n",
              "      <td>0.069775</td>\n",
              "      <td>0.016793</td>\n",
              "      <td>-0.440186</td>\n",
              "      <td>-2.756336e-02</td>\n",
              "    </tr>\n",
              "    <tr>\n",
              "      <th>Distance_Places_All</th>\n",
              "      <td>-2.840361e-03</td>\n",
              "      <td>-0.072892</td>\n",
              "      <td>0.061931</td>\n",
              "      <td>0.059333</td>\n",
              "      <td>0.061142</td>\n",
              "      <td>-0.004500</td>\n",
              "      <td>0.935596</td>\n",
              "      <td>-0.019067</td>\n",
              "      <td>1.000000</td>\n",
              "      <td>0.113777</td>\n",
              "      <td>0.575218</td>\n",
              "      <td>0.065376</td>\n",
              "      <td>0.124121</td>\n",
              "      <td>0.118519</td>\n",
              "      <td>-0.111711</td>\n",
              "      <td>-0.105647</td>\n",
              "      <td>0.064551</td>\n",
              "      <td>0.117071</td>\n",
              "      <td>0.171412</td>\n",
              "      <td>0.001758</td>\n",
              "      <td>-0.001194</td>\n",
              "      <td>0.183920</td>\n",
              "      <td>-0.114033</td>\n",
              "      <td>-1.247416e-02</td>\n",
              "      <td>0.015190</td>\n",
              "      <td>-0.029622</td>\n",
              "      <td>0.000036</td>\n",
              "      <td>-2.798433e-02</td>\n",
              "    </tr>\n",
              "    <tr>\n",
              "      <th>Races_All</th>\n",
              "      <td>-7.481375e-04</td>\n",
              "      <td>-0.001243</td>\n",
              "      <td>0.145791</td>\n",
              "      <td>0.156367</td>\n",
              "      <td>0.158367</td>\n",
              "      <td>-0.003015</td>\n",
              "      <td>0.086732</td>\n",
              "      <td>-0.216865</td>\n",
              "      <td>0.113777</td>\n",
              "      <td>1.000000</td>\n",
              "      <td>-0.005865</td>\n",
              "      <td>-0.082271</td>\n",
              "      <td>0.248957</td>\n",
              "      <td>-0.164811</td>\n",
              "      <td>0.933958</td>\n",
              "      <td>-0.026721</td>\n",
              "      <td>0.011291</td>\n",
              "      <td>0.276539</td>\n",
              "      <td>-0.115735</td>\n",
              "      <td>0.018640</td>\n",
              "      <td>0.060019</td>\n",
              "      <td>-0.002159</td>\n",
              "      <td>0.115000</td>\n",
              "      <td>-9.260798e-03</td>\n",
              "      <td>0.007353</td>\n",
              "      <td>-0.004473</td>\n",
              "      <td>0.038754</td>\n",
              "      <td>-2.314764e-02</td>\n",
              "    </tr>\n",
              "    <tr>\n",
              "      <th>Distance_Recent</th>\n",
              "      <td>-1.851498e-03</td>\n",
              "      <td>-0.034304</td>\n",
              "      <td>0.068676</td>\n",
              "      <td>0.071785</td>\n",
              "      <td>0.074755</td>\n",
              "      <td>-0.024130</td>\n",
              "      <td>0.623185</td>\n",
              "      <td>0.027377</td>\n",
              "      <td>0.575218</td>\n",
              "      <td>-0.005865</td>\n",
              "      <td>1.000000</td>\n",
              "      <td>0.049758</td>\n",
              "      <td>0.079469</td>\n",
              "      <td>0.051427</td>\n",
              "      <td>-0.120777</td>\n",
              "      <td>-0.075712</td>\n",
              "      <td>0.045393</td>\n",
              "      <td>0.060118</td>\n",
              "      <td>0.131251</td>\n",
              "      <td>0.032324</td>\n",
              "      <td>-0.027158</td>\n",
              "      <td>0.148580</td>\n",
              "      <td>-0.090110</td>\n",
              "      <td>-7.976599e-03</td>\n",
              "      <td>0.031767</td>\n",
              "      <td>-0.040507</td>\n",
              "      <td>-0.005333</td>\n",
              "      <td>-1.690167e-02</td>\n",
              "    </tr>\n",
              "    <tr>\n",
              "      <th>Finish_Recent</th>\n",
              "      <td>-7.483032e-03</td>\n",
              "      <td>0.004960</td>\n",
              "      <td>0.101733</td>\n",
              "      <td>0.104114</td>\n",
              "      <td>0.090531</td>\n",
              "      <td>0.088712</td>\n",
              "      <td>0.069811</td>\n",
              "      <td>0.594869</td>\n",
              "      <td>0.065376</td>\n",
              "      <td>-0.082271</td>\n",
              "      <td>0.049758</td>\n",
              "      <td>1.000000</td>\n",
              "      <td>0.273774</td>\n",
              "      <td>0.399360</td>\n",
              "      <td>-0.096023</td>\n",
              "      <td>-0.304652</td>\n",
              "      <td>0.762498</td>\n",
              "      <td>0.244595</td>\n",
              "      <td>0.237432</td>\n",
              "      <td>0.087636</td>\n",
              "      <td>-0.107252</td>\n",
              "      <td>0.260294</td>\n",
              "      <td>0.308220</td>\n",
              "      <td>-1.295575e-03</td>\n",
              "      <td>0.049435</td>\n",
              "      <td>0.036313</td>\n",
              "      <td>-0.551935</td>\n",
              "      <td>-2.036846e-02</td>\n",
              "    </tr>\n",
              "    <tr>\n",
              "      <th>Odds_Recent</th>\n",
              "      <td>-1.476366e-02</td>\n",
              "      <td>-0.073423</td>\n",
              "      <td>0.236960</td>\n",
              "      <td>0.219201</td>\n",
              "      <td>0.213441</td>\n",
              "      <td>0.067107</td>\n",
              "      <td>0.131159</td>\n",
              "      <td>0.126639</td>\n",
              "      <td>0.124121</td>\n",
              "      <td>0.248957</td>\n",
              "      <td>0.079469</td>\n",
              "      <td>0.273774</td>\n",
              "      <td>1.000000</td>\n",
              "      <td>0.107965</td>\n",
              "      <td>0.211431</td>\n",
              "      <td>-0.120799</td>\n",
              "      <td>0.295658</td>\n",
              "      <td>0.834641</td>\n",
              "      <td>0.124591</td>\n",
              "      <td>-0.033214</td>\n",
              "      <td>0.024338</td>\n",
              "      <td>0.194802</td>\n",
              "      <td>0.089389</td>\n",
              "      <td>-4.394518e-03</td>\n",
              "      <td>0.061825</td>\n",
              "      <td>-0.053853</td>\n",
              "      <td>-0.191451</td>\n",
              "      <td>-5.013027e-02</td>\n",
              "    </tr>\n",
              "    <tr>\n",
              "      <th>Early_Recent</th>\n",
              "      <td>-2.816021e-03</td>\n",
              "      <td>-0.290623</td>\n",
              "      <td>0.059522</td>\n",
              "      <td>0.046036</td>\n",
              "      <td>0.023118</td>\n",
              "      <td>0.016858</td>\n",
              "      <td>0.116862</td>\n",
              "      <td>0.317192</td>\n",
              "      <td>0.118519</td>\n",
              "      <td>-0.164811</td>\n",
              "      <td>0.051427</td>\n",
              "      <td>0.399360</td>\n",
              "      <td>0.107965</td>\n",
              "      <td>1.000000</td>\n",
              "      <td>-0.197288</td>\n",
              "      <td>-0.203565</td>\n",
              "      <td>0.236919</td>\n",
              "      <td>0.113046</td>\n",
              "      <td>0.873589</td>\n",
              "      <td>0.058500</td>\n",
              "      <td>-0.108189</td>\n",
              "      <td>0.645253</td>\n",
              "      <td>-0.644926</td>\n",
              "      <td>9.704361e-03</td>\n",
              "      <td>-0.003061</td>\n",
              "      <td>-0.120790</td>\n",
              "      <td>-0.239763</td>\n",
              "      <td>-8.947947e-03</td>\n",
              "    </tr>\n",
              "    <tr>\n",
              "      <th>Races_380</th>\n",
              "      <td>1.488366e-03</td>\n",
              "      <td>0.029462</td>\n",
              "      <td>0.129336</td>\n",
              "      <td>0.143874</td>\n",
              "      <td>0.144351</td>\n",
              "      <td>0.002104</td>\n",
              "      <td>-0.144475</td>\n",
              "      <td>-0.218505</td>\n",
              "      <td>-0.111711</td>\n",
              "      <td>0.933958</td>\n",
              "      <td>-0.120777</td>\n",
              "      <td>-0.096023</td>\n",
              "      <td>0.211431</td>\n",
              "      <td>-0.197288</td>\n",
              "      <td>1.000000</td>\n",
              "      <td>-0.014195</td>\n",
              "      <td>0.006993</td>\n",
              "      <td>0.246891</td>\n",
              "      <td>-0.154795</td>\n",
              "      <td>0.043917</td>\n",
              "      <td>0.064275</td>\n",
              "      <td>-0.029331</td>\n",
              "      <td>0.148196</td>\n",
              "      <td>-9.383522e-03</td>\n",
              "      <td>0.005180</td>\n",
              "      <td>0.010365</td>\n",
              "      <td>0.034130</td>\n",
              "      <td>-1.746925e-02</td>\n",
              "    </tr>\n",
              "    <tr>\n",
              "      <th>Wins_380</th>\n",
              "      <td>7.730081e-03</td>\n",
              "      <td>-0.009368</td>\n",
              "      <td>-0.050052</td>\n",
              "      <td>-0.054812</td>\n",
              "      <td>-0.042073</td>\n",
              "      <td>-0.002233</td>\n",
              "      <td>-0.084631</td>\n",
              "      <td>-0.422467</td>\n",
              "      <td>-0.105647</td>\n",
              "      <td>-0.026721</td>\n",
              "      <td>-0.075712</td>\n",
              "      <td>-0.304652</td>\n",
              "      <td>-0.120799</td>\n",
              "      <td>-0.203565</td>\n",
              "      <td>-0.014195</td>\n",
              "      <td>1.000000</td>\n",
              "      <td>-0.477670</td>\n",
              "      <td>-0.158212</td>\n",
              "      <td>-0.262524</td>\n",
              "      <td>-0.333225</td>\n",
              "      <td>-0.051596</td>\n",
              "      <td>-0.379326</td>\n",
              "      <td>-0.087712</td>\n",
              "      <td>-3.170401e-02</td>\n",
              "      <td>0.009016</td>\n",
              "      <td>-0.080483</td>\n",
              "      <td>0.324592</td>\n",
              "      <td>5.294524e-03</td>\n",
              "    </tr>\n",
              "    <tr>\n",
              "      <th>Finish_380</th>\n",
              "      <td>-4.214991e-03</td>\n",
              "      <td>0.015788</td>\n",
              "      <td>0.135067</td>\n",
              "      <td>0.142594</td>\n",
              "      <td>0.134295</td>\n",
              "      <td>0.079711</td>\n",
              "      <td>0.048889</td>\n",
              "      <td>0.548077</td>\n",
              "      <td>0.064551</td>\n",
              "      <td>0.011291</td>\n",
              "      <td>0.045393</td>\n",
              "      <td>0.762498</td>\n",
              "      <td>0.295658</td>\n",
              "      <td>0.236919</td>\n",
              "      <td>0.006993</td>\n",
              "      <td>-0.477670</td>\n",
              "      <td>1.000000</td>\n",
              "      <td>0.335256</td>\n",
              "      <td>0.262950</td>\n",
              "      <td>0.134741</td>\n",
              "      <td>-0.042169</td>\n",
              "      <td>0.302598</td>\n",
              "      <td>0.449080</td>\n",
              "      <td>3.502044e-03</td>\n",
              "      <td>0.053288</td>\n",
              "      <td>0.053372</td>\n",
              "      <td>-0.639161</td>\n",
              "      <td>-2.265360e-02</td>\n",
              "    </tr>\n",
              "    <tr>\n",
              "      <th>Odds_380</th>\n",
              "      <td>-1.212250e-02</td>\n",
              "      <td>-0.076825</td>\n",
              "      <td>0.247940</td>\n",
              "      <td>0.232100</td>\n",
              "      <td>0.225681</td>\n",
              "      <td>0.058539</td>\n",
              "      <td>0.110731</td>\n",
              "      <td>0.154431</td>\n",
              "      <td>0.117071</td>\n",
              "      <td>0.276539</td>\n",
              "      <td>0.060118</td>\n",
              "      <td>0.244595</td>\n",
              "      <td>0.834641</td>\n",
              "      <td>0.113046</td>\n",
              "      <td>0.246891</td>\n",
              "      <td>-0.158212</td>\n",
              "      <td>0.335256</td>\n",
              "      <td>1.000000</td>\n",
              "      <td>0.139906</td>\n",
              "      <td>0.037220</td>\n",
              "      <td>0.027301</td>\n",
              "      <td>0.250953</td>\n",
              "      <td>0.102632</td>\n",
              "      <td>-7.944358e-03</td>\n",
              "      <td>0.062572</td>\n",
              "      <td>-0.050937</td>\n",
              "      <td>-0.223893</td>\n",
              "      <td>-5.233954e-02</td>\n",
              "    </tr>\n",
              "    <tr>\n",
              "      <th>Early_380</th>\n",
              "      <td>-5.242544e-03</td>\n",
              "      <td>-0.287677</td>\n",
              "      <td>0.071284</td>\n",
              "      <td>0.060096</td>\n",
              "      <td>0.042026</td>\n",
              "      <td>0.006887</td>\n",
              "      <td>0.166314</td>\n",
              "      <td>0.245390</td>\n",
              "      <td>0.171412</td>\n",
              "      <td>-0.115735</td>\n",
              "      <td>0.131251</td>\n",
              "      <td>0.237432</td>\n",
              "      <td>0.124591</td>\n",
              "      <td>0.873589</td>\n",
              "      <td>-0.154795</td>\n",
              "      <td>-0.262524</td>\n",
              "      <td>0.262950</td>\n",
              "      <td>0.139906</td>\n",
              "      <td>1.000000</td>\n",
              "      <td>0.068253</td>\n",
              "      <td>-0.040519</td>\n",
              "      <td>0.712576</td>\n",
              "      <td>-0.743963</td>\n",
              "      <td>1.697549e-02</td>\n",
              "      <td>-0.009208</td>\n",
              "      <td>-0.109637</td>\n",
              "      <td>-0.197934</td>\n",
              "      <td>-4.970887e-03</td>\n",
              "    </tr>\n",
              "    <tr>\n",
              "      <th>Grade_380</th>\n",
              "      <td>-1.323530e-02</td>\n",
              "      <td>0.002056</td>\n",
              "      <td>0.028887</td>\n",
              "      <td>0.055517</td>\n",
              "      <td>0.028831</td>\n",
              "      <td>-0.032391</td>\n",
              "      <td>0.001335</td>\n",
              "      <td>0.343719</td>\n",
              "      <td>0.001758</td>\n",
              "      <td>0.018640</td>\n",
              "      <td>0.032324</td>\n",
              "      <td>0.087636</td>\n",
              "      <td>-0.033214</td>\n",
              "      <td>0.058500</td>\n",
              "      <td>0.043917</td>\n",
              "      <td>-0.333225</td>\n",
              "      <td>0.134741</td>\n",
              "      <td>0.037220</td>\n",
              "      <td>0.068253</td>\n",
              "      <td>1.000000</td>\n",
              "      <td>0.160579</td>\n",
              "      <td>0.513779</td>\n",
              "      <td>0.030113</td>\n",
              "      <td>6.031966e-02</td>\n",
              "      <td>0.008554</td>\n",
              "      <td>0.069956</td>\n",
              "      <td>-0.108889</td>\n",
              "      <td>-7.273122e-03</td>\n",
              "    </tr>\n",
              "    <tr>\n",
              "      <th>Time_380</th>\n",
              "      <td>-3.039833e-03</td>\n",
              "      <td>0.006039</td>\n",
              "      <td>0.039025</td>\n",
              "      <td>0.043502</td>\n",
              "      <td>0.031984</td>\n",
              "      <td>0.019982</td>\n",
              "      <td>-0.006385</td>\n",
              "      <td>-0.063403</td>\n",
              "      <td>-0.001194</td>\n",
              "      <td>0.060019</td>\n",
              "      <td>-0.027158</td>\n",
              "      <td>-0.107252</td>\n",
              "      <td>0.024338</td>\n",
              "      <td>-0.108189</td>\n",
              "      <td>0.064275</td>\n",
              "      <td>-0.051596</td>\n",
              "      <td>-0.042169</td>\n",
              "      <td>0.027301</td>\n",
              "      <td>-0.040519</td>\n",
              "      <td>0.160579</td>\n",
              "      <td>1.000000</td>\n",
              "      <td>0.052719</td>\n",
              "      <td>0.008318</td>\n",
              "      <td>2.425493e-02</td>\n",
              "      <td>-0.001633</td>\n",
              "      <td>0.057427</td>\n",
              "      <td>0.654038</td>\n",
              "      <td>-1.254595e-03</td>\n",
              "    </tr>\n",
              "    <tr>\n",
              "      <th>Early_Time_380</th>\n",
              "      <td>-1.617904e-02</td>\n",
              "      <td>-0.333588</td>\n",
              "      <td>0.143950</td>\n",
              "      <td>0.143650</td>\n",
              "      <td>0.117031</td>\n",
              "      <td>0.009531</td>\n",
              "      <td>0.177885</td>\n",
              "      <td>0.373905</td>\n",
              "      <td>0.183920</td>\n",
              "      <td>-0.002159</td>\n",
              "      <td>0.148580</td>\n",
              "      <td>0.260294</td>\n",
              "      <td>0.194802</td>\n",
              "      <td>0.645253</td>\n",
              "      <td>-0.029331</td>\n",
              "      <td>-0.379326</td>\n",
              "      <td>0.302598</td>\n",
              "      <td>0.250953</td>\n",
              "      <td>0.712576</td>\n",
              "      <td>0.513779</td>\n",
              "      <td>0.052719</td>\n",
              "      <td>1.000000</td>\n",
              "      <td>-0.450325</td>\n",
              "      <td>4.759109e-02</td>\n",
              "      <td>0.024740</td>\n",
              "      <td>-0.142852</td>\n",
              "      <td>-0.241454</td>\n",
              "      <td>-3.527311e-02</td>\n",
              "    </tr>\n",
              "    <tr>\n",
              "      <th>Stay_380</th>\n",
              "      <td>1.935746e-03</td>\n",
              "      <td>0.277346</td>\n",
              "      <td>0.027532</td>\n",
              "      <td>0.043106</td>\n",
              "      <td>0.054093</td>\n",
              "      <td>0.048829</td>\n",
              "      <td>-0.120160</td>\n",
              "      <td>0.152343</td>\n",
              "      <td>-0.114033</td>\n",
              "      <td>0.115000</td>\n",
              "      <td>-0.090110</td>\n",
              "      <td>0.308220</td>\n",
              "      <td>0.089389</td>\n",
              "      <td>-0.644926</td>\n",
              "      <td>0.148196</td>\n",
              "      <td>-0.087712</td>\n",
              "      <td>0.449080</td>\n",
              "      <td>0.102632</td>\n",
              "      <td>-0.743963</td>\n",
              "      <td>0.030113</td>\n",
              "      <td>0.008318</td>\n",
              "      <td>-0.450325</td>\n",
              "      <td>1.000000</td>\n",
              "      <td>-1.329518e-02</td>\n",
              "      <td>0.045434</td>\n",
              "      <td>0.138498</td>\n",
              "      <td>-0.259375</td>\n",
              "      <td>-1.108629e-02</td>\n",
              "    </tr>\n",
              "    <tr>\n",
              "      <th>Favourite</th>\n",
              "      <td>-3.335000e-03</td>\n",
              "      <td>0.000000</td>\n",
              "      <td>0.000834</td>\n",
              "      <td>0.007842</td>\n",
              "      <td>-0.001222</td>\n",
              "      <td>0.003765</td>\n",
              "      <td>-0.009468</td>\n",
              "      <td>0.011693</td>\n",
              "      <td>-0.012474</td>\n",
              "      <td>-0.009261</td>\n",
              "      <td>-0.007977</td>\n",
              "      <td>-0.001296</td>\n",
              "      <td>-0.004395</td>\n",
              "      <td>0.009704</td>\n",
              "      <td>-0.009384</td>\n",
              "      <td>-0.031704</td>\n",
              "      <td>0.003502</td>\n",
              "      <td>-0.007944</td>\n",
              "      <td>0.016975</td>\n",
              "      <td>0.060320</td>\n",
              "      <td>0.024255</td>\n",
              "      <td>0.047591</td>\n",
              "      <td>-0.013295</td>\n",
              "      <td>1.000000e+00</td>\n",
              "      <td>-0.000121</td>\n",
              "      <td>-0.000016</td>\n",
              "      <td>0.001902</td>\n",
              "      <td>-3.555259e-19</td>\n",
              "    </tr>\n",
              "    <tr>\n",
              "      <th>Finished</th>\n",
              "      <td>8.856052e-05</td>\n",
              "      <td>0.016462</td>\n",
              "      <td>0.207712</td>\n",
              "      <td>0.223872</td>\n",
              "      <td>0.224945</td>\n",
              "      <td>0.033326</td>\n",
              "      <td>0.018103</td>\n",
              "      <td>0.069775</td>\n",
              "      <td>0.015190</td>\n",
              "      <td>0.007353</td>\n",
              "      <td>0.031767</td>\n",
              "      <td>0.049435</td>\n",
              "      <td>0.061825</td>\n",
              "      <td>-0.003061</td>\n",
              "      <td>0.005180</td>\n",
              "      <td>0.009016</td>\n",
              "      <td>0.053288</td>\n",
              "      <td>0.062572</td>\n",
              "      <td>-0.009208</td>\n",
              "      <td>0.008554</td>\n",
              "      <td>-0.001633</td>\n",
              "      <td>0.024740</td>\n",
              "      <td>0.045434</td>\n",
              "      <td>-1.214351e-04</td>\n",
              "      <td>1.000000</td>\n",
              "      <td>-0.001056</td>\n",
              "      <td>-0.043816</td>\n",
              "      <td>-6.544668e-01</td>\n",
              "    </tr>\n",
              "    <tr>\n",
              "      <th>Wide_380</th>\n",
              "      <td>1.543632e-02</td>\n",
              "      <td>0.440070</td>\n",
              "      <td>-0.028672</td>\n",
              "      <td>-0.008039</td>\n",
              "      <td>-0.013766</td>\n",
              "      <td>0.021089</td>\n",
              "      <td>-0.029313</td>\n",
              "      <td>0.016793</td>\n",
              "      <td>-0.029622</td>\n",
              "      <td>-0.004473</td>\n",
              "      <td>-0.040507</td>\n",
              "      <td>0.036313</td>\n",
              "      <td>-0.053853</td>\n",
              "      <td>-0.120790</td>\n",
              "      <td>0.010365</td>\n",
              "      <td>-0.080483</td>\n",
              "      <td>0.053372</td>\n",
              "      <td>-0.050937</td>\n",
              "      <td>-0.109637</td>\n",
              "      <td>0.069956</td>\n",
              "      <td>0.057427</td>\n",
              "      <td>-0.142852</td>\n",
              "      <td>0.138498</td>\n",
              "      <td>-1.639925e-05</td>\n",
              "      <td>-0.001056</td>\n",
              "      <td>1.000000</td>\n",
              "      <td>0.021948</td>\n",
              "      <td>-1.069088e-02</td>\n",
              "    </tr>\n",
              "    <tr>\n",
              "      <th>Dist_By</th>\n",
              "      <td>7.682250e-04</td>\n",
              "      <td>0.023114</td>\n",
              "      <td>-0.071668</td>\n",
              "      <td>-0.078610</td>\n",
              "      <td>-0.071505</td>\n",
              "      <td>-0.049024</td>\n",
              "      <td>0.010788</td>\n",
              "      <td>-0.440186</td>\n",
              "      <td>0.000036</td>\n",
              "      <td>0.038754</td>\n",
              "      <td>-0.005333</td>\n",
              "      <td>-0.551935</td>\n",
              "      <td>-0.191451</td>\n",
              "      <td>-0.239763</td>\n",
              "      <td>0.034130</td>\n",
              "      <td>0.324592</td>\n",
              "      <td>-0.639161</td>\n",
              "      <td>-0.223893</td>\n",
              "      <td>-0.197934</td>\n",
              "      <td>-0.108889</td>\n",
              "      <td>0.654038</td>\n",
              "      <td>-0.241454</td>\n",
              "      <td>-0.259375</td>\n",
              "      <td>1.902034e-03</td>\n",
              "      <td>-0.043816</td>\n",
              "      <td>0.021948</td>\n",
              "      <td>1.000000</td>\n",
              "      <td>1.819058e-02</td>\n",
              "    </tr>\n",
              "    <tr>\n",
              "      <th>Winner</th>\n",
              "      <td>6.817943e-19</td>\n",
              "      <td>-0.003730</td>\n",
              "      <td>-0.159784</td>\n",
              "      <td>-0.163895</td>\n",
              "      <td>-0.179635</td>\n",
              "      <td>-0.001825</td>\n",
              "      <td>-0.026806</td>\n",
              "      <td>-0.027563</td>\n",
              "      <td>-0.027984</td>\n",
              "      <td>-0.023148</td>\n",
              "      <td>-0.016902</td>\n",
              "      <td>-0.020368</td>\n",
              "      <td>-0.050130</td>\n",
              "      <td>-0.008948</td>\n",
              "      <td>-0.017469</td>\n",
              "      <td>0.005295</td>\n",
              "      <td>-0.022654</td>\n",
              "      <td>-0.052340</td>\n",
              "      <td>-0.004971</td>\n",
              "      <td>-0.007273</td>\n",
              "      <td>-0.001255</td>\n",
              "      <td>-0.035273</td>\n",
              "      <td>-0.011086</td>\n",
              "      <td>-3.555259e-19</td>\n",
              "      <td>-0.654467</td>\n",
              "      <td>-0.010691</td>\n",
              "      <td>0.018191</td>\n",
              "      <td>1.000000e+00</td>\n",
              "    </tr>\n",
              "  </tbody>\n",
              "</table>\n",
              "</div>"
            ],
            "text/plain": [
              "                          Race_ID      Trap  ...   Dist_By        Winner\n",
              "Race_ID              1.000000e+00  0.000000  ...  0.000768  6.817943e-19\n",
              "Trap                 0.000000e+00  1.000000  ...  0.023114 -3.729661e-03\n",
              "Odds                 7.351773e-03 -0.039046  ... -0.071668 -1.597836e-01\n",
              "BSP                  1.518420e-02 -0.010928  ... -0.078610 -1.638952e-01\n",
              "Public_Estimate      1.073486e-03  0.000086  ... -0.071505 -1.796346e-01\n",
              "Last_Run             1.286354e-02 -0.008774  ... -0.049024 -1.825494e-03\n",
              "Distance_All        -6.403728e-03 -0.070820  ...  0.010788 -2.680649e-02\n",
              "Finish_All          -1.022402e-02  0.008526  ... -0.440186 -2.756336e-02\n",
              "Distance_Places_All -2.840361e-03 -0.072892  ...  0.000036 -2.798433e-02\n",
              "Races_All           -7.481375e-04 -0.001243  ...  0.038754 -2.314764e-02\n",
              "Distance_Recent     -1.851498e-03 -0.034304  ... -0.005333 -1.690167e-02\n",
              "Finish_Recent       -7.483032e-03  0.004960  ... -0.551935 -2.036846e-02\n",
              "Odds_Recent         -1.476366e-02 -0.073423  ... -0.191451 -5.013027e-02\n",
              "Early_Recent        -2.816021e-03 -0.290623  ... -0.239763 -8.947947e-03\n",
              "Races_380            1.488366e-03  0.029462  ...  0.034130 -1.746925e-02\n",
              "Wins_380             7.730081e-03 -0.009368  ...  0.324592  5.294524e-03\n",
              "Finish_380          -4.214991e-03  0.015788  ... -0.639161 -2.265360e-02\n",
              "Odds_380            -1.212250e-02 -0.076825  ... -0.223893 -5.233954e-02\n",
              "Early_380           -5.242544e-03 -0.287677  ... -0.197934 -4.970887e-03\n",
              "Grade_380           -1.323530e-02  0.002056  ... -0.108889 -7.273122e-03\n",
              "Time_380            -3.039833e-03  0.006039  ...  0.654038 -1.254595e-03\n",
              "Early_Time_380      -1.617904e-02 -0.333588  ... -0.241454 -3.527311e-02\n",
              "Stay_380             1.935746e-03  0.277346  ... -0.259375 -1.108629e-02\n",
              "Favourite           -3.335000e-03  0.000000  ...  0.001902 -3.555259e-19\n",
              "Finished             8.856052e-05  0.016462  ... -0.043816 -6.544668e-01\n",
              "Wide_380             1.543632e-02  0.440070  ...  0.021948 -1.069088e-02\n",
              "Dist_By              7.682250e-04  0.023114  ...  1.000000  1.819058e-02\n",
              "Winner               6.817943e-19 -0.003730  ...  0.018191  1.000000e+00\n",
              "\n",
              "[28 rows x 28 columns]"
            ]
          },
          "metadata": {},
          "execution_count": 6
        }
      ]
    },
    {
      "cell_type": "code",
      "metadata": {
        "colab": {
          "base_uri": "https://localhost:8080/",
          "height": 533
        },
        "id": "YFFn9WRW4lBx",
        "outputId": "12b00c0b-6718-4866-ce29-dc2495173065"
      },
      "source": [
        "# Visualise correlations with heatmap\n",
        "# Can see strong correlations between Odds, BSP and Public estimate as expected\n",
        "\n",
        "plt.figure(figsize = (16,7))\n",
        "sns.heatmap(df.corr(), vmin=-1.0, cmap='magma')\n",
        "plt.title('Correlations')\n",
        "plt.show()"
      ],
      "execution_count": null,
      "outputs": [
        {
          "output_type": "display_data",
          "data": {
            "image/png": "[encoded data removed]",
            "text/plain": [
              "<Figure size 1152x504 with 2 Axes>"
            ]
          },
          "metadata": {
            "needs_background": "light"
          }
        }
      ]
    },
    {
      "cell_type": "markdown",
      "metadata": {
        "id": "47rOaQN27934"
      },
      "source": [
        "# Train, test, split!"
      ]
    },
    {
      "cell_type": "code",
      "metadata": {
        "id": "n-wY7DrY7_qG"
      },
      "source": [
        "# Create a list for the feature columns\n",
        "# Finished and winner are removed as these are our targets to predict\n",
        "\n",
        "feature_cols = list(df.columns)\n",
        "feature_cols.remove('Finished')\n",
        "feature_cols.remove('Winner')"
      ],
      "execution_count": 13,
      "outputs": []
    },
    {
      "cell_type": "code",
      "metadata": {
        "id": "QohFvflj8wUa"
      },
      "source": [
        "# Define X and y based on feature columns and prediction target\n",
        "# Focusing on winning greyhounds rather than finish position for now\n",
        "\n",
        "X = df[feature_cols]\n",
        "y = df['Winner']"
      ],
      "execution_count": 14,
      "outputs": []
    },
    {
      "cell_type": "code",
      "metadata": {
        "id": "28uel6BeAWHi"
      },
      "source": [
        "# Split the data into train and test sets (80/20 split)\n",
        "\n",
        "X_train, X_test, y_train, y_test = train_test_split(X, y, test_size=0.2, random_state=101)"
      ],
      "execution_count": 15,
      "outputs": []
    },
    {
      "cell_type": "code",
      "metadata": {
        "colab": {
          "base_uri": "https://localhost:8080/"
        },
        "id": "C5NcCq2MAb2w",
        "outputId": "89ebd8f0-b50d-4810-e075-534091c1e05e"
      },
      "source": [
        "# Check the shape of the data to see that it has split correctly\n",
        "\n",
        "print(X_train.shape,y_train.shape,X_test.shape,y_test.shape)"
      ],
      "execution_count": 16,
      "outputs": [
        {
          "output_type": "stream",
          "name": "stdout",
          "text": [
            "(9604, 26) (9604,) (2402, 26) (2402,)\n"
          ]
        }
      ]
    },
    {
      "cell_type": "code",
      "metadata": {
        "id": "auEGZ8qcAg-m"
      },
      "source": [
        "# Feature engineer function to add a constant and remove the Race ID as this will not influence a win\n",
        "\n",
        "def feature_eng(df):\n",
        "  df = df.copy()\n",
        "  df = sm.add_constant(df)\n",
        "  df.drop(inplace = True, columns = ['Race_ID'])\n",
        "\n",
        "  return df"
      ],
      "execution_count": 17,
      "outputs": []
    },
    {
      "cell_type": "code",
      "metadata": {
        "id": "Jz_ogGT-AhCB"
      },
      "source": [
        "# Feature engineer the X sets containing the feature columns\n",
        "\n",
        "X_train_eng = feature_eng(X_train)\n",
        "X_test_eng = feature_eng(X_test)"
      ],
      "execution_count": 18,
      "outputs": []
    },
    {
      "cell_type": "code",
      "metadata": {
        "colab": {
          "base_uri": "https://localhost:8080/",
          "height": 0
        },
        "id": "KL45A3HQG7bt",
        "outputId": "c4170add-a78f-485c-ea8f-04676d7221e2"
      },
      "source": [
        "# Check this has worked \n",
        "\n",
        "X_train_eng.head()"
      ],
      "execution_count": 19,
      "outputs": [
        {
          "output_type": "execute_result",
          "data": {
            "text/html": [
              "<div>\n",
              "<style scoped>\n",
              "    .dataframe tbody tr th:only-of-type {\n",
              "        vertical-align: middle;\n",
              "    }\n",
              "\n",
              "    .dataframe tbody tr th {\n",
              "        vertical-align: top;\n",
              "    }\n",
              "\n",
              "    .dataframe thead th {\n",
              "        text-align: right;\n",
              "    }\n",
              "</style>\n",
              "<table border=\"1\" class=\"dataframe\">\n",
              "  <thead>\n",
              "    <tr style=\"text-align: right;\">\n",
              "      <th></th>\n",
              "      <th>const</th>\n",
              "      <th>Trap</th>\n",
              "      <th>Odds</th>\n",
              "      <th>BSP</th>\n",
              "      <th>Public_Estimate</th>\n",
              "      <th>Last_Run</th>\n",
              "      <th>Distance_All</th>\n",
              "      <th>Finish_All</th>\n",
              "      <th>Distance_Places_All</th>\n",
              "      <th>Races_All</th>\n",
              "      <th>Distance_Recent</th>\n",
              "      <th>Finish_Recent</th>\n",
              "      <th>Odds_Recent</th>\n",
              "      <th>Early_Recent</th>\n",
              "      <th>Races_380</th>\n",
              "      <th>Wins_380</th>\n",
              "      <th>Finish_380</th>\n",
              "      <th>Odds_380</th>\n",
              "      <th>Early_380</th>\n",
              "      <th>Grade_380</th>\n",
              "      <th>Time_380</th>\n",
              "      <th>Early_Time_380</th>\n",
              "      <th>Stay_380</th>\n",
              "      <th>Favourite</th>\n",
              "      <th>Wide_380</th>\n",
              "      <th>Dist_By</th>\n",
              "    </tr>\n",
              "  </thead>\n",
              "  <tbody>\n",
              "    <tr>\n",
              "      <th>10344</th>\n",
              "      <td>1.0</td>\n",
              "      <td>1</td>\n",
              "      <td>5.50</td>\n",
              "      <td>8.82</td>\n",
              "      <td>4</td>\n",
              "      <td>7</td>\n",
              "      <td>380.00</td>\n",
              "      <td>3.60</td>\n",
              "      <td>380.00</td>\n",
              "      <td>50</td>\n",
              "      <td>380.0</td>\n",
              "      <td>4.14</td>\n",
              "      <td>6.00</td>\n",
              "      <td>5.43</td>\n",
              "      <td>46</td>\n",
              "      <td>0.15</td>\n",
              "      <td>4.14</td>\n",
              "      <td>6.00</td>\n",
              "      <td>5.43</td>\n",
              "      <td>7.86</td>\n",
              "      <td>24.63</td>\n",
              "      <td>3.79</td>\n",
              "      <td>-1.29</td>\n",
              "      <td>5.0</td>\n",
              "      <td>0.00</td>\n",
              "      <td>-3.29</td>\n",
              "    </tr>\n",
              "    <tr>\n",
              "      <th>6277</th>\n",
              "      <td>1.0</td>\n",
              "      <td>5</td>\n",
              "      <td>4.50</td>\n",
              "      <td>5.90</td>\n",
              "      <td>2</td>\n",
              "      <td>5</td>\n",
              "      <td>380.00</td>\n",
              "      <td>3.48</td>\n",
              "      <td>380.00</td>\n",
              "      <td>18</td>\n",
              "      <td>380.0</td>\n",
              "      <td>3.29</td>\n",
              "      <td>3.82</td>\n",
              "      <td>3.71</td>\n",
              "      <td>14</td>\n",
              "      <td>0.14</td>\n",
              "      <td>3.29</td>\n",
              "      <td>3.82</td>\n",
              "      <td>3.71</td>\n",
              "      <td>6.57</td>\n",
              "      <td>24.44</td>\n",
              "      <td>3.65</td>\n",
              "      <td>-0.42</td>\n",
              "      <td>1.0</td>\n",
              "      <td>0.29</td>\n",
              "      <td>-5.11</td>\n",
              "    </tr>\n",
              "    <tr>\n",
              "      <th>10907</th>\n",
              "      <td>1.0</td>\n",
              "      <td>6</td>\n",
              "      <td>2.75</td>\n",
              "      <td>3.60</td>\n",
              "      <td>1</td>\n",
              "      <td>14</td>\n",
              "      <td>446.21</td>\n",
              "      <td>2.75</td>\n",
              "      <td>438.82</td>\n",
              "      <td>29</td>\n",
              "      <td>380.0</td>\n",
              "      <td>2.40</td>\n",
              "      <td>4.90</td>\n",
              "      <td>4.29</td>\n",
              "      <td>5</td>\n",
              "      <td>0.20</td>\n",
              "      <td>2.20</td>\n",
              "      <td>4.90</td>\n",
              "      <td>4.40</td>\n",
              "      <td>5.00</td>\n",
              "      <td>24.09</td>\n",
              "      <td>3.70</td>\n",
              "      <td>-2.20</td>\n",
              "      <td>6.0</td>\n",
              "      <td>0.20</td>\n",
              "      <td>-1.65</td>\n",
              "    </tr>\n",
              "    <tr>\n",
              "      <th>11018</th>\n",
              "      <td>1.0</td>\n",
              "      <td>4</td>\n",
              "      <td>7.00</td>\n",
              "      <td>9.93</td>\n",
              "      <td>5</td>\n",
              "      <td>7</td>\n",
              "      <td>410.54</td>\n",
              "      <td>3.28</td>\n",
              "      <td>384.53</td>\n",
              "      <td>48</td>\n",
              "      <td>380.0</td>\n",
              "      <td>3.71</td>\n",
              "      <td>4.93</td>\n",
              "      <td>4.71</td>\n",
              "      <td>32</td>\n",
              "      <td>0.12</td>\n",
              "      <td>3.71</td>\n",
              "      <td>4.93</td>\n",
              "      <td>4.71</td>\n",
              "      <td>5.29</td>\n",
              "      <td>24.28</td>\n",
              "      <td>3.75</td>\n",
              "      <td>-1.00</td>\n",
              "      <td>2.0</td>\n",
              "      <td>0.00</td>\n",
              "      <td>-4.89</td>\n",
              "    </tr>\n",
              "    <tr>\n",
              "      <th>10875</th>\n",
              "      <td>1.0</td>\n",
              "      <td>3</td>\n",
              "      <td>4.00</td>\n",
              "      <td>4.20</td>\n",
              "      <td>1</td>\n",
              "      <td>10</td>\n",
              "      <td>374.07</td>\n",
              "      <td>3.08</td>\n",
              "      <td>369.62</td>\n",
              "      <td>14</td>\n",
              "      <td>380.0</td>\n",
              "      <td>2.71</td>\n",
              "      <td>3.26</td>\n",
              "      <td>3.71</td>\n",
              "      <td>9</td>\n",
              "      <td>0.33</td>\n",
              "      <td>2.71</td>\n",
              "      <td>3.26</td>\n",
              "      <td>3.71</td>\n",
              "      <td>4.14</td>\n",
              "      <td>24.06</td>\n",
              "      <td>3.66</td>\n",
              "      <td>-1.00</td>\n",
              "      <td>3.0</td>\n",
              "      <td>0.00</td>\n",
              "      <td>-3.36</td>\n",
              "    </tr>\n",
              "  </tbody>\n",
              "</table>\n",
              "</div>"
            ],
            "text/plain": [
              "       const  Trap  Odds   BSP  ...  Stay_380  Favourite  Wide_380  Dist_By\n",
              "10344    1.0     1  5.50  8.82  ...     -1.29        5.0      0.00    -3.29\n",
              "6277     1.0     5  4.50  5.90  ...     -0.42        1.0      0.29    -5.11\n",
              "10907    1.0     6  2.75  3.60  ...     -2.20        6.0      0.20    -1.65\n",
              "11018    1.0     4  7.00  9.93  ...     -1.00        2.0      0.00    -4.89\n",
              "10875    1.0     3  4.00  4.20  ...     -1.00        3.0      0.00    -3.36\n",
              "\n",
              "[5 rows x 26 columns]"
            ]
          },
          "metadata": {},
          "execution_count": 19
        }
      ]
    },
    {
      "cell_type": "markdown",
      "metadata": {
        "id": "eF5wi9cPA6M4"
      },
      "source": [
        "# Functions"
      ]
    },
    {
      "cell_type": "code",
      "metadata": {
        "id": "LyZq0WiFA8nb"
      },
      "source": [
        "# Logistic regression funtion\n",
        "\n",
        "def run_logit(dfx, dfy, feature_cols):\n",
        "  y = dfy\n",
        "  X = dfx[feature_cols]\n",
        "  return sm.Logit(y, X).fit()"
      ],
      "execution_count": 20,
      "outputs": []
    },
    {
      "cell_type": "code",
      "metadata": {
        "id": "XzSKk4mCBRIn"
      },
      "source": [
        "# APR function\n",
        "\n",
        "def apr(y_pred, y_real):\n",
        "    accuracy = accuracy_score(y_real, y_pred)\n",
        "    precision = precision_score(y_real, y_pred)\n",
        "    recall = recall_score(y_real, y_pred)\n",
        "    f1 = f1_score(y_real, y_pred)\n",
        "\n",
        "    print(f\"Accuracy:{accuracy}\")\n",
        "    print(f\"Precision:{precision}\")\n",
        "    print(f\"Recall:{recall}\")\n",
        "    print(f\"F1:{f1}\")\n",
        "    return accuracy, precision, recall, f1"
      ],
      "execution_count": 21,
      "outputs": []
    },
    {
      "cell_type": "code",
      "metadata": {
        "id": "3OrhpvYMBnWt"
      },
      "source": [
        "#Metrics functions\n",
        "\n",
        "##positive label = y = 1 class \n",
        "##negative label = y = 0 class \n",
        "\n",
        "## y = Winner\n",
        "## y = 1 'Won'\n",
        "## y = 0 'Losr'\n",
        "\n",
        "def produce_confusion(positive_label, negative_label, cut_off, dfx, dfy, y_pred_name):\n",
        "\n",
        "    #Set pred to 0 or 1 depending on whether it's higher than the cut_off point.\n",
        "    dfx['pred_binary'] = np.where(dfx['prediction'] > cut_off , 1, 0)\n",
        "\n",
        "    #Build the CM\n",
        "    cm = confusion_matrix(dfy, dfx['pred_binary'])\n",
        "\n",
        "    ax= plt.subplot()\n",
        "    sns.heatmap(cm, annot=True, ax=ax, fmt='g'); \n",
        "\n",
        "    # labels, title, ticks\n",
        "    ax.set_xlabel('Predicted labels');ax.set_ylabel('Real labels'); \n",
        "    ax.set_title('Confusion Matrix'); \n",
        "    ax.xaxis.set_ticklabels([negative_label, positive_label])\n",
        "    ax.yaxis.set_ticklabels([negative_label, positive_label]);\n",
        "\n",
        "    print('Test accuracy = ', accuracy_score(dfy, dfx['pred_binary']))\n",
        "\n",
        "    return accuracy_score(dfy, dfx['pred_binary'])\n",
        "\n",
        "\n",
        "def metrics(dfx, dfy, model, cut_off, feature_cols):\n",
        "\n",
        "\n",
        "    params = model.params\n",
        "    model.summary()\n",
        "\n",
        "    dfx['prediction'] = model.predict(dfx[feature_cols])\n",
        "    accuracy = produce_confusion('Winner', 'Loser', cut_off, dfx, dfy, 'Winner')\n",
        "    dfx['pred_bins'] = pd.cut(dfx['prediction'], np.arange(0.05,0.95,0.05))\n",
        "    dfx = pd.concat([dfx, dfy], axis =1, join=\"inner\" )\n",
        "    summary = dfx.groupby('pred_bins').agg({'Winner':'mean', 'prediction':['mean','count']})\n",
        "    summary = summary.reset_index()\n",
        "    summary.columns = ['pred_bins','%_Won','avg_prediction','count']\n",
        "\n",
        "    #start bubble chart\n",
        "    plt.figure(figsize=(5, 5), dpi=70)\n",
        "    plt.axis([0, 1, 0, 1])\n",
        "    plt.scatter(summary['avg_prediction'], summary['%_Won'], s=summary['count'])\n",
        "    plt.plot(summary['avg_prediction'], summary['avg_prediction'], color='grey')\n",
        "    plt.xlabel('Logistic model probabilities')\n",
        "    plt.ylabel('% Won')\n",
        "    plt.show()\n",
        "\n",
        "    #start AUC\n",
        "    logit_roc_auc = roc_auc_score(dfx['Winner'], dfx['prediction'])\n",
        "    fpr, tpr, thresholds = roc_curve(dfx['Winner'], dfx['prediction'])\n",
        "    plt.figure()\n",
        "    plt.plot(fpr, tpr, label='Logistic Regression (area = %0.2f)' % logit_roc_auc)\n",
        "    plt.plot([0, 1], [0, 1],'r--')\n",
        "    plt.xlabel('False Positive Rate')\n",
        "    plt.ylabel('True Positive Rate')\n",
        "    plt.title('Receiver operating characteristic')\n",
        "    plt.legend(loc=\"lower right\")\n",
        "    plt.show()\n",
        "\n",
        "    return None"
      ],
      "execution_count": 22,
      "outputs": []
    },
    {
      "cell_type": "markdown",
      "metadata": {
        "id": "RBtqNlD7ddNu"
      },
      "source": [
        "# Trying different models"
      ]
    },
    {
      "cell_type": "markdown",
      "metadata": {
        "id": "TuPB6--BJNvJ"
      },
      "source": [
        "## Run logistic regression"
      ]
    },
    {
      "cell_type": "code",
      "metadata": {
        "id": "9OGWtBaUCvnc"
      },
      "source": [
        "# Try out different test columns to get best performance, removing higher P values one by one\n",
        "\n",
        "test_cols = ['const',\n",
        " #'Trap',\n",
        " 'Odds',\n",
        " 'BSP',\n",
        " 'Public_Estimate',\n",
        " #'Last_Run',\n",
        " #'Distance_All',\n",
        " 'Finish_All',\n",
        " 'Distance_Places_All',\n",
        " #'Races_All',\n",
        " 'Distance_Recent',\n",
        " #'Finish_Recent',\n",
        " #'Odds_Recent',\n",
        " #'Early_Recent',\n",
        " #'Races_380',\n",
        " 'Wins_380',\n",
        " #'Finish_380',\n",
        " #'Odds_380',\n",
        " #'Early_380',\n",
        " #'Grade_380',\n",
        " #'Time_380',\n",
        " #'Early_Time_380',\n",
        " #'Stay_380',\n",
        " #'Favourite',\n",
        " 'Wide_380']\n",
        " #'Dist_By'"
      ],
      "execution_count": null,
      "outputs": []
    },
    {
      "cell_type": "code",
      "metadata": {
        "colab": {
          "base_uri": "https://localhost:8080/",
          "height": 446
        },
        "id": "mZ6NtgdWDP6K",
        "outputId": "9c7b96f2-14fd-4797-bcc2-b7badae97546"
      },
      "source": [
        "# Running the model using the function\n",
        "\n",
        "test_1 = run_logit(X_train_eng, y_train, test_cols)\n",
        "test_1.summary()"
      ],
      "execution_count": null,
      "outputs": [
        {
          "output_type": "stream",
          "name": "stdout",
          "text": [
            "Optimization terminated successfully.\n",
            "         Current function value: 0.434222\n",
            "         Iterations 7\n"
          ]
        },
        {
          "output_type": "execute_result",
          "data": {
            "text/html": [
              "<table class=\"simpletable\">\n",
              "<caption>Logit Regression Results</caption>\n",
              "<tr>\n",
              "  <th>Dep. Variable:</th>        <td>Winner</td>      <th>  No. Observations:  </th>  <td>  9604</td>  \n",
              "</tr>\n",
              "<tr>\n",
              "  <th>Model:</th>                 <td>Logit</td>      <th>  Df Residuals:      </th>  <td>  9595</td>  \n",
              "</tr>\n",
              "<tr>\n",
              "  <th>Method:</th>                 <td>MLE</td>       <th>  Df Model:          </th>  <td>     8</td>  \n",
              "</tr>\n",
              "<tr>\n",
              "  <th>Date:</th>            <td>Tue, 28 Sep 2021</td> <th>  Pseudo R-squ.:     </th>  <td>0.04100</td> \n",
              "</tr>\n",
              "<tr>\n",
              "  <th>Time:</th>                <td>07:57:27</td>     <th>  Log-Likelihood:    </th> <td> -4170.3</td> \n",
              "</tr>\n",
              "<tr>\n",
              "  <th>converged:</th>             <td>True</td>       <th>  LL-Null:           </th> <td> -4348.6</td> \n",
              "</tr>\n",
              "<tr>\n",
              "  <th>Covariance Type:</th>     <td>nonrobust</td>    <th>  LLR p-value:       </th> <td>3.490e-72</td>\n",
              "</tr>\n",
              "</table>\n",
              "<table class=\"simpletable\">\n",
              "<tr>\n",
              "           <td></td>              <th>coef</th>     <th>std err</th>      <th>z</th>      <th>P>|z|</th>  <th>[0.025</th>    <th>0.975]</th>  \n",
              "</tr>\n",
              "<tr>\n",
              "  <th>const</th>               <td>    0.6794</td> <td>    0.505</td> <td>    1.345</td> <td> 0.179</td> <td>   -0.310</td> <td>    1.669</td>\n",
              "</tr>\n",
              "<tr>\n",
              "  <th>Odds</th>                <td>   -0.0621</td> <td>    0.034</td> <td>   -1.822</td> <td> 0.068</td> <td>   -0.129</td> <td>    0.005</td>\n",
              "</tr>\n",
              "<tr>\n",
              "  <th>BSP</th>                 <td>   -0.0577</td> <td>    0.022</td> <td>   -2.676</td> <td> 0.007</td> <td>   -0.100</td> <td>   -0.015</td>\n",
              "</tr>\n",
              "<tr>\n",
              "  <th>Public_Estimate</th>     <td>   -0.1344</td> <td>    0.033</td> <td>   -4.084</td> <td> 0.000</td> <td>   -0.199</td> <td>   -0.070</td>\n",
              "</tr>\n",
              "<tr>\n",
              "  <th>Finish_All</th>          <td>   -0.1426</td> <td>    0.060</td> <td>   -2.393</td> <td> 0.017</td> <td>   -0.259</td> <td>   -0.026</td>\n",
              "</tr>\n",
              "<tr>\n",
              "  <th>Distance_Places_All</th> <td>   -0.0031</td> <td>    0.001</td> <td>   -2.504</td> <td> 0.012</td> <td>   -0.005</td> <td>   -0.001</td>\n",
              "</tr>\n",
              "<tr>\n",
              "  <th>Distance_Recent</th>     <td>    0.0018</td> <td>    0.001</td> <td>    1.724</td> <td> 0.085</td> <td>   -0.000</td> <td>    0.004</td>\n",
              "</tr>\n",
              "<tr>\n",
              "  <th>Wins_380</th>            <td>   -0.4898</td> <td>    0.249</td> <td>   -1.968</td> <td> 0.049</td> <td>   -0.978</td> <td>   -0.002</td>\n",
              "</tr>\n",
              "<tr>\n",
              "  <th>Wide_380</th>            <td>   -0.3226</td> <td>    0.189</td> <td>   -1.706</td> <td> 0.088</td> <td>   -0.693</td> <td>    0.048</td>\n",
              "</tr>\n",
              "</table>"
            ],
            "text/plain": [
              "<class 'statsmodels.iolib.summary.Summary'>\n",
              "\"\"\"\n",
              "                           Logit Regression Results                           \n",
              "==============================================================================\n",
              "Dep. Variable:                 Winner   No. Observations:                 9604\n",
              "Model:                          Logit   Df Residuals:                     9595\n",
              "Method:                           MLE   Df Model:                            8\n",
              "Date:                Tue, 28 Sep 2021   Pseudo R-squ.:                 0.04100\n",
              "Time:                        07:57:27   Log-Likelihood:                -4170.3\n",
              "converged:                       True   LL-Null:                       -4348.6\n",
              "Covariance Type:            nonrobust   LLR p-value:                 3.490e-72\n",
              "=======================================================================================\n",
              "                          coef    std err          z      P>|z|      [0.025      0.975]\n",
              "---------------------------------------------------------------------------------------\n",
              "const                   0.6794      0.505      1.345      0.179      -0.310       1.669\n",
              "Odds                   -0.0621      0.034     -1.822      0.068      -0.129       0.005\n",
              "BSP                    -0.0577      0.022     -2.676      0.007      -0.100      -0.015\n",
              "Public_Estimate        -0.1344      0.033     -4.084      0.000      -0.199      -0.070\n",
              "Finish_All             -0.1426      0.060     -2.393      0.017      -0.259      -0.026\n",
              "Distance_Places_All    -0.0031      0.001     -2.504      0.012      -0.005      -0.001\n",
              "Distance_Recent         0.0018      0.001      1.724      0.085      -0.000       0.004\n",
              "Wins_380               -0.4898      0.249     -1.968      0.049      -0.978      -0.002\n",
              "Wide_380               -0.3226      0.189     -1.706      0.088      -0.693       0.048\n",
              "=======================================================================================\n",
              "\"\"\""
            ]
          },
          "metadata": {},
          "execution_count": 13
        }
      ]
    },
    {
      "cell_type": "code",
      "metadata": {
        "colab": {
          "base_uri": "https://localhost:8080/",
          "height": 902
        },
        "id": "R70ylSaPCvre",
        "outputId": "efb89f2d-bece-4c0f-aa05-64d5f00086bd"
      },
      "source": [
        "# Train metrics\n",
        "# Cut-off is 0.247 as this will assign roughly 1/6 horses winning - as expected\n",
        "\n",
        "metrics(X_train_eng, y_train, test_1, 0.247, test_cols)"
      ],
      "execution_count": null,
      "outputs": [
        {
          "output_type": "stream",
          "name": "stdout",
          "text": [
            "Test accuracy =  0.7656184922948771\n"
          ]
        },
        {
          "output_type": "display_data",
          "data": {
            "image/png": "[encoded data removed]",
            "text/plain": [
              "<Figure size 432x288 with 2 Axes>"
            ]
          },
          "metadata": {
            "needs_background": "light"
          }
        },
        {
          "output_type": "display_data",
          "data": {
            "image/png": "[encoded data removed]",
            "text/plain": [
              "<Figure size 350x350 with 1 Axes>"
            ]
          },
          "metadata": {
            "needs_background": "light"
          }
        },
        {
          "output_type": "display_data",
          "data": {
            "image/png": "[encoded data removed]",
            "text/plain": [
              "<Figure size 432x288 with 1 Axes>"
            ]
          },
          "metadata": {
            "needs_background": "light"
          }
        }
      ]
    },
    {
      "cell_type": "code",
      "metadata": {
        "colab": {
          "base_uri": "https://localhost:8080/",
          "height": 902
        },
        "id": "KVPWxVvICvu3",
        "outputId": "f954123c-8687-4376-d0b8-278dcedc97e2"
      },
      "source": [
        "# Testing on test\n",
        "\n",
        "metrics(X_test_eng, y_test, test_1, 0.247, test_cols)"
      ],
      "execution_count": null,
      "outputs": [
        {
          "output_type": "stream",
          "name": "stdout",
          "text": [
            "Test accuracy =  0.7643630308076603\n"
          ]
        },
        {
          "output_type": "display_data",
          "data": {
            "image/png": "[encoded data removed]",
            "text/plain": [
              "<Figure size 432x288 with 2 Axes>"
            ]
          },
          "metadata": {
            "needs_background": "light"
          }
        },
        {
          "output_type": "display_data",
          "data": {
            "image/png": "[encoded data removed]",
            "text/plain": [
              "<Figure size 350x350 with 1 Axes>"
            ]
          },
          "metadata": {
            "needs_background": "light"
          }
        },
        {
          "output_type": "display_data",
          "data": {
            "image/png": "[encoded data removed]",
            "text/plain": [
              "<Figure size 432x288 with 1 Axes>"
            ]
          },
          "metadata": {
            "needs_background": "light"
          }
        }
      ]
    },
    {
      "cell_type": "code",
      "metadata": {
        "colab": {
          "base_uri": "https://localhost:8080/"
        },
        "id": "Wl8eZUss0Jcm",
        "outputId": "528ed8a3-af5e-4002-9f13-4c6cd1a9c1bc"
      },
      "source": [
        "# Check how many predicted winners vs losers as this should be a 1:5 ratio\n",
        "\n",
        "X_train_eng.pred_binary.value_counts()"
      ],
      "execution_count": null,
      "outputs": [
        {
          "output_type": "execute_result",
          "data": {
            "text/plain": [
              "0    8019\n",
              "1    1585\n",
              "Name: pred_binary, dtype: int64"
            ]
          },
          "metadata": {},
          "execution_count": 21
        }
      ]
    },
    {
      "cell_type": "code",
      "metadata": {
        "colab": {
          "base_uri": "https://localhost:8080/"
        },
        "id": "phEki_EnJUnS",
        "outputId": "dfe1471d-7718-43ec-f1e3-da34a1311cfd"
      },
      "source": [
        "# APR for Train\n",
        "## Very low F1 score so still not a great model\n",
        "\n",
        "apr(X_train_eng['pred_binary'], y_train)"
      ],
      "execution_count": null,
      "outputs": [
        {
          "output_type": "stream",
          "name": "stdout",
          "text": [
            "Accuracy:0.7656184922948771\n",
            "Precision:0.29905362776025235\n",
            "Recall:0.2936802973977695\n",
            "F1:0.2963426070647077\n"
          ]
        },
        {
          "output_type": "execute_result",
          "data": {
            "text/plain": [
              "(0.7656184922948771,\n",
              " 0.29905362776025235,\n",
              " 0.2936802973977695,\n",
              " 0.2963426070647077)"
            ]
          },
          "metadata": {},
          "execution_count": 22
        }
      ]
    },
    {
      "cell_type": "code",
      "metadata": {
        "colab": {
          "base_uri": "https://localhost:8080/"
        },
        "id": "YTJBehH3JsKs",
        "outputId": "65e2f865-cb5a-42df-80a2-e59336ba0669"
      },
      "source": [
        "# APR for Test\n",
        "\n",
        "apr(X_test_eng['pred_binary'], y_test)"
      ],
      "execution_count": null,
      "outputs": [
        {
          "output_type": "stream",
          "name": "stdout",
          "text": [
            "Accuracy:0.7643630308076603\n",
            "Precision:0.26631853785900783\n",
            "Recall:0.26356589147286824\n",
            "F1:0.26493506493506497\n"
          ]
        },
        {
          "output_type": "execute_result",
          "data": {
            "text/plain": [
              "(0.7643630308076603,\n",
              " 0.26631853785900783,\n",
              " 0.26356589147286824,\n",
              " 0.26493506493506497)"
            ]
          },
          "metadata": {},
          "execution_count": 23
        }
      ]
    },
    {
      "cell_type": "markdown",
      "metadata": {
        "id": "Tvx9lknAKolE"
      },
      "source": [
        "## SVM"
      ]
    },
    {
      "cell_type": "code",
      "metadata": {
        "id": "O6mOYFv8KpbP"
      },
      "source": [
        "test_cols2 = ['const',\n",
        " 'Trap',\n",
        " 'Odds',\n",
        " 'BSP',\n",
        " 'Public_Estimate',\n",
        " 'Last_Run',\n",
        " 'Distance_All',\n",
        " 'Finish_All',\n",
        " 'Distance_Places_All',\n",
        " 'Races_All',\n",
        " 'Distance_Recent',\n",
        " 'Finish_Recent',\n",
        " 'Odds_Recent',\n",
        " 'Early_Recent',\n",
        " 'Races_380',\n",
        " 'Wins_380',\n",
        " 'Finish_380',\n",
        " 'Odds_380',\n",
        " 'Early_380',\n",
        " 'Grade_380',\n",
        " 'Time_380',\n",
        " 'Early_Time_380',\n",
        " 'Stay_380',\n",
        " 'Favourite',\n",
        " 'Wide_380',\n",
        " 'Dist_By']\n"
      ],
      "execution_count": null,
      "outputs": []
    },
    {
      "cell_type": "code",
      "metadata": {
        "id": "HtPhFS5viksm"
      },
      "source": [
        "X_train_eng2 = feature_eng(X_train)\n",
        "X_test_eng2 = feature_eng(X_test)"
      ],
      "execution_count": null,
      "outputs": []
    },
    {
      "cell_type": "code",
      "metadata": {
        "id": "UJWyGxAPaONY"
      },
      "source": [
        "# Normalise the data\n",
        "\n",
        "X_train2 = X_train_eng2[test_cols2]\n",
        "X_test2 = X_test_eng2[test_cols2]\n",
        "X_train_norm = preprocessing.scale(X_train2)\n",
        "X_test_norm = preprocessing.scale(X_test2)"
      ],
      "execution_count": null,
      "outputs": []
    },
    {
      "cell_type": "code",
      "metadata": {
        "id": "IdXdiZbJ2Sdg"
      },
      "source": [
        "# kernel was tested with linear option as well but this took over an hour so the process was ended\n",
        "\n",
        "tuned_parameters = [{'kernel': ['rbf', 'poly', 'sigmoid'],\n",
        "                     'gamma': [0.1, 1e-2, 1e-3, 1e-4],'C': [1, 10, 100, 1000]}]"
      ],
      "execution_count": null,
      "outputs": []
    },
    {
      "cell_type": "code",
      "metadata": {
        "id": "QqypBwkN2aEP"
      },
      "source": [
        "# Train the model with the tuned parameters\n",
        "\n",
        "train = GridSearchCV(SVC(), tuned_parameters, scoring='accuracy')"
      ],
      "execution_count": null,
      "outputs": []
    },
    {
      "cell_type": "code",
      "metadata": {
        "id": "LkNxYA6b2aMC"
      },
      "source": [
        "# Fit the trained model to the train set\n",
        "\n",
        "train.fit(X_train_norm, y_train)"
      ],
      "execution_count": null,
      "outputs": []
    },
    {
      "cell_type": "code",
      "metadata": {
        "colab": {
          "base_uri": "https://localhost:8080/"
        },
        "id": "xnKPFyq72gV2",
        "outputId": "95e54d97-3f2e-438e-ac3f-d19e7e2010b4"
      },
      "source": [
        "# The best parameters for svm model are c:1, gamma:0.01, and kernel:rbf \n",
        "# However, this provided no precision or recall and was hence tested manually to find sigmoid was better suited\n",
        "\n",
        "train.best_params_"
      ],
      "execution_count": null,
      "outputs": [
        {
          "output_type": "execute_result",
          "data": {
            "text/plain": [
              "{'C': 1, 'gamma': 0.01, 'kernel': 'rbf'}"
            ]
          },
          "metadata": {},
          "execution_count": 21
        }
      ]
    },
    {
      "cell_type": "code",
      "metadata": {
        "id": "qhBK_tbnm5CN"
      },
      "source": [
        ""
      ],
      "execution_count": null,
      "outputs": []
    },
    {
      "cell_type": "code",
      "metadata": {
        "colab": {
          "base_uri": "https://localhost:8080/"
        },
        "id": "ya4S6dCz5FBP",
        "outputId": "5c95a8e3-48e4-4ee7-f51b-4d91a7833377"
      },
      "source": [
        "# Running  model\n",
        "\n",
        "svc_model = SVC(gamma=0.01\n",
        "              , kernel='sigmoid'\n",
        "              , C=1)\n",
        "\n",
        "svc_model.fit(X_train_norm, y_train)"
      ],
      "execution_count": null,
      "outputs": [
        {
          "output_type": "execute_result",
          "data": {
            "text/plain": [
              "SVC(C=1, cache_size=None, class_weight={}, coef0=0.0,\n",
              "    decision_function_shape='ovo', degree=3, gamma=0.01, gpu_id=0,\n",
              "    kernel='sigmoid', max_iter=-1, max_mem_size=-1, n_jobs=-1,\n",
              "    probability=False, random_state=None, shrinking=False, tol=0.001,\n",
              "    verbose=False)"
            ]
          },
          "metadata": {},
          "execution_count": 26
        }
      ]
    },
    {
      "cell_type": "code",
      "metadata": {
        "colab": {
          "base_uri": "https://localhost:8080/"
        },
        "id": "DYFSDR7zeR67",
        "outputId": "ae1de30a-fb24-4fbf-9837-0eeed7c55415"
      },
      "source": [
        "#Score for train set\n",
        "accuracy_score(y_train, svc_model.predict(X_train_norm))"
      ],
      "execution_count": null,
      "outputs": [
        {
          "output_type": "execute_result",
          "data": {
            "text/plain": [
              "0.8144523115368596"
            ]
          },
          "metadata": {},
          "execution_count": 27
        }
      ]
    },
    {
      "cell_type": "code",
      "metadata": {
        "id": "Mjrx1M5ngw5Y"
      },
      "source": [
        "# Results for Train\n",
        "\n",
        "X_train_results = X_train_eng2.copy()\n",
        "X_train_results['y_real'] = y_train\n",
        "X_train_results['y_pred'] = svc_model.predict(X_train_norm)"
      ],
      "execution_count": null,
      "outputs": []
    },
    {
      "cell_type": "code",
      "metadata": {
        "colab": {
          "base_uri": "https://localhost:8080/"
        },
        "id": "JdGh4gvqpwKB",
        "outputId": "984b30dd-0348-443e-cbdc-8c5428443ce2"
      },
      "source": [
        "# APR results for train\n",
        "# Was unable to predict any winners\n",
        "\n",
        "apr(X_train_results['y_pred'], y_train)"
      ],
      "execution_count": null,
      "outputs": [
        {
          "output_type": "stream",
          "name": "stdout",
          "text": [
            "Accuracy:0.8144523115368596\n",
            "Precision:0.12831858407079647\n",
            "Recall:0.017967781908302356\n",
            "F1:0.03152173913043478\n"
          ]
        },
        {
          "output_type": "execute_result",
          "data": {
            "text/plain": [
              "(0.8144523115368596,\n",
              " 0.12831858407079647,\n",
              " 0.017967781908302356,\n",
              " 0.03152173913043478)"
            ]
          },
          "metadata": {},
          "execution_count": 29
        }
      ]
    },
    {
      "cell_type": "code",
      "metadata": {
        "id": "ocM6C4UWlUZy"
      },
      "source": [
        "# Results for Test\n",
        "\n",
        "X_test_results = X_test_eng2.copy()\n",
        "X_test_results['y_real'] = y_test\n",
        "X_test_results['y_pred'] = svc_model.predict(X_test_norm)"
      ],
      "execution_count": null,
      "outputs": []
    },
    {
      "cell_type": "code",
      "metadata": {
        "colab": {
          "base_uri": "https://localhost:8080/"
        },
        "id": "ZuDV03qapwP-",
        "outputId": "9a75a85f-fe6c-4b44-a915-fcc4a0141204"
      },
      "source": [
        "# APR results for test\n",
        "# Was unable to predict any winners\n",
        "\n",
        "apr(X_test_results['y_pred'], y_test)"
      ],
      "execution_count": null,
      "outputs": [
        {
          "output_type": "stream",
          "name": "stdout",
          "text": [
            "Accuracy:0.8193172356369692\n",
            "Precision:0.13846153846153847\n",
            "Recall:0.023255813953488372\n",
            "F1:0.03982300884955753\n"
          ]
        },
        {
          "output_type": "execute_result",
          "data": {
            "text/plain": [
              "(0.8193172356369692,\n",
              " 0.13846153846153847,\n",
              " 0.023255813953488372,\n",
              " 0.03982300884955753)"
            ]
          },
          "metadata": {},
          "execution_count": 31
        }
      ]
    },
    {
      "cell_type": "code",
      "metadata": {
        "id": "7s-_6u2lsDtl"
      },
      "source": [
        ""
      ],
      "execution_count": null,
      "outputs": []
    },
    {
      "cell_type": "code",
      "metadata": {
        "id": "LQ6ZDbJuoTs7"
      },
      "source": [
        ""
      ],
      "execution_count": null,
      "outputs": []
    },
    {
      "cell_type": "markdown",
      "metadata": {
        "id": "JAx2S5BNEI-o"
      },
      "source": [
        "## Decision Trees\n"
      ]
    },
    {
      "cell_type": "code",
      "metadata": {
        "id": "l4OmQY-hEKKB"
      },
      "source": [
        "# Narrowed columns down based on importance, these were the only values that were not 0\n",
        "\n",
        "tree_cols = ['BSP',\n",
        " 'Wins_380',\n",
        " 'Odds_380']"
      ],
      "execution_count": 42,
      "outputs": []
    },
    {
      "cell_type": "code",
      "metadata": {
        "id": "rQ9qclaPFp0Q"
      },
      "source": [
        "X_train_tree = X_train_eng[tree_cols]\n",
        "X_test_tree = X_test_eng[tree_cols]"
      ],
      "execution_count": 43,
      "outputs": []
    },
    {
      "cell_type": "code",
      "metadata": {
        "id": "SUVJnlCMFp8A"
      },
      "source": [
        "tree = DecisionTreeClassifier(random_state=124, max_depth=3, min_samples_leaf=5, min_samples_split=5)\n",
        "\n",
        "scores = cross_val_score(tree, X_train_tree, y_train, cv = 5)"
      ],
      "execution_count": 44,
      "outputs": []
    },
    {
      "cell_type": "code",
      "metadata": {
        "colab": {
          "base_uri": "https://localhost:8080/"
        },
        "id": "Yq4ZNRmFMI-w",
        "outputId": "c53015c6-044c-4a6e-924b-52681e2394d7"
      },
      "source": [
        "tree.fit(X_train_tree, y_train)"
      ],
      "execution_count": 45,
      "outputs": [
        {
          "output_type": "execute_result",
          "data": {
            "text/plain": [
              "DecisionTreeClassifier(ccp_alpha=0.0, class_weight=None, criterion='gini',\n",
              "                       max_depth=3, max_features=None, max_leaf_nodes=None,\n",
              "                       min_impurity_decrease=0.0, min_impurity_split=None,\n",
              "                       min_samples_leaf=5, min_samples_split=5,\n",
              "                       min_weight_fraction_leaf=0.0, presort='deprecated',\n",
              "                       random_state=124, splitter='best')"
            ]
          },
          "metadata": {},
          "execution_count": 45
        }
      ]
    },
    {
      "cell_type": "code",
      "metadata": {
        "colab": {
          "base_uri": "https://localhost:8080/"
        },
        "id": "HrKdwh6DFp_I",
        "outputId": "94601c59-f8f0-4403-9dff-27bd0015f7f0"
      },
      "source": [
        "# Print out the cross validation scores\n",
        "\n",
        "scores"
      ],
      "execution_count": 46,
      "outputs": [
        {
          "output_type": "execute_result",
          "data": {
            "text/plain": [
              "array([0.83185841, 0.83185841, 0.83133784, 0.83185841, 0.83229167])"
            ]
          },
          "metadata": {},
          "execution_count": 46
        }
      ]
    },
    {
      "cell_type": "code",
      "metadata": {
        "id": "fhCxLDleF8UI"
      },
      "source": [
        "# Use gridsearch to create the best possible model\n",
        "\n",
        "tree_model = GridSearchCV(estimator = DecisionTreeClassifier(),\n",
        "                   param_grid = {'max_depth': [3, 5, 7, 10],\n",
        "                                'min_samples_split': [5, 10, 15, 20],\n",
        "                                'min_samples_leaf': [2, 3, 4, 5, 6, 7]},\n",
        "                    cv = 5,\n",
        "                    refit = True,\n",
        "                    verbose = 1,\n",
        "                    scoring = 'accuracy')"
      ],
      "execution_count": 47,
      "outputs": []
    },
    {
      "cell_type": "code",
      "metadata": {
        "colab": {
          "base_uri": "https://localhost:8080/"
        },
        "id": "lpqZ1aVuF8XR",
        "outputId": "f5b96876-9385-40e8-e814-1fed3ada7b3f"
      },
      "source": [
        "# Fit the model to the train set\n",
        "\n",
        "now = time()\n",
        "\n",
        "tree_model.fit(X_train_tree, y_train)\n",
        "\n",
        "print(f' Time in seconds: {time() - now}')"
      ],
      "execution_count": 48,
      "outputs": [
        {
          "output_type": "stream",
          "name": "stdout",
          "text": [
            "Fitting 5 folds for each of 96 candidates, totalling 480 fits\n"
          ]
        },
        {
          "output_type": "stream",
          "name": "stderr",
          "text": [
            "[Parallel(n_jobs=1)]: Using backend SequentialBackend with 1 concurrent workers.\n"
          ]
        },
        {
          "output_type": "stream",
          "name": "stdout",
          "text": [
            " Time in seconds: 5.525501728057861\n"
          ]
        },
        {
          "output_type": "stream",
          "name": "stderr",
          "text": [
            "[Parallel(n_jobs=1)]: Done 480 out of 480 | elapsed:    5.5s finished\n"
          ]
        }
      ]
    },
    {
      "cell_type": "code",
      "metadata": {
        "colab": {
          "base_uri": "https://localhost:8080/"
        },
        "id": "VZQ6oD69F8bR",
        "outputId": "8679c899-83d8-4c83-cbd2-d1c439ae47b7"
      },
      "source": [
        "# Check which are the best parameters for the model\n",
        "\n",
        "tree_model.best_params_"
      ],
      "execution_count": 49,
      "outputs": [
        {
          "output_type": "execute_result",
          "data": {
            "text/plain": [
              "{'max_depth': 3, 'min_samples_leaf': 6, 'min_samples_split': 5}"
            ]
          },
          "metadata": {},
          "execution_count": 49
        }
      ]
    },
    {
      "cell_type": "code",
      "metadata": {
        "colab": {
          "base_uri": "https://localhost:8080/"
        },
        "id": "64mjqgfkmA71",
        "outputId": "49fb55f1-e17b-4c51-d67f-41f3450e5d9a"
      },
      "source": [
        "# Get accuracy score for train\n",
        "\n",
        "tree_model.score(X_train_tree, y_train)"
      ],
      "execution_count": 50,
      "outputs": [
        {
          "output_type": "execute_result",
          "data": {
            "text/plain": [
              "0.831945022907122"
            ]
          },
          "metadata": {},
          "execution_count": 50
        }
      ]
    },
    {
      "cell_type": "code",
      "metadata": {
        "colab": {
          "base_uri": "https://localhost:8080/"
        },
        "id": "n2Vtf-31mqoC",
        "outputId": "6cf9257f-aa9c-479f-9df2-704a799a17cd"
      },
      "source": [
        "# Fit model to test set\n",
        "\n",
        "tree_model.fit(X_test_tree, y_test)"
      ],
      "execution_count": 51,
      "outputs": [
        {
          "output_type": "stream",
          "name": "stderr",
          "text": [
            "[Parallel(n_jobs=1)]: Using backend SequentialBackend with 1 concurrent workers.\n"
          ]
        },
        {
          "output_type": "stream",
          "name": "stdout",
          "text": [
            "Fitting 5 folds for each of 96 candidates, totalling 480 fits\n"
          ]
        },
        {
          "output_type": "stream",
          "name": "stderr",
          "text": [
            "[Parallel(n_jobs=1)]: Done 480 out of 480 | elapsed:    2.5s finished\n"
          ]
        },
        {
          "output_type": "execute_result",
          "data": {
            "text/plain": [
              "GridSearchCV(cv=5, error_score=nan,\n",
              "             estimator=DecisionTreeClassifier(ccp_alpha=0.0, class_weight=None,\n",
              "                                              criterion='gini', max_depth=None,\n",
              "                                              max_features=None,\n",
              "                                              max_leaf_nodes=None,\n",
              "                                              min_impurity_decrease=0.0,\n",
              "                                              min_impurity_split=None,\n",
              "                                              min_samples_leaf=1,\n",
              "                                              min_samples_split=2,\n",
              "                                              min_weight_fraction_leaf=0.0,\n",
              "                                              presort='deprecated',\n",
              "                                              random_state=None,\n",
              "                                              splitter='best'),\n",
              "             iid='deprecated', n_jobs=None,\n",
              "             param_grid={'max_depth': [3, 5, 7, 10],\n",
              "                         'min_samples_leaf': [2, 3, 4, 5, 6, 7],\n",
              "                         'min_samples_split': [5, 10, 15, 20]},\n",
              "             pre_dispatch='2*n_jobs', refit=True, return_train_score=False,\n",
              "             scoring='accuracy', verbose=1)"
            ]
          },
          "metadata": {},
          "execution_count": 51
        }
      ]
    },
    {
      "cell_type": "code",
      "metadata": {
        "colab": {
          "base_uri": "https://localhost:8080/"
        },
        "id": "DbJBtMQ6nBmV",
        "outputId": "beefdfe4-b12d-4de6-aa8d-70dde9c59a42"
      },
      "source": [
        "# Accuracy score for test \n",
        "\n",
        "tree_model.score(X_test_tree, y_test)"
      ],
      "execution_count": 52,
      "outputs": [
        {
          "output_type": "execute_result",
          "data": {
            "text/plain": [
              "0.8417985012489592"
            ]
          },
          "metadata": {},
          "execution_count": 52
        }
      ]
    },
    {
      "cell_type": "code",
      "metadata": {
        "id": "QbAtNadUnjy7"
      },
      "source": [
        "# Results for Train\n",
        "\n",
        "X_train_results = X_train_tree.copy()\n",
        "X_train_results['y_real'] = y_train\n",
        "X_train_results['y_pred'] = (tree_model.predict_proba(X_train_tree)[:,1] >= 0.247).astype('int')\n",
        "X_train_results['y_prob'] = tree_model.predict_proba(X_train_tree)[:,1]"
      ],
      "execution_count": 53,
      "outputs": []
    },
    {
      "cell_type": "code",
      "metadata": {
        "colab": {
          "base_uri": "https://localhost:8080/"
        },
        "id": "-iLykITankSj",
        "outputId": "130684ab-1572-4b8b-88b6-88bde1277f17"
      },
      "source": [
        "apr(X_train_results['y_pred'], y_train)"
      ],
      "execution_count": 54,
      "outputs": [
        {
          "output_type": "stream",
          "name": "stdout",
          "text": [
            "Accuracy:0.7268846314035818\n",
            "Precision:0.27547841566533154\n",
            "Recall:0.38351920693928127\n",
            "F1:0.3206423206423206\n"
          ]
        },
        {
          "output_type": "execute_result",
          "data": {
            "text/plain": [
              "(0.7268846314035818,\n",
              " 0.27547841566533154,\n",
              " 0.38351920693928127,\n",
              " 0.3206423206423206)"
            ]
          },
          "metadata": {},
          "execution_count": 54
        }
      ]
    },
    {
      "cell_type": "code",
      "metadata": {
        "id": "FV9IJPFkoBhQ"
      },
      "source": [
        "# Results for Test\n",
        "\n",
        "X_test_results = X_test_tree.copy()\n",
        "X_test_results['y_real'] = y_test\n",
        "X_test_results['y_pred'] = (tree_model.predict_proba(X_test_tree)[:,1] >= 0.247).astype('int')\n",
        "X_test_results['y_prob'] = tree_model.predict_proba(X_test_tree)[:,1]"
      ],
      "execution_count": 55,
      "outputs": []
    },
    {
      "cell_type": "code",
      "metadata": {
        "colab": {
          "base_uri": "https://localhost:8080/"
        },
        "id": "DLDdxnb_oBmP",
        "outputId": "f9df3be7-8d74-4f80-c5ef-b65369405db0"
      },
      "source": [
        "# APR for Test\n",
        "\n",
        "apr(X_test_results['y_pred'], y_test)"
      ],
      "execution_count": 56,
      "outputs": [
        {
          "output_type": "stream",
          "name": "stdout",
          "text": [
            "Accuracy:0.7398001665278934\n",
            "Precision:0.2851985559566787\n",
            "Recall:0.4082687338501292\n",
            "F1:0.3358129649309245\n"
          ]
        },
        {
          "output_type": "execute_result",
          "data": {
            "text/plain": [
              "(0.7398001665278934,\n",
              " 0.2851985559566787,\n",
              " 0.4082687338501292,\n",
              " 0.3358129649309245)"
            ]
          },
          "metadata": {},
          "execution_count": 56
        }
      ]
    },
    {
      "cell_type": "code",
      "metadata": {
        "id": "bcLtCS_-8xoF"
      },
      "source": [
        "#Feature Importance to decide feature cols\n",
        "\n",
        "importance = list(zip(tree_cols, list(tree.feature_importances_)))"
      ],
      "execution_count": 57,
      "outputs": []
    },
    {
      "cell_type": "code",
      "metadata": {
        "id": "SBNxfsEZ86Nt"
      },
      "source": [
        "importance.sort(key=lambda x:x[1], reverse=True)"
      ],
      "execution_count": 58,
      "outputs": []
    },
    {
      "cell_type": "code",
      "metadata": {
        "id": "e3CPhJ9Y86S7",
        "colab": {
          "base_uri": "https://localhost:8080/"
        },
        "outputId": "7e9bfcc0-d9d1-4553-83a5-03425e907506"
      },
      "source": [
        "importance"
      ],
      "execution_count": 59,
      "outputs": [
        {
          "output_type": "execute_result",
          "data": {
            "text/plain": [
              "[('BSP', 0.9350040783049912),\n",
              " ('Wins_380', 0.03262092203261485),\n",
              " ('Odds_380', 0.03237499966239395)]"
            ]
          },
          "metadata": {},
          "execution_count": 59
        }
      ]
    },
    {
      "cell_type": "markdown",
      "metadata": {
        "id": "giLSU52VfCiT"
      },
      "source": [
        "### Random Forest"
      ]
    },
    {
      "cell_type": "code",
      "metadata": {
        "id": "k0peyifd7P1b"
      },
      "source": [
        "# Narrowed columns down based on importance, 13 features with lowest removed\n",
        "\n",
        "tree_cols = [#'Trap',\n",
        " 'Odds',\n",
        " 'BSP',\n",
        " 'Public_Estimate',\n",
        " #'Last_Run',\n",
        " 'Distance_All',\n",
        " 'Finish_All',\n",
        " 'Distance_Places_All',\n",
        " #'Races_All',\n",
        " #'Distance_Recent',\n",
        " #'Finish_Recent',\n",
        " 'Odds_Recent',\n",
        " #'Early_Recent',\n",
        " 'Races_380',\n",
        " #'Wins_380',\n",
        " #'Finish_380',\n",
        " 'Odds_380',\n",
        " #'Early_380',\n",
        " #'Grade_380',\n",
        " 'Time_380',\n",
        " #'Early_Time_380',\n",
        " 'Stay_380',\n",
        " #'Favourite',\n",
        " #'Wide_380',\n",
        " 'Dist_By']"
      ],
      "execution_count": 60,
      "outputs": []
    },
    {
      "cell_type": "code",
      "metadata": {
        "id": "YSmSHz1oGfqs"
      },
      "source": [
        "rf = RandomForestClassifier(n_estimators=100, max_depth=3, min_samples_leaf=5, min_samples_split=10)\n",
        "et = ExtraTreesClassifier(n_estimators=100, max_depth=3, min_samples_leaf=5, min_samples_split=10)"
      ],
      "execution_count": 61,
      "outputs": []
    },
    {
      "cell_type": "code",
      "metadata": {
        "id": "VEHoUNpFGfth"
      },
      "source": [
        "rf_score = cross_val_score(rf, X_train_tree, y_train, cv=5).mean()\n",
        "et_score = cross_val_score(et, X_train_tree, y_train, cv=5).mean()"
      ],
      "execution_count": 62,
      "outputs": []
    },
    {
      "cell_type": "code",
      "metadata": {
        "colab": {
          "base_uri": "https://localhost:8080/"
        },
        "id": "5X9CciElGfyC",
        "outputId": "92b51cb3-ce6b-4983-bbae-0322f6cbc948"
      },
      "source": [
        "print(f'Random scored {rf_score}')\n",
        "print(f'Extra Random scored {et_score}')"
      ],
      "execution_count": 63,
      "outputs": [
        {
          "output_type": "stream",
          "name": "stdout",
          "text": [
            "Random scored 0.8319450589970501\n",
            "Extra Random scored 0.8319450589970501\n"
          ]
        }
      ]
    },
    {
      "cell_type": "code",
      "metadata": {
        "colab": {
          "base_uri": "https://localhost:8080/"
        },
        "id": "kvGPOC9LGvqN",
        "outputId": "979675c8-da3b-4d10-a3ab-bc0c03475836"
      },
      "source": [
        "#Fitting Random Forest to data\n",
        "\n",
        "rf.fit(X_train_tree, y_train)"
      ],
      "execution_count": 64,
      "outputs": [
        {
          "output_type": "execute_result",
          "data": {
            "text/plain": [
              "RandomForestClassifier(bootstrap=True, ccp_alpha=0.0, class_weight=None,\n",
              "                       criterion='gini', max_depth=3, max_features='auto',\n",
              "                       max_leaf_nodes=None, max_samples=None,\n",
              "                       min_impurity_decrease=0.0, min_impurity_split=None,\n",
              "                       min_samples_leaf=5, min_samples_split=10,\n",
              "                       min_weight_fraction_leaf=0.0, n_estimators=100,\n",
              "                       n_jobs=None, oob_score=False, random_state=None,\n",
              "                       verbose=0, warm_start=False)"
            ]
          },
          "metadata": {},
          "execution_count": 64
        }
      ]
    },
    {
      "cell_type": "code",
      "metadata": {
        "id": "FTF9b1VpHos4"
      },
      "source": [
        "# Results for Train\n",
        "\n",
        "X_train_results = X_train_tree.copy()\n",
        "X_train_results['y_real'] = y_train\n",
        "X_train_results['y_pred'] = (rf.predict_proba(X_train_tree)[:,1] >= 0.247).astype('int')\n",
        "X_train_results['y_prob'] = rf.predict_proba(X_train_tree)[:,1]"
      ],
      "execution_count": 65,
      "outputs": []
    },
    {
      "cell_type": "code",
      "metadata": {
        "colab": {
          "base_uri": "https://localhost:8080/"
        },
        "id": "b82ObOluHoyR",
        "outputId": "ecf50841-9cf2-4ae7-c7b3-2f91ad96bf5e"
      },
      "source": [
        "#APR for Train\n",
        "\n",
        "apr(X_train_results['y_pred'], y_train)"
      ],
      "execution_count": 66,
      "outputs": [
        {
          "output_type": "stream",
          "name": "stdout",
          "text": [
            "Accuracy:0.8096626405664307\n",
            "Precision:0.35958005249343833\n",
            "Recall:0.1697645600991326\n",
            "F1:0.23063973063973064\n"
          ]
        },
        {
          "output_type": "execute_result",
          "data": {
            "text/plain": [
              "(0.8096626405664307,\n",
              " 0.35958005249343833,\n",
              " 0.1697645600991326,\n",
              " 0.23063973063973064)"
            ]
          },
          "metadata": {},
          "execution_count": 66
        }
      ]
    },
    {
      "cell_type": "code",
      "metadata": {
        "id": "lmlW57j1Ho2X"
      },
      "source": [
        "#Results for Test\n",
        "\n",
        "X_test_results = X_test_tree.copy()\n",
        "X_test_results['y_real'] = y_test\n",
        "X_test_results['y_pred'] = (rf.predict_proba(X_test_tree)[:,1] >= 0.247).astype('int')\n",
        "X_test_results['y_prob'] = rf.predict_proba(X_test_tree)[:,1]"
      ],
      "execution_count": null,
      "outputs": []
    },
    {
      "cell_type": "code",
      "metadata": {
        "colab": {
          "base_uri": "https://localhost:8080/"
        },
        "id": "KnsSFl1_IO4i",
        "outputId": "df2ed845-3b51-4c2f-b1b6-1cea0961c761"
      },
      "source": [
        "#APR for Test\n",
        "\n",
        "apr(X_test_results['y_pred'], y_test)"
      ],
      "execution_count": null,
      "outputs": [
        {
          "output_type": "stream",
          "name": "stdout",
          "text": [
            "Accuracy:0.7901748542880933\n",
            "Precision:0.30303030303030304\n",
            "Recall:0.23255813953488372\n",
            "F1:0.2631578947368421\n"
          ]
        },
        {
          "output_type": "execute_result",
          "data": {
            "text/plain": [
              "(0.7901748542880933,\n",
              " 0.30303030303030304,\n",
              " 0.23255813953488372,\n",
              " 0.2631578947368421)"
            ]
          },
          "metadata": {},
          "execution_count": 43
        }
      ]
    },
    {
      "cell_type": "code",
      "metadata": {
        "id": "p_g3kYiJ3NkS"
      },
      "source": [
        ""
      ],
      "execution_count": null,
      "outputs": []
    },
    {
      "cell_type": "code",
      "metadata": {
        "colab": {
          "base_uri": "https://localhost:8080/"
        },
        "id": "FcisToWCGtZ1",
        "outputId": "e2a088e0-9bae-4503-c513-59c3812af00d"
      },
      "source": [
        "#Gridsearch to find best parameters. \n",
        "rf_params = {\n",
        "    'n_estimators': [100],\n",
        "    'max_depth': [3, 5, 7, 10],\n",
        "    'min_samples_leaf' : [2, 3, 4, 5, 6, 7],\n",
        "    'min_samples_split': [5, 10, 20, 30, 40, 50]\n",
        " }\n",
        "\n",
        "\n",
        "gs = GridSearchCV(rf, param_grid=rf_params, cv=5)\n",
        "\n",
        "gs.fit(X_train_tree, y_train)\n",
        "\n",
        "print(gs.best_score_)\n",
        "\n",
        "gs.best_params_"
      ],
      "execution_count": null,
      "outputs": [
        {
          "output_type": "stream",
          "name": "stdout",
          "text": [
            "0.8321532838799236\n"
          ]
        },
        {
          "output_type": "execute_result",
          "data": {
            "text/plain": [
              "{'max_depth': 10,\n",
              " 'min_samples_leaf': 6,\n",
              " 'min_samples_split': 40,\n",
              " 'n_estimators': 100}"
            ]
          },
          "metadata": {},
          "execution_count": 44
        }
      ]
    },
    {
      "cell_type": "code",
      "metadata": {
        "colab": {
          "base_uri": "https://localhost:8080/"
        },
        "id": "OleCYTAp4nvp",
        "outputId": "5208ef3a-9670-4dd8-ca31-3644d50f32ba"
      },
      "source": [
        "gs.score(X_train_tree, y_train)"
      ],
      "execution_count": null,
      "outputs": [
        {
          "output_type": "execute_result",
          "data": {
            "text/plain": [
              "0.8329862557267805"
            ]
          },
          "metadata": {},
          "execution_count": 45
        }
      ]
    },
    {
      "cell_type": "code",
      "metadata": {
        "id": "2BYajuYl4ngI"
      },
      "source": [
        "# Results for Train\n",
        "\n",
        "X_train_results = X_train_tree.copy()\n",
        "X_train_results['y_real'] = y_train\n",
        "X_train_results['y_pred'] = (gs.predict_proba(X_train_tree)[:,1] >= 0.247).astype('int')\n",
        "X_train_results['y_prob'] = gs.predict_proba(X_train_tree)[:,1]"
      ],
      "execution_count": null,
      "outputs": []
    },
    {
      "cell_type": "code",
      "metadata": {
        "colab": {
          "base_uri": "https://localhost:8080/"
        },
        "id": "fIvHt-kq6Wji",
        "outputId": "d19f6009-b65c-4fdb-a809-93e60f266bdc"
      },
      "source": [
        "apr(X_train_results['y_pred'], y_train)"
      ],
      "execution_count": null,
      "outputs": [
        {
          "output_type": "stream",
          "name": "stdout",
          "text": [
            "Accuracy:0.8242399000416493\n",
            "Precision:0.4774939172749392\n",
            "Recall:0.48636926889714993\n",
            "F1:0.48189073050951503\n"
          ]
        },
        {
          "output_type": "execute_result",
          "data": {
            "text/plain": [
              "(0.8242399000416493,\n",
              " 0.4774939172749392,\n",
              " 0.48636926889714993,\n",
              " 0.48189073050951503)"
            ]
          },
          "metadata": {},
          "execution_count": 47
        }
      ]
    },
    {
      "cell_type": "code",
      "metadata": {
        "id": "g2sDt4k26Wmx"
      },
      "source": [
        "#Results for Test\n",
        "\n",
        "X_test_results = X_test_tree.copy()\n",
        "X_test_results['y_real'] = y_test\n",
        "X_test_results['y_pred'] = (gs.predict_proba(X_test_tree)[:,1] >= 0.247).astype('int')\n",
        "X_test_results['y_prob'] = gs.predict_proba(X_test_tree)[:,1]"
      ],
      "execution_count": null,
      "outputs": []
    },
    {
      "cell_type": "code",
      "metadata": {
        "colab": {
          "base_uri": "https://localhost:8080/"
        },
        "id": "wjDrUypz6jEb",
        "outputId": "09cf8d20-0b70-42e4-c9e5-85e68c93adfb"
      },
      "source": [
        "#APR for Test\n",
        "\n",
        "apr(X_test_results['y_pred'], y_test)"
      ],
      "execution_count": null,
      "outputs": [
        {
          "output_type": "stream",
          "name": "stdout",
          "text": [
            "Accuracy:0.7731057452123231\n",
            "Precision:0.2931937172774869\n",
            "Recall:0.28940568475452194\n",
            "F1:0.29128738621586475\n"
          ]
        },
        {
          "output_type": "execute_result",
          "data": {
            "text/plain": [
              "(0.7731057452123231,\n",
              " 0.2931937172774869,\n",
              " 0.28940568475452194,\n",
              " 0.29128738621586475)"
            ]
          },
          "metadata": {},
          "execution_count": 49
        }
      ]
    },
    {
      "cell_type": "code",
      "metadata": {
        "id": "vb6zKAEp6WqN"
      },
      "source": [
        ""
      ],
      "execution_count": null,
      "outputs": []
    },
    {
      "cell_type": "code",
      "metadata": {
        "colab": {
          "base_uri": "https://localhost:8080/"
        },
        "id": "JP-91MSXGa9r",
        "outputId": "e4041f9a-bf13-4804-ceec-52f22a1a6bea"
      },
      "source": [
        "#Bagging\n",
        "bag = BaggingClassifier(base_estimator=DecisionTreeClassifier())\n",
        "\n",
        "##\n",
        "bag.fit(X_train_tree, y_train)\n",
        "\n",
        "##\n",
        "bag.score(X_test_tree, y_test)"
      ],
      "execution_count": null,
      "outputs": [
        {
          "output_type": "execute_result",
          "data": {
            "text/plain": [
              "0.8218151540383014"
            ]
          },
          "metadata": {},
          "execution_count": 50
        }
      ]
    },
    {
      "cell_type": "code",
      "metadata": {
        "id": "XewQ4xfd3RSN"
      },
      "source": [
        "#Fitting bagging to data\n",
        "\n",
        "bag.fit(X_train_tree, y_train)"
      ],
      "execution_count": null,
      "outputs": []
    },
    {
      "cell_type": "code",
      "metadata": {
        "id": "_RyUQd_V3RVp"
      },
      "source": [
        "# Results for Train\n",
        "\n",
        "X_train_results = X_train_tree.copy()\n",
        "X_train_results['y_real'] = y_train\n",
        "X_train_results['y_pred'] = (bag.predict_proba(X_train_tree)[:,1] >= 0.247).astype('int')\n",
        "X_train_results['y_prob'] = bag.predict_proba(X_train_tree)[:,1]"
      ],
      "execution_count": null,
      "outputs": []
    },
    {
      "cell_type": "code",
      "metadata": {
        "colab": {
          "base_uri": "https://localhost:8080/"
        },
        "id": "W9gDbLQE3Ral",
        "outputId": "8bf3ee65-24a7-420e-e6fe-65319b279fe4"
      },
      "source": [
        "apr(X_train_results['y_pred'], y_train)"
      ],
      "execution_count": null,
      "outputs": [
        {
          "output_type": "stream",
          "name": "stdout",
          "text": [
            "Accuracy:0.964493960849646\n",
            "Precision:0.8262429523321374\n",
            "Recall:0.9987608426270136\n",
            "F1:0.9043478260869565\n"
          ]
        },
        {
          "output_type": "execute_result",
          "data": {
            "text/plain": [
              "(0.964493960849646, 0.8262429523321374, 0.9987608426270136, 0.9043478260869565)"
            ]
          },
          "metadata": {},
          "execution_count": 53
        }
      ]
    },
    {
      "cell_type": "code",
      "metadata": {
        "id": "bDV8EGAz3NZv"
      },
      "source": [
        "#Results for Test\n",
        "\n",
        "X_test_results = X_test_tree.copy()\n",
        "X_test_results['y_real'] = y_test\n",
        "X_test_results['y_pred'] = (bag.predict_proba(X_test_tree)[:,1] >= 0.247).astype('int')\n",
        "X_test_results['y_prob'] = bag.predict_proba(X_test_tree)[:,1]"
      ],
      "execution_count": null,
      "outputs": []
    },
    {
      "cell_type": "code",
      "metadata": {
        "colab": {
          "base_uri": "https://localhost:8080/"
        },
        "id": "tSvPF_os4OHK",
        "outputId": "e79ea511-c2a1-4ae0-8bad-667ce8a14194"
      },
      "source": [
        "#APR for Test\n",
        "\n",
        "apr(X_test_results['y_pred'], y_test)"
      ],
      "execution_count": null,
      "outputs": [
        {
          "output_type": "stream",
          "name": "stdout",
          "text": [
            "Accuracy:0.644879267277269\n",
            "Precision:0.19661458333333334\n",
            "Recall:0.39018087855297157\n",
            "F1:0.26147186147186147\n"
          ]
        },
        {
          "output_type": "execute_result",
          "data": {
            "text/plain": [
              "(0.644879267277269,\n",
              " 0.19661458333333334,\n",
              " 0.39018087855297157,\n",
              " 0.26147186147186147)"
            ]
          },
          "metadata": {},
          "execution_count": 55
        }
      ]
    },
    {
      "cell_type": "markdown",
      "metadata": {
        "id": "PbBEPuWXeJBv"
      },
      "source": [
        "# Improving random forest model"
      ]
    },
    {
      "cell_type": "code",
      "metadata": {
        "id": "A24o3YO2e2J4"
      },
      "source": [
        "# Best APR scores with odds, bsp, distance all, finish all, races all, odds recent, odds 380, time 380, dist by\n",
        "\n",
        "tree_cols = [#'Trap',\n",
        " 'Odds',\n",
        " 'BSP',\n",
        " #'Public_Estimate',\n",
        " #'Last_Run',\n",
        " 'Distance_All',\n",
        " 'Finish_All',\n",
        " #'Distance_Places_All',\n",
        " 'Races_All',\n",
        " #'Distance_Recent',\n",
        " #'Finish_Recent',\n",
        " 'Odds_Recent',\n",
        " #'Early_Recent',\n",
        " #'Races_380',\n",
        " #'Wins_380',\n",
        " #'Finish_380',\n",
        " 'Odds_380',\n",
        " #'Early_380',\n",
        " #'Grade_380',\n",
        " 'Time_380',\n",
        " #'Early_Time_380',\n",
        " #'Stay_380',\n",
        " #'Favourite',\n",
        " #'Wide_380',\n",
        " 'Dist_By']"
      ],
      "execution_count": null,
      "outputs": []
    },
    {
      "cell_type": "code",
      "metadata": {
        "id": "9a14RqN-e2Gx"
      },
      "source": [
        "X_train_tree = X_train_eng[tree_cols]\n",
        "X_test_tree = X_test_eng[tree_cols]"
      ],
      "execution_count": null,
      "outputs": []
    },
    {
      "cell_type": "code",
      "metadata": {
        "id": "8p3tY1v4faLt"
      },
      "source": [
        "rf = RandomForestClassifier(n_estimators=100, max_depth=10, min_samples_leaf=6, min_samples_split=30)\n",
        "et = ExtraTreesClassifier(n_estimators=100, max_depth=10, min_samples_leaf=6, min_samples_split=30)"
      ],
      "execution_count": null,
      "outputs": []
    },
    {
      "cell_type": "code",
      "metadata": {
        "id": "QOBTnf84faJN"
      },
      "source": [
        "rf_score = cross_val_score(rf, X_train_tree, y_train, cv=5).mean()\n",
        "et_score = cross_val_score(et, X_train_tree, y_train, cv=5).mean()"
      ],
      "execution_count": null,
      "outputs": []
    },
    {
      "cell_type": "code",
      "metadata": {
        "colab": {
          "base_uri": "https://localhost:8080/"
        },
        "id": "f8zoB1a3faGA",
        "outputId": "6e37dbb6-a14a-444a-d85f-d26f84959b1d"
      },
      "source": [
        "print(f'Random scored {rf_score}')\n",
        "print(f'Extra Random scored {et_score}')"
      ],
      "execution_count": null,
      "outputs": [
        {
          "output_type": "stream",
          "name": "stdout",
          "text": [
            "Random scored 0.8319450047718202\n",
            "Extra Random scored 0.8319450589970501\n"
          ]
        }
      ]
    },
    {
      "cell_type": "code",
      "metadata": {
        "id": "m-Y2amb4fZ8L"
      },
      "source": [
        "# Gridsearch for best parameters\n",
        "\n",
        "rf_params = {\n",
        "    'n_estimators': [100],\n",
        "    'max_depth': [3, 5, 7, 10],\n",
        "    'min_samples_leaf' : [2, 3, 4, 5, 6, 7],\n",
        "    'min_samples_split': [5, 10, 20, 30, 40, 50]\n",
        " }\n",
        "\n",
        "\n",
        "gs = GridSearchCV(rf, param_grid=rf_params, cv=5)\n",
        "\n",
        "gs.fit(X_train_tree, y_train)\n",
        "\n",
        "print(gs.best_score_)\n",
        "\n",
        "gs.best_params_"
      ],
      "execution_count": null,
      "outputs": []
    },
    {
      "cell_type": "code",
      "metadata": {
        "colab": {
          "base_uri": "https://localhost:8080/"
        },
        "id": "h7HdXYCfe12Y",
        "outputId": "a6996943-04a7-4cf9-f928-ae5088b00437"
      },
      "source": [
        "gs.score(X_train_tree, y_train)"
      ],
      "execution_count": null,
      "outputs": [
        {
          "output_type": "execute_result",
          "data": {
            "text/plain": [
              "0.8320491461890879"
            ]
          },
          "metadata": {},
          "execution_count": 132
        }
      ]
    },
    {
      "cell_type": "code",
      "metadata": {
        "colab": {
          "base_uri": "https://localhost:8080/"
        },
        "id": "E_6Nn3AngNLk",
        "outputId": "07257065-696b-4893-d45d-ad03caec60ca"
      },
      "source": [
        "rf.fit(X_train_tree, y_train)"
      ],
      "execution_count": null,
      "outputs": [
        {
          "output_type": "execute_result",
          "data": {
            "text/plain": [
              "RandomForestClassifier(bootstrap=True, ccp_alpha=0.0, class_weight=None,\n",
              "                       criterion='gini', max_depth=10, max_features='auto',\n",
              "                       max_leaf_nodes=None, max_samples=None,\n",
              "                       min_impurity_decrease=0.0, min_impurity_split=None,\n",
              "                       min_samples_leaf=6, min_samples_split=30,\n",
              "                       min_weight_fraction_leaf=0.0, n_estimators=100,\n",
              "                       n_jobs=None, oob_score=False, random_state=None,\n",
              "                       verbose=0, warm_start=False)"
            ]
          },
          "metadata": {},
          "execution_count": 464
        }
      ]
    },
    {
      "cell_type": "code",
      "metadata": {
        "id": "n4XBfv4JgNH-"
      },
      "source": [
        "# Results for Train\n",
        "\n",
        "X_train_results = X_train_tree.copy()\n",
        "X_train_results['y_real'] = y_train\n",
        "X_train_results['y_pred'] = (gs.predict_proba(X_train_tree)[:,1] >= 0.247).astype('int')\n",
        "X_train_results['y_prob'] = gs.predict_proba(X_train_tree)[:,1]"
      ],
      "execution_count": null,
      "outputs": []
    },
    {
      "cell_type": "code",
      "metadata": {
        "id": "XjdlCw8ugNFH"
      },
      "source": [
        "X_train_results.head(20)"
      ],
      "execution_count": null,
      "outputs": []
    },
    {
      "cell_type": "code",
      "metadata": {
        "id": "Fxp6OmejlXxY"
      },
      "source": [
        "# Original test\n",
        "# Accuracy:0.7808204914618909, Precision:0.3237616654702082, Recall:0.27942998760842624, F1:0.29996674426338543\n",
        "\n",
        "# Test 1: - all columns\n",
        "# Train: Accuracy:0.8439192003331945, Precision:0.5357364822871349, Recall:0.5340768277571252, F1:0.5349053676698728\n",
        "# Test: Accuracy:0.7643630308076603, Precision:0.27901234567901234, Recall:0.29198966408268734, F1:0.2853535353535353\n",
        "\n",
        "# Test 2: - getting rid of 380, performs better for test\n",
        "# Train: Accuracy:0.8243440233236151, Precision:0.4782608695652174, Recall:0.49752168525402723, F1:0.4877011843303978\n",
        "# Test: Accuracy:0.765195670274771, Precision:0.2846715328467153, Recall:0.3023255813953488, F1:0.2932330827067669\n",
        "\n",
        "# Test 3: - getting rid of other features and public est\n",
        "# Train: Accuracy:0.8465222823823407, Precision:0.5452781371280725, Recall:0.5223048327137546, F1:0.5335443037974684\n",
        "# Test: Accuracy:0.7776852622814321, Precision:0.2905982905982906, Recall:0.26356589147286824, F1:0.2764227642276423\n",
        "\n",
        "# Test 4: - keeping just info about 380 races\n",
        "# Accuracy:0.8371511870054145, Precision:0.5158629441624365, Recall:0.5037174721189591, F1:0.509717868338558\n",
        "# Accuracy:0.7751873438800999, Precision:0.2992125984251969, Recall:0.29457364341085274, F1:0.29687500000000006\n",
        "\n",
        "# Test 5: - removing one at a time based on importance to beat test 4\n",
        "\n",
        "# Without favourite & wide 380\n",
        "## Train: Accuracy:0.8429820907955019, Precision:0.5323170731707317, Recall:0.5408921933085502, F1:0.5365703749231715\n",
        "## Test: Accuracy:0.7689425478767694, Precision:0.29411764705882354, Recall:0.31007751937984496, F1:0.30188679245283023\n",
        "\n",
        "# With odds, bsp, distance all, finish all, races all, odds recent, odds 380, time 380, dist by\n",
        "## Train: Accuracy:0.8330903790087464, Precision:0.5035644847699287, Recall:0.48141263940520446, F1:0.49223946784922396\n",
        "## Test: Accuracy:0.7851790174854288, Precision:0.32132963988919666, Recall:0.2997416020671835, F1:0.3101604278074866"
      ],
      "execution_count": null,
      "outputs": []
    },
    {
      "cell_type": "code",
      "metadata": {
        "colab": {
          "base_uri": "https://localhost:8080/"
        },
        "id": "RxkAArnXgNCW",
        "outputId": "6709c332-158d-4b9c-c380-249116aa185c"
      },
      "source": [
        "#APR for Train\n",
        "\n",
        "apr(X_train_results['y_pred'], y_train)"
      ],
      "execution_count": null,
      "outputs": [
        {
          "output_type": "stream",
          "name": "stdout",
          "text": [
            "Accuracy:0.8330903790087464\n",
            "Precision:0.5035644847699287\n",
            "Recall:0.48141263940520446\n",
            "F1:0.49223946784922396\n"
          ]
        },
        {
          "output_type": "execute_result",
          "data": {
            "text/plain": [
              "(0.8330903790087464,\n",
              " 0.5035644847699287,\n",
              " 0.48141263940520446,\n",
              " 0.49223946784922396)"
            ]
          },
          "metadata": {},
          "execution_count": 466
        }
      ]
    },
    {
      "cell_type": "code",
      "metadata": {
        "id": "eOO68ojGgWE9"
      },
      "source": [
        "#Results for Test\n",
        "\n",
        "X_test_results = X_test_tree.copy()\n",
        "X_test_results['y_real'] = y_test\n",
        "X_test_results['y_pred'] = (rf.predict_proba(X_test_tree)[:,1] >= 0.247).astype('int')\n",
        "X_test_results['y_prob'] = rf.predict_proba(X_test_tree)[:,1]"
      ],
      "execution_count": null,
      "outputs": []
    },
    {
      "cell_type": "code",
      "metadata": {
        "colab": {
          "base_uri": "https://localhost:8080/"
        },
        "id": "2t0bIwH5gWCp",
        "outputId": "7e8b2d67-ff62-4f61-c3d9-b25cdb6cf006"
      },
      "source": [
        "#APR for Test\n",
        "\n",
        "apr(X_test_results['y_pred'], y_test)"
      ],
      "execution_count": null,
      "outputs": [
        {
          "output_type": "stream",
          "name": "stdout",
          "text": [
            "Accuracy:0.7851790174854288\n",
            "Precision:0.32132963988919666\n",
            "Recall:0.2997416020671835\n",
            "F1:0.3101604278074866\n"
          ]
        },
        {
          "output_type": "execute_result",
          "data": {
            "text/plain": [
              "(0.7851790174854288,\n",
              " 0.32132963988919666,\n",
              " 0.2997416020671835,\n",
              " 0.3101604278074866)"
            ]
          },
          "metadata": {},
          "execution_count": 468
        }
      ]
    },
    {
      "cell_type": "code",
      "metadata": {
        "id": "4Yeljo7AgV_8"
      },
      "source": [
        "#Feature Importance to decide feature cols\n",
        "\n",
        "importance = list(zip(tree_cols, list(rf.feature_importances_)))"
      ],
      "execution_count": null,
      "outputs": []
    },
    {
      "cell_type": "code",
      "metadata": {
        "id": "D3N5ov5-gV9c"
      },
      "source": [
        "importance.sort(key=lambda x:x[1], reverse=True)"
      ],
      "execution_count": null,
      "outputs": []
    },
    {
      "cell_type": "code",
      "metadata": {
        "colab": {
          "base_uri": "https://localhost:8080/"
        },
        "id": "qg60TLjLgV6N",
        "outputId": "f25cd222-7cc2-4f2a-95bb-a8581d6c6fa5"
      },
      "source": [
        "importance"
      ],
      "execution_count": null,
      "outputs": [
        {
          "output_type": "execute_result",
          "data": {
            "text/plain": [
              "[('BSP', 0.2362310529126329),\n",
              " ('Odds', 0.1253792691105503),\n",
              " ('Finish_All', 0.09621086628674058),\n",
              " ('Odds_Recent', 0.09154967300338408),\n",
              " ('Distance_All', 0.09072192468812997),\n",
              " ('Odds_380', 0.09053397868500504),\n",
              " ('Time_380', 0.09040957445373153),\n",
              " ('Dist_By', 0.09002858180001486),\n",
              " ('Races_All', 0.08893507905981064)]"
            ]
          },
          "metadata": {},
          "execution_count": 450
        }
      ]
    },
    {
      "cell_type": "markdown",
      "metadata": {
        "id": "p96qhD6VOPp4"
      },
      "source": [
        "# List of greyhound winning probabilities"
      ]
    },
    {
      "cell_type": "code",
      "metadata": {
        "id": "HibhAaeyOSVU"
      },
      "source": [
        "#Concatenating model results into one df\n",
        "\n",
        "wins_modelled = pd.concat([X_train_results, X_test_results], axis =0, join='inner')"
      ],
      "execution_count": null,
      "outputs": []
    },
    {
      "cell_type": "code",
      "metadata": {
        "id": "Zl-ODYkjOW_o"
      },
      "source": [
        "#Sorting Index\n",
        "\n",
        "wins_modelled.sort_index(ascending=True, inplace=True)"
      ],
      "execution_count": null,
      "outputs": []
    },
    {
      "cell_type": "code",
      "metadata": {
        "colab": {
          "base_uri": "https://localhost:8080/",
          "height": 204
        },
        "id": "aapQFAdyOXCv",
        "outputId": "9fd20c42-64f4-4c49-f912-a34e8c3be910"
      },
      "source": [
        "wins_modelled.tail()"
      ],
      "execution_count": null,
      "outputs": [
        {
          "output_type": "execute_result",
          "data": {
            "text/html": [
              "<div>\n",
              "<style scoped>\n",
              "    .dataframe tbody tr th:only-of-type {\n",
              "        vertical-align: middle;\n",
              "    }\n",
              "\n",
              "    .dataframe tbody tr th {\n",
              "        vertical-align: top;\n",
              "    }\n",
              "\n",
              "    .dataframe thead th {\n",
              "        text-align: right;\n",
              "    }\n",
              "</style>\n",
              "<table border=\"1\" class=\"dataframe\">\n",
              "  <thead>\n",
              "    <tr style=\"text-align: right;\">\n",
              "      <th></th>\n",
              "      <th>Odds</th>\n",
              "      <th>BSP</th>\n",
              "      <th>Distance_All</th>\n",
              "      <th>Finish_All</th>\n",
              "      <th>Races_All</th>\n",
              "      <th>Odds_Recent</th>\n",
              "      <th>Odds_380</th>\n",
              "      <th>Time_380</th>\n",
              "      <th>Dist_By</th>\n",
              "      <th>y_real</th>\n",
              "      <th>y_pred</th>\n",
              "      <th>y_prob</th>\n",
              "    </tr>\n",
              "  </thead>\n",
              "  <tbody>\n",
              "    <tr>\n",
              "      <th>12001</th>\n",
              "      <td>3.5</td>\n",
              "      <td>4.67</td>\n",
              "      <td>408.19</td>\n",
              "      <td>3.25</td>\n",
              "      <td>52</td>\n",
              "      <td>5.42</td>\n",
              "      <td>5.36000</td>\n",
              "      <td>24.13</td>\n",
              "      <td>-3.50000</td>\n",
              "      <td>0</td>\n",
              "      <td>0</td>\n",
              "      <td>0.164428</td>\n",
              "    </tr>\n",
              "    <tr>\n",
              "      <th>12002</th>\n",
              "      <td>7.0</td>\n",
              "      <td>9.36</td>\n",
              "      <td>418.62</td>\n",
              "      <td>3.82</td>\n",
              "      <td>58</td>\n",
              "      <td>6.55</td>\n",
              "      <td>6.43000</td>\n",
              "      <td>20.81</td>\n",
              "      <td>-12.43000</td>\n",
              "      <td>0</td>\n",
              "      <td>0</td>\n",
              "      <td>0.123520</td>\n",
              "    </tr>\n",
              "    <tr>\n",
              "      <th>12003</th>\n",
              "      <td>5.0</td>\n",
              "      <td>4.35</td>\n",
              "      <td>400.00</td>\n",
              "      <td>4.05</td>\n",
              "      <td>9</td>\n",
              "      <td>8.00</td>\n",
              "      <td>8.00000</td>\n",
              "      <td>24.36</td>\n",
              "      <td>-4.75000</td>\n",
              "      <td>0</td>\n",
              "      <td>1</td>\n",
              "      <td>0.251900</td>\n",
              "    </tr>\n",
              "    <tr>\n",
              "      <th>12004</th>\n",
              "      <td>4.0</td>\n",
              "      <td>3.86</td>\n",
              "      <td>436.36</td>\n",
              "      <td>4.82</td>\n",
              "      <td>22</td>\n",
              "      <td>6.75</td>\n",
              "      <td>5.29702</td>\n",
              "      <td>24.13</td>\n",
              "      <td>-4.48688</td>\n",
              "      <td>0</td>\n",
              "      <td>0</td>\n",
              "      <td>0.191238</td>\n",
              "    </tr>\n",
              "    <tr>\n",
              "      <th>12005</th>\n",
              "      <td>5.0</td>\n",
              "      <td>8.31</td>\n",
              "      <td>418.18</td>\n",
              "      <td>5.66</td>\n",
              "      <td>22</td>\n",
              "      <td>5.75</td>\n",
              "      <td>5.67000</td>\n",
              "      <td>16.35</td>\n",
              "      <td>-21.00000</td>\n",
              "      <td>0</td>\n",
              "      <td>0</td>\n",
              "      <td>0.123853</td>\n",
              "    </tr>\n",
              "  </tbody>\n",
              "</table>\n",
              "</div>"
            ],
            "text/plain": [
              "       Odds   BSP  Distance_All  Finish_All  ...   Dist_By  y_real  y_pred    y_prob\n",
              "12001   3.5  4.67        408.19        3.25  ...  -3.50000       0       0  0.164428\n",
              "12002   7.0  9.36        418.62        3.82  ... -12.43000       0       0  0.123520\n",
              "12003   5.0  4.35        400.00        4.05  ...  -4.75000       0       1  0.251900\n",
              "12004   4.0  3.86        436.36        4.82  ...  -4.48688       0       0  0.191238\n",
              "12005   5.0  8.31        418.18        5.66  ... -21.00000       0       0  0.123853\n",
              "\n",
              "[5 rows x 12 columns]"
            ]
          },
          "metadata": {},
          "execution_count": 702
        }
      ]
    },
    {
      "cell_type": "code",
      "metadata": {
        "id": "G4Hkv-8gzwyy"
      },
      "source": [
        "wins_modelled.to_csv('wins_modelled.csv', index=False)"
      ],
      "execution_count": null,
      "outputs": []
    },
    {
      "cell_type": "markdown",
      "metadata": {
        "id": "ixqrnuezeW7M"
      },
      "source": [
        "# Splitting by race ID so only one winner selected per race\n"
      ]
    },
    {
      "cell_type": "code",
      "metadata": {
        "id": "qdpzJDv97chX"
      },
      "source": [
        "#Mask for race ID\n",
        "\n",
        "race_id = df['Race_ID']"
      ],
      "execution_count": null,
      "outputs": []
    },
    {
      "cell_type": "code",
      "metadata": {
        "id": "Flw6AsH_d-wF"
      },
      "source": [
        "#Bringing back Race ID\n",
        "\n",
        "wins_modelled = wins_modelled.assign(Race_ID = race_id)"
      ],
      "execution_count": null,
      "outputs": []
    },
    {
      "cell_type": "code",
      "metadata": {
        "id": "FTcDhaN_d-rH"
      },
      "source": [
        "# Selecting columns\n",
        "\n",
        "wins_modelled = wins_modelled[['Race_ID','Odds', 'BSP', 'Distance_All', 'Finish_All', 'Races_All', 'Odds_Recent',\n",
        "       'Odds_380', 'Time_380', 'Dist_By', 'y_real', 'y_pred', 'y_prob']]"
      ],
      "execution_count": null,
      "outputs": []
    },
    {
      "cell_type": "code",
      "metadata": {
        "colab": {
          "base_uri": "https://localhost:8080/",
          "height": 421
        },
        "id": "LCu19mOPd-tl",
        "outputId": "ebca76da-b3c8-43ef-c9d4-c2774e4aa3a4"
      },
      "source": [
        "wins_modelled.head(12)"
      ],
      "execution_count": null,
      "outputs": [
        {
          "output_type": "execute_result",
          "data": {
            "text/html": [
              "<div>\n",
              "<style scoped>\n",
              "    .dataframe tbody tr th:only-of-type {\n",
              "        vertical-align: middle;\n",
              "    }\n",
              "\n",
              "    .dataframe tbody tr th {\n",
              "        vertical-align: top;\n",
              "    }\n",
              "\n",
              "    .dataframe thead th {\n",
              "        text-align: right;\n",
              "    }\n",
              "</style>\n",
              "<table border=\"1\" class=\"dataframe\">\n",
              "  <thead>\n",
              "    <tr style=\"text-align: right;\">\n",
              "      <th></th>\n",
              "      <th>Race_ID</th>\n",
              "      <th>Odds</th>\n",
              "      <th>BSP</th>\n",
              "      <th>Distance_All</th>\n",
              "      <th>Finish_All</th>\n",
              "      <th>Races_All</th>\n",
              "      <th>Odds_Recent</th>\n",
              "      <th>Odds_380</th>\n",
              "      <th>Time_380</th>\n",
              "      <th>Dist_By</th>\n",
              "      <th>y_real</th>\n",
              "      <th>y_pred</th>\n",
              "      <th>y_prob</th>\n",
              "    </tr>\n",
              "  </thead>\n",
              "  <tbody>\n",
              "    <tr>\n",
              "      <th>0</th>\n",
              "      <td>0</td>\n",
              "      <td>2.75</td>\n",
              "      <td>4.00</td>\n",
              "      <td>456.47</td>\n",
              "      <td>4.09</td>\n",
              "      <td>17</td>\n",
              "      <td>4.42</td>\n",
              "      <td>4.38</td>\n",
              "      <td>17.84</td>\n",
              "      <td>-10.50</td>\n",
              "      <td>0</td>\n",
              "      <td>1</td>\n",
              "      <td>0.257452</td>\n",
              "    </tr>\n",
              "    <tr>\n",
              "      <th>1</th>\n",
              "      <td>0</td>\n",
              "      <td>5.00</td>\n",
              "      <td>7.60</td>\n",
              "      <td>410.48</td>\n",
              "      <td>3.53</td>\n",
              "      <td>21</td>\n",
              "      <td>4.04</td>\n",
              "      <td>4.04</td>\n",
              "      <td>24.18</td>\n",
              "      <td>-4.71</td>\n",
              "      <td>1</td>\n",
              "      <td>0</td>\n",
              "      <td>0.152783</td>\n",
              "    </tr>\n",
              "    <tr>\n",
              "      <th>2</th>\n",
              "      <td>0</td>\n",
              "      <td>5.00</td>\n",
              "      <td>9.40</td>\n",
              "      <td>386.45</td>\n",
              "      <td>3.39</td>\n",
              "      <td>31</td>\n",
              "      <td>4.46</td>\n",
              "      <td>4.46</td>\n",
              "      <td>24.06</td>\n",
              "      <td>-2.86</td>\n",
              "      <td>0</td>\n",
              "      <td>0</td>\n",
              "      <td>0.097701</td>\n",
              "    </tr>\n",
              "    <tr>\n",
              "      <th>3</th>\n",
              "      <td>0</td>\n",
              "      <td>7.00</td>\n",
              "      <td>7.80</td>\n",
              "      <td>380.00</td>\n",
              "      <td>3.03</td>\n",
              "      <td>21</td>\n",
              "      <td>5.46</td>\n",
              "      <td>5.46</td>\n",
              "      <td>24.14</td>\n",
              "      <td>-2.71</td>\n",
              "      <td>0</td>\n",
              "      <td>0</td>\n",
              "      <td>0.108017</td>\n",
              "    </tr>\n",
              "    <tr>\n",
              "      <th>4</th>\n",
              "      <td>0</td>\n",
              "      <td>5.00</td>\n",
              "      <td>5.10</td>\n",
              "      <td>385.00</td>\n",
              "      <td>2.59</td>\n",
              "      <td>40</td>\n",
              "      <td>4.18</td>\n",
              "      <td>4.18</td>\n",
              "      <td>24.05</td>\n",
              "      <td>-2.32</td>\n",
              "      <td>0</td>\n",
              "      <td>0</td>\n",
              "      <td>0.242630</td>\n",
              "    </tr>\n",
              "    <tr>\n",
              "      <th>5</th>\n",
              "      <td>0</td>\n",
              "      <td>6.00</td>\n",
              "      <td>5.34</td>\n",
              "      <td>418.65</td>\n",
              "      <td>3.27</td>\n",
              "      <td>52</td>\n",
              "      <td>5.89</td>\n",
              "      <td>5.89</td>\n",
              "      <td>24.14</td>\n",
              "      <td>-4.43</td>\n",
              "      <td>0</td>\n",
              "      <td>0</td>\n",
              "      <td>0.138575</td>\n",
              "    </tr>\n",
              "    <tr>\n",
              "      <th>6</th>\n",
              "      <td>1</td>\n",
              "      <td>6.00</td>\n",
              "      <td>10.16</td>\n",
              "      <td>455.21</td>\n",
              "      <td>3.22</td>\n",
              "      <td>117</td>\n",
              "      <td>5.79</td>\n",
              "      <td>5.79</td>\n",
              "      <td>24.05</td>\n",
              "      <td>-0.43</td>\n",
              "      <td>0</td>\n",
              "      <td>0</td>\n",
              "      <td>0.070299</td>\n",
              "    </tr>\n",
              "    <tr>\n",
              "      <th>7</th>\n",
              "      <td>1</td>\n",
              "      <td>5.00</td>\n",
              "      <td>8.60</td>\n",
              "      <td>479.52</td>\n",
              "      <td>3.91</td>\n",
              "      <td>93</td>\n",
              "      <td>5.46</td>\n",
              "      <td>5.46</td>\n",
              "      <td>24.42</td>\n",
              "      <td>-5.71</td>\n",
              "      <td>0</td>\n",
              "      <td>0</td>\n",
              "      <td>0.109958</td>\n",
              "    </tr>\n",
              "    <tr>\n",
              "      <th>8</th>\n",
              "      <td>1</td>\n",
              "      <td>4.00</td>\n",
              "      <td>4.50</td>\n",
              "      <td>388.33</td>\n",
              "      <td>2.84</td>\n",
              "      <td>12</td>\n",
              "      <td>5.42</td>\n",
              "      <td>5.50</td>\n",
              "      <td>24.18</td>\n",
              "      <td>-1.39</td>\n",
              "      <td>0</td>\n",
              "      <td>0</td>\n",
              "      <td>0.137050</td>\n",
              "    </tr>\n",
              "    <tr>\n",
              "      <th>9</th>\n",
              "      <td>1</td>\n",
              "      <td>5.00</td>\n",
              "      <td>5.14</td>\n",
              "      <td>400.87</td>\n",
              "      <td>3.35</td>\n",
              "      <td>138</td>\n",
              "      <td>7.60</td>\n",
              "      <td>7.00</td>\n",
              "      <td>20.69</td>\n",
              "      <td>-11.00</td>\n",
              "      <td>0</td>\n",
              "      <td>0</td>\n",
              "      <td>0.194084</td>\n",
              "    </tr>\n",
              "    <tr>\n",
              "      <th>10</th>\n",
              "      <td>1</td>\n",
              "      <td>3.50</td>\n",
              "      <td>3.83</td>\n",
              "      <td>451.62</td>\n",
              "      <td>3.11</td>\n",
              "      <td>40</td>\n",
              "      <td>6.93</td>\n",
              "      <td>5.71</td>\n",
              "      <td>24.08</td>\n",
              "      <td>-2.21</td>\n",
              "      <td>1</td>\n",
              "      <td>1</td>\n",
              "      <td>0.285762</td>\n",
              "    </tr>\n",
              "    <tr>\n",
              "      <th>11</th>\n",
              "      <td>1</td>\n",
              "      <td>7.00</td>\n",
              "      <td>8.68</td>\n",
              "      <td>438.35</td>\n",
              "      <td>3.22</td>\n",
              "      <td>52</td>\n",
              "      <td>4.86</td>\n",
              "      <td>4.46</td>\n",
              "      <td>20.70</td>\n",
              "      <td>-8.04</td>\n",
              "      <td>0</td>\n",
              "      <td>0</td>\n",
              "      <td>0.108139</td>\n",
              "    </tr>\n",
              "  </tbody>\n",
              "</table>\n",
              "</div>"
            ],
            "text/plain": [
              "    Race_ID  Odds    BSP  Distance_All  ...  Dist_By  y_real  y_pred    y_prob\n",
              "0         0  2.75   4.00        456.47  ...   -10.50       0       1  0.257452\n",
              "1         0  5.00   7.60        410.48  ...    -4.71       1       0  0.152783\n",
              "2         0  5.00   9.40        386.45  ...    -2.86       0       0  0.097701\n",
              "3         0  7.00   7.80        380.00  ...    -2.71       0       0  0.108017\n",
              "4         0  5.00   5.10        385.00  ...    -2.32       0       0  0.242630\n",
              "5         0  6.00   5.34        418.65  ...    -4.43       0       0  0.138575\n",
              "6         1  6.00  10.16        455.21  ...    -0.43       0       0  0.070299\n",
              "7         1  5.00   8.60        479.52  ...    -5.71       0       0  0.109958\n",
              "8         1  4.00   4.50        388.33  ...    -1.39       0       0  0.137050\n",
              "9         1  5.00   5.14        400.87  ...   -11.00       0       0  0.194084\n",
              "10        1  3.50   3.83        451.62  ...    -2.21       1       1  0.285762\n",
              "11        1  7.00   8.68        438.35  ...    -8.04       0       0  0.108139\n",
              "\n",
              "[12 rows x 13 columns]"
            ]
          },
          "metadata": {},
          "execution_count": 958
        }
      ]
    },
    {
      "cell_type": "code",
      "metadata": {
        "id": "_vQsqByBrIea"
      },
      "source": [
        "wins_modelled['One_winner'] = 0"
      ],
      "execution_count": null,
      "outputs": []
    },
    {
      "cell_type": "code",
      "metadata": {
        "id": "SAFy-PEtnBkC"
      },
      "source": [
        "# Select the greyhound with the highest probability for each\n",
        "\n",
        "highest_prob = wins_modelled.sort_values('y_prob').drop_duplicates('Race_ID', keep='last')"
      ],
      "execution_count": null,
      "outputs": []
    },
    {
      "cell_type": "code",
      "metadata": {
        "id": "xFYJynE4enWC"
      },
      "source": [
        "# Create new column to assign them as the one winner\n",
        "\n",
        "highest_prob['One_winner'] = 1"
      ],
      "execution_count": null,
      "outputs": []
    },
    {
      "cell_type": "code",
      "metadata": {
        "id": "ueXCL0z7qkRF"
      },
      "source": [
        "index_list = list(highest_prob.index)"
      ],
      "execution_count": null,
      "outputs": []
    },
    {
      "cell_type": "code",
      "metadata": {
        "id": "GE5iARziwdM5"
      },
      "source": [
        "lowest_prob = wins_modelled.drop(index = index_list)"
      ],
      "execution_count": null,
      "outputs": []
    },
    {
      "cell_type": "code",
      "metadata": {
        "colab": {
          "base_uri": "https://localhost:8080/",
          "height": 421
        },
        "id": "ETpyLQjyq4aq",
        "outputId": "01b49a72-d58e-4b29-abe5-42bddf76eb3d"
      },
      "source": [
        "lowest_prob.head(12)"
      ],
      "execution_count": null,
      "outputs": [
        {
          "output_type": "execute_result",
          "data": {
            "text/html": [
              "<div>\n",
              "<style scoped>\n",
              "    .dataframe tbody tr th:only-of-type {\n",
              "        vertical-align: middle;\n",
              "    }\n",
              "\n",
              "    .dataframe tbody tr th {\n",
              "        vertical-align: top;\n",
              "    }\n",
              "\n",
              "    .dataframe thead th {\n",
              "        text-align: right;\n",
              "    }\n",
              "</style>\n",
              "<table border=\"1\" class=\"dataframe\">\n",
              "  <thead>\n",
              "    <tr style=\"text-align: right;\">\n",
              "      <th></th>\n",
              "      <th>Race_ID</th>\n",
              "      <th>Odds</th>\n",
              "      <th>BSP</th>\n",
              "      <th>Distance_All</th>\n",
              "      <th>Finish_All</th>\n",
              "      <th>Races_All</th>\n",
              "      <th>Odds_Recent</th>\n",
              "      <th>Odds_380</th>\n",
              "      <th>Time_380</th>\n",
              "      <th>Dist_By</th>\n",
              "      <th>y_real</th>\n",
              "      <th>y_pred</th>\n",
              "      <th>y_prob</th>\n",
              "      <th>One_winner</th>\n",
              "    </tr>\n",
              "  </thead>\n",
              "  <tbody>\n",
              "    <tr>\n",
              "      <th>1</th>\n",
              "      <td>0</td>\n",
              "      <td>5.0</td>\n",
              "      <td>7.60</td>\n",
              "      <td>410.48</td>\n",
              "      <td>3.53</td>\n",
              "      <td>21</td>\n",
              "      <td>4.04</td>\n",
              "      <td>4.04</td>\n",
              "      <td>24.18</td>\n",
              "      <td>-4.71</td>\n",
              "      <td>1</td>\n",
              "      <td>0</td>\n",
              "      <td>0.152783</td>\n",
              "      <td>0</td>\n",
              "    </tr>\n",
              "    <tr>\n",
              "      <th>2</th>\n",
              "      <td>0</td>\n",
              "      <td>5.0</td>\n",
              "      <td>9.40</td>\n",
              "      <td>386.45</td>\n",
              "      <td>3.39</td>\n",
              "      <td>31</td>\n",
              "      <td>4.46</td>\n",
              "      <td>4.46</td>\n",
              "      <td>24.06</td>\n",
              "      <td>-2.86</td>\n",
              "      <td>0</td>\n",
              "      <td>0</td>\n",
              "      <td>0.097701</td>\n",
              "      <td>0</td>\n",
              "    </tr>\n",
              "    <tr>\n",
              "      <th>3</th>\n",
              "      <td>0</td>\n",
              "      <td>7.0</td>\n",
              "      <td>7.80</td>\n",
              "      <td>380.00</td>\n",
              "      <td>3.03</td>\n",
              "      <td>21</td>\n",
              "      <td>5.46</td>\n",
              "      <td>5.46</td>\n",
              "      <td>24.14</td>\n",
              "      <td>-2.71</td>\n",
              "      <td>0</td>\n",
              "      <td>0</td>\n",
              "      <td>0.108017</td>\n",
              "      <td>0</td>\n",
              "    </tr>\n",
              "    <tr>\n",
              "      <th>4</th>\n",
              "      <td>0</td>\n",
              "      <td>5.0</td>\n",
              "      <td>5.10</td>\n",
              "      <td>385.00</td>\n",
              "      <td>2.59</td>\n",
              "      <td>40</td>\n",
              "      <td>4.18</td>\n",
              "      <td>4.18</td>\n",
              "      <td>24.05</td>\n",
              "      <td>-2.32</td>\n",
              "      <td>0</td>\n",
              "      <td>0</td>\n",
              "      <td>0.242630</td>\n",
              "      <td>0</td>\n",
              "    </tr>\n",
              "    <tr>\n",
              "      <th>5</th>\n",
              "      <td>0</td>\n",
              "      <td>6.0</td>\n",
              "      <td>5.34</td>\n",
              "      <td>418.65</td>\n",
              "      <td>3.27</td>\n",
              "      <td>52</td>\n",
              "      <td>5.89</td>\n",
              "      <td>5.89</td>\n",
              "      <td>24.14</td>\n",
              "      <td>-4.43</td>\n",
              "      <td>0</td>\n",
              "      <td>0</td>\n",
              "      <td>0.138575</td>\n",
              "      <td>0</td>\n",
              "    </tr>\n",
              "    <tr>\n",
              "      <th>6</th>\n",
              "      <td>1</td>\n",
              "      <td>6.0</td>\n",
              "      <td>10.16</td>\n",
              "      <td>455.21</td>\n",
              "      <td>3.22</td>\n",
              "      <td>117</td>\n",
              "      <td>5.79</td>\n",
              "      <td>5.79</td>\n",
              "      <td>24.05</td>\n",
              "      <td>-0.43</td>\n",
              "      <td>0</td>\n",
              "      <td>0</td>\n",
              "      <td>0.070299</td>\n",
              "      <td>0</td>\n",
              "    </tr>\n",
              "    <tr>\n",
              "      <th>7</th>\n",
              "      <td>1</td>\n",
              "      <td>5.0</td>\n",
              "      <td>8.60</td>\n",
              "      <td>479.52</td>\n",
              "      <td>3.91</td>\n",
              "      <td>93</td>\n",
              "      <td>5.46</td>\n",
              "      <td>5.46</td>\n",
              "      <td>24.42</td>\n",
              "      <td>-5.71</td>\n",
              "      <td>0</td>\n",
              "      <td>0</td>\n",
              "      <td>0.109958</td>\n",
              "      <td>0</td>\n",
              "    </tr>\n",
              "    <tr>\n",
              "      <th>8</th>\n",
              "      <td>1</td>\n",
              "      <td>4.0</td>\n",
              "      <td>4.50</td>\n",
              "      <td>388.33</td>\n",
              "      <td>2.84</td>\n",
              "      <td>12</td>\n",
              "      <td>5.42</td>\n",
              "      <td>5.50</td>\n",
              "      <td>24.18</td>\n",
              "      <td>-1.39</td>\n",
              "      <td>0</td>\n",
              "      <td>0</td>\n",
              "      <td>0.137050</td>\n",
              "      <td>0</td>\n",
              "    </tr>\n",
              "    <tr>\n",
              "      <th>9</th>\n",
              "      <td>1</td>\n",
              "      <td>5.0</td>\n",
              "      <td>5.14</td>\n",
              "      <td>400.87</td>\n",
              "      <td>3.35</td>\n",
              "      <td>138</td>\n",
              "      <td>7.60</td>\n",
              "      <td>7.00</td>\n",
              "      <td>20.69</td>\n",
              "      <td>-11.00</td>\n",
              "      <td>0</td>\n",
              "      <td>0</td>\n",
              "      <td>0.194084</td>\n",
              "      <td>0</td>\n",
              "    </tr>\n",
              "    <tr>\n",
              "      <th>11</th>\n",
              "      <td>1</td>\n",
              "      <td>7.0</td>\n",
              "      <td>8.68</td>\n",
              "      <td>438.35</td>\n",
              "      <td>3.22</td>\n",
              "      <td>52</td>\n",
              "      <td>4.86</td>\n",
              "      <td>4.46</td>\n",
              "      <td>20.70</td>\n",
              "      <td>-8.04</td>\n",
              "      <td>0</td>\n",
              "      <td>0</td>\n",
              "      <td>0.108139</td>\n",
              "      <td>0</td>\n",
              "    </tr>\n",
              "    <tr>\n",
              "      <th>12</th>\n",
              "      <td>2</td>\n",
              "      <td>4.5</td>\n",
              "      <td>4.36</td>\n",
              "      <td>414.78</td>\n",
              "      <td>3.42</td>\n",
              "      <td>46</td>\n",
              "      <td>5.36</td>\n",
              "      <td>5.36</td>\n",
              "      <td>24.13</td>\n",
              "      <td>-2.11</td>\n",
              "      <td>0</td>\n",
              "      <td>0</td>\n",
              "      <td>0.226713</td>\n",
              "      <td>0</td>\n",
              "    </tr>\n",
              "    <tr>\n",
              "      <th>13</th>\n",
              "      <td>2</td>\n",
              "      <td>5.0</td>\n",
              "      <td>5.15</td>\n",
              "      <td>402.82</td>\n",
              "      <td>3.62</td>\n",
              "      <td>78</td>\n",
              "      <td>5.11</td>\n",
              "      <td>5.11</td>\n",
              "      <td>24.26</td>\n",
              "      <td>-4.14</td>\n",
              "      <td>0</td>\n",
              "      <td>0</td>\n",
              "      <td>0.180346</td>\n",
              "      <td>0</td>\n",
              "    </tr>\n",
              "  </tbody>\n",
              "</table>\n",
              "</div>"
            ],
            "text/plain": [
              "    Race_ID  Odds    BSP  Distance_All  ...  y_real  y_pred    y_prob  One_winner\n",
              "1         0   5.0   7.60        410.48  ...       1       0  0.152783           0\n",
              "2         0   5.0   9.40        386.45  ...       0       0  0.097701           0\n",
              "3         0   7.0   7.80        380.00  ...       0       0  0.108017           0\n",
              "4         0   5.0   5.10        385.00  ...       0       0  0.242630           0\n",
              "5         0   6.0   5.34        418.65  ...       0       0  0.138575           0\n",
              "6         1   6.0  10.16        455.21  ...       0       0  0.070299           0\n",
              "7         1   5.0   8.60        479.52  ...       0       0  0.109958           0\n",
              "8         1   4.0   4.50        388.33  ...       0       0  0.137050           0\n",
              "9         1   5.0   5.14        400.87  ...       0       0  0.194084           0\n",
              "11        1   7.0   8.68        438.35  ...       0       0  0.108139           0\n",
              "12        2   4.5   4.36        414.78  ...       0       0  0.226713           0\n",
              "13        2   5.0   5.15        402.82  ...       0       0  0.180346           0\n",
              "\n",
              "[12 rows x 14 columns]"
            ]
          },
          "metadata": {},
          "execution_count": 964
        }
      ]
    },
    {
      "cell_type": "code",
      "metadata": {
        "id": "CZskTykinHfR"
      },
      "source": [
        "one_winner = pd.concat([lowest_prob, highest_prob], axis =0, join='inner').sort_values('Race_ID').reset_index()"
      ],
      "execution_count": null,
      "outputs": []
    },
    {
      "cell_type": "code",
      "metadata": {
        "id": "RBy2Zl_7ri6K"
      },
      "source": [
        "# Selecting columns\n",
        "\n",
        "one_winner = one_winner[['Race_ID', 'Odds', 'BSP', 'Distance_All', 'Finish_All',\n",
        "       'Races_All', 'Odds_Recent', 'Odds_380', 'Time_380', 'Dist_By', 'y_real',\n",
        "       'y_pred', 'y_prob', 'One_winner']]"
      ],
      "execution_count": null,
      "outputs": []
    },
    {
      "cell_type": "code",
      "metadata": {
        "colab": {
          "base_uri": "https://localhost:8080/",
          "height": 421
        },
        "id": "iLLQ1ne6nHcq",
        "outputId": "60c98ffd-8969-4562-9796-2489a0654f9d"
      },
      "source": [
        "one_winner.head(12)"
      ],
      "execution_count": null,
      "outputs": [
        {
          "output_type": "execute_result",
          "data": {
            "text/html": [
              "<div>\n",
              "<style scoped>\n",
              "    .dataframe tbody tr th:only-of-type {\n",
              "        vertical-align: middle;\n",
              "    }\n",
              "\n",
              "    .dataframe tbody tr th {\n",
              "        vertical-align: top;\n",
              "    }\n",
              "\n",
              "    .dataframe thead th {\n",
              "        text-align: right;\n",
              "    }\n",
              "</style>\n",
              "<table border=\"1\" class=\"dataframe\">\n",
              "  <thead>\n",
              "    <tr style=\"text-align: right;\">\n",
              "      <th></th>\n",
              "      <th>Race_ID</th>\n",
              "      <th>Odds</th>\n",
              "      <th>BSP</th>\n",
              "      <th>Distance_All</th>\n",
              "      <th>Finish_All</th>\n",
              "      <th>Races_All</th>\n",
              "      <th>Odds_Recent</th>\n",
              "      <th>Odds_380</th>\n",
              "      <th>Time_380</th>\n",
              "      <th>Dist_By</th>\n",
              "      <th>y_real</th>\n",
              "      <th>y_pred</th>\n",
              "      <th>y_prob</th>\n",
              "      <th>One_winner</th>\n",
              "    </tr>\n",
              "  </thead>\n",
              "  <tbody>\n",
              "    <tr>\n",
              "      <th>0</th>\n",
              "      <td>0</td>\n",
              "      <td>5.00</td>\n",
              "      <td>7.60</td>\n",
              "      <td>410.48</td>\n",
              "      <td>3.53</td>\n",
              "      <td>21</td>\n",
              "      <td>4.04</td>\n",
              "      <td>4.04</td>\n",
              "      <td>24.18</td>\n",
              "      <td>-4.71</td>\n",
              "      <td>1</td>\n",
              "      <td>0</td>\n",
              "      <td>0.152783</td>\n",
              "      <td>0</td>\n",
              "    </tr>\n",
              "    <tr>\n",
              "      <th>1</th>\n",
              "      <td>0</td>\n",
              "      <td>5.00</td>\n",
              "      <td>9.40</td>\n",
              "      <td>386.45</td>\n",
              "      <td>3.39</td>\n",
              "      <td>31</td>\n",
              "      <td>4.46</td>\n",
              "      <td>4.46</td>\n",
              "      <td>24.06</td>\n",
              "      <td>-2.86</td>\n",
              "      <td>0</td>\n",
              "      <td>0</td>\n",
              "      <td>0.097701</td>\n",
              "      <td>0</td>\n",
              "    </tr>\n",
              "    <tr>\n",
              "      <th>2</th>\n",
              "      <td>0</td>\n",
              "      <td>7.00</td>\n",
              "      <td>7.80</td>\n",
              "      <td>380.00</td>\n",
              "      <td>3.03</td>\n",
              "      <td>21</td>\n",
              "      <td>5.46</td>\n",
              "      <td>5.46</td>\n",
              "      <td>24.14</td>\n",
              "      <td>-2.71</td>\n",
              "      <td>0</td>\n",
              "      <td>0</td>\n",
              "      <td>0.108017</td>\n",
              "      <td>0</td>\n",
              "    </tr>\n",
              "    <tr>\n",
              "      <th>3</th>\n",
              "      <td>0</td>\n",
              "      <td>5.00</td>\n",
              "      <td>5.10</td>\n",
              "      <td>385.00</td>\n",
              "      <td>2.59</td>\n",
              "      <td>40</td>\n",
              "      <td>4.18</td>\n",
              "      <td>4.18</td>\n",
              "      <td>24.05</td>\n",
              "      <td>-2.32</td>\n",
              "      <td>0</td>\n",
              "      <td>0</td>\n",
              "      <td>0.242630</td>\n",
              "      <td>0</td>\n",
              "    </tr>\n",
              "    <tr>\n",
              "      <th>4</th>\n",
              "      <td>0</td>\n",
              "      <td>6.00</td>\n",
              "      <td>5.34</td>\n",
              "      <td>418.65</td>\n",
              "      <td>3.27</td>\n",
              "      <td>52</td>\n",
              "      <td>5.89</td>\n",
              "      <td>5.89</td>\n",
              "      <td>24.14</td>\n",
              "      <td>-4.43</td>\n",
              "      <td>0</td>\n",
              "      <td>0</td>\n",
              "      <td>0.138575</td>\n",
              "      <td>0</td>\n",
              "    </tr>\n",
              "    <tr>\n",
              "      <th>5</th>\n",
              "      <td>0</td>\n",
              "      <td>2.75</td>\n",
              "      <td>4.00</td>\n",
              "      <td>456.47</td>\n",
              "      <td>4.09</td>\n",
              "      <td>17</td>\n",
              "      <td>4.42</td>\n",
              "      <td>4.38</td>\n",
              "      <td>17.84</td>\n",
              "      <td>-10.50</td>\n",
              "      <td>0</td>\n",
              "      <td>1</td>\n",
              "      <td>0.257452</td>\n",
              "      <td>1</td>\n",
              "    </tr>\n",
              "    <tr>\n",
              "      <th>6</th>\n",
              "      <td>1</td>\n",
              "      <td>7.00</td>\n",
              "      <td>8.68</td>\n",
              "      <td>438.35</td>\n",
              "      <td>3.22</td>\n",
              "      <td>52</td>\n",
              "      <td>4.86</td>\n",
              "      <td>4.46</td>\n",
              "      <td>20.70</td>\n",
              "      <td>-8.04</td>\n",
              "      <td>0</td>\n",
              "      <td>0</td>\n",
              "      <td>0.108139</td>\n",
              "      <td>0</td>\n",
              "    </tr>\n",
              "    <tr>\n",
              "      <th>7</th>\n",
              "      <td>1</td>\n",
              "      <td>5.00</td>\n",
              "      <td>5.14</td>\n",
              "      <td>400.87</td>\n",
              "      <td>3.35</td>\n",
              "      <td>138</td>\n",
              "      <td>7.60</td>\n",
              "      <td>7.00</td>\n",
              "      <td>20.69</td>\n",
              "      <td>-11.00</td>\n",
              "      <td>0</td>\n",
              "      <td>0</td>\n",
              "      <td>0.194084</td>\n",
              "      <td>0</td>\n",
              "    </tr>\n",
              "    <tr>\n",
              "      <th>8</th>\n",
              "      <td>1</td>\n",
              "      <td>3.50</td>\n",
              "      <td>3.83</td>\n",
              "      <td>451.62</td>\n",
              "      <td>3.11</td>\n",
              "      <td>40</td>\n",
              "      <td>6.93</td>\n",
              "      <td>5.71</td>\n",
              "      <td>24.08</td>\n",
              "      <td>-2.21</td>\n",
              "      <td>1</td>\n",
              "      <td>1</td>\n",
              "      <td>0.285762</td>\n",
              "      <td>1</td>\n",
              "    </tr>\n",
              "    <tr>\n",
              "      <th>9</th>\n",
              "      <td>1</td>\n",
              "      <td>5.00</td>\n",
              "      <td>8.60</td>\n",
              "      <td>479.52</td>\n",
              "      <td>3.91</td>\n",
              "      <td>93</td>\n",
              "      <td>5.46</td>\n",
              "      <td>5.46</td>\n",
              "      <td>24.42</td>\n",
              "      <td>-5.71</td>\n",
              "      <td>0</td>\n",
              "      <td>0</td>\n",
              "      <td>0.109958</td>\n",
              "      <td>0</td>\n",
              "    </tr>\n",
              "    <tr>\n",
              "      <th>10</th>\n",
              "      <td>1</td>\n",
              "      <td>6.00</td>\n",
              "      <td>10.16</td>\n",
              "      <td>455.21</td>\n",
              "      <td>3.22</td>\n",
              "      <td>117</td>\n",
              "      <td>5.79</td>\n",
              "      <td>5.79</td>\n",
              "      <td>24.05</td>\n",
              "      <td>-0.43</td>\n",
              "      <td>0</td>\n",
              "      <td>0</td>\n",
              "      <td>0.070299</td>\n",
              "      <td>0</td>\n",
              "    </tr>\n",
              "    <tr>\n",
              "      <th>11</th>\n",
              "      <td>1</td>\n",
              "      <td>4.00</td>\n",
              "      <td>4.50</td>\n",
              "      <td>388.33</td>\n",
              "      <td>2.84</td>\n",
              "      <td>12</td>\n",
              "      <td>5.42</td>\n",
              "      <td>5.50</td>\n",
              "      <td>24.18</td>\n",
              "      <td>-1.39</td>\n",
              "      <td>0</td>\n",
              "      <td>0</td>\n",
              "      <td>0.137050</td>\n",
              "      <td>0</td>\n",
              "    </tr>\n",
              "  </tbody>\n",
              "</table>\n",
              "</div>"
            ],
            "text/plain": [
              "    Race_ID  Odds    BSP  Distance_All  ...  y_real  y_pred    y_prob  One_winner\n",
              "0         0  5.00   7.60        410.48  ...       1       0  0.152783           0\n",
              "1         0  5.00   9.40        386.45  ...       0       0  0.097701           0\n",
              "2         0  7.00   7.80        380.00  ...       0       0  0.108017           0\n",
              "3         0  5.00   5.10        385.00  ...       0       0  0.242630           0\n",
              "4         0  6.00   5.34        418.65  ...       0       0  0.138575           0\n",
              "5         0  2.75   4.00        456.47  ...       0       1  0.257452           1\n",
              "6         1  7.00   8.68        438.35  ...       0       0  0.108139           0\n",
              "7         1  5.00   5.14        400.87  ...       0       0  0.194084           0\n",
              "8         1  3.50   3.83        451.62  ...       1       1  0.285762           1\n",
              "9         1  5.00   8.60        479.52  ...       0       0  0.109958           0\n",
              "10        1  6.00  10.16        455.21  ...       0       0  0.070299           0\n",
              "11        1  4.00   4.50        388.33  ...       0       0  0.137050           0\n",
              "\n",
              "[12 rows x 14 columns]"
            ]
          },
          "metadata": {},
          "execution_count": 970
        }
      ]
    },
    {
      "cell_type": "code",
      "metadata": {
        "id": "o8jxznbUzc6b"
      },
      "source": [
        "one_winner.to_csv('one_winner.csv', index=False)"
      ],
      "execution_count": null,
      "outputs": []
    },
    {
      "cell_type": "markdown",
      "metadata": {
        "id": "6PpBhE7r0OWI"
      },
      "source": [
        "## Performance of one winner model"
      ]
    },
    {
      "cell_type": "code",
      "metadata": {
        "colab": {
          "base_uri": "https://localhost:8080/"
        },
        "id": "1ddheeTk1nea",
        "outputId": "67734b85-1089-4038-aec8-2e27e401264b"
      },
      "source": [
        "# The APR for our original model\n",
        "\n",
        "apr(one_winner['y_pred'], one_winner['y_real'])"
      ],
      "execution_count": null,
      "outputs": [
        {
          "output_type": "stream",
          "name": "stdout",
          "text": [
            "Accuracy:0.8235049142095618\n",
            "Precision:0.4690126050420168\n",
            "Recall:0.44627686156921537\n",
            "F1:0.4573623559539053\n"
          ]
        },
        {
          "output_type": "execute_result",
          "data": {
            "text/plain": [
              "(0.8235049142095618,\n",
              " 0.4690126050420168,\n",
              " 0.44627686156921537,\n",
              " 0.4573623559539053)"
            ]
          },
          "metadata": {},
          "execution_count": 724
        }
      ]
    },
    {
      "cell_type": "code",
      "metadata": {
        "colab": {
          "base_uri": "https://localhost:8080/"
        },
        "id": "JgHbsydS1Crf",
        "outputId": "aad89d15-a452-40c4-f11d-7f86bfe60a0e"
      },
      "source": [
        "# The APR for single winner model - slightly worse than the other! \n",
        "## Next step to select the top 3 winners as this may improve results and it is something you can bet on still\n",
        "\n",
        "apr(one_winner['One_winner'], one_winner['y_real'])"
      ],
      "execution_count": null,
      "outputs": [
        {
          "output_type": "stream",
          "name": "stdout",
          "text": [
            "Accuracy:0.8169248708978843\n",
            "Precision:0.45077461269365315\n",
            "Recall:0.45077461269365315\n",
            "F1:0.45077461269365315\n"
          ]
        },
        {
          "output_type": "execute_result",
          "data": {
            "text/plain": [
              "(0.8169248708978843,\n",
              " 0.45077461269365315,\n",
              " 0.45077461269365315,\n",
              " 0.45077461269365315)"
            ]
          },
          "metadata": {},
          "execution_count": 723
        }
      ]
    },
    {
      "cell_type": "markdown",
      "metadata": {
        "id": "g_7zBnmWeecb"
      },
      "source": [
        "# Selecting the top 3 greyhounds for a race"
      ]
    },
    {
      "cell_type": "code",
      "metadata": {
        "id": "3gpiCfpi7dWB"
      },
      "source": [
        "wins_modelled.head(12)"
      ],
      "execution_count": null,
      "outputs": []
    },
    {
      "cell_type": "code",
      "metadata": {
        "id": "ZfC46mA37dSz"
      },
      "source": [
        "wins_modelled['Top_three'] = 0"
      ],
      "execution_count": null,
      "outputs": []
    },
    {
      "cell_type": "code",
      "metadata": {
        "id": "LdwiussE4-3P"
      },
      "source": [
        "wins_modelled.head(12)"
      ],
      "execution_count": null,
      "outputs": []
    },
    {
      "cell_type": "code",
      "metadata": {
        "id": "qO7a7Lwk3KOV"
      },
      "source": [
        "# Select top 3 greyhounds with the highest probability for each race\n",
        "\n",
        "first_prob = wins_modelled.sort_values('y_prob').drop_duplicates('Race_ID', keep='last')"
      ],
      "execution_count": null,
      "outputs": []
    },
    {
      "cell_type": "code",
      "metadata": {
        "id": "0A_-lDw13lxU"
      },
      "source": [
        "# Create new column to assign them as the one winner\n",
        "\n",
        "first_prob['Top_three'] = 1"
      ],
      "execution_count": null,
      "outputs": []
    },
    {
      "cell_type": "code",
      "metadata": {
        "id": "RYaTG_TQ3luh"
      },
      "source": [
        "index_list = list(first_prob.index)"
      ],
      "execution_count": null,
      "outputs": []
    },
    {
      "cell_type": "code",
      "metadata": {
        "id": "18qSp78D43MT"
      },
      "source": [
        "lowest_prob = wins_modelled.drop(index = index_list)"
      ],
      "execution_count": null,
      "outputs": []
    },
    {
      "cell_type": "code",
      "metadata": {
        "id": "M91iyq3X43FJ"
      },
      "source": [
        "lowest_prob.head(12)"
      ],
      "execution_count": null,
      "outputs": []
    },
    {
      "cell_type": "code",
      "metadata": {
        "id": "IDjh70G343CS"
      },
      "source": [
        "second_prob = lowest_prob.sort_values('y_prob').drop_duplicates('Race_ID', keep='last')"
      ],
      "execution_count": null,
      "outputs": []
    },
    {
      "cell_type": "code",
      "metadata": {
        "id": "VRReA5OB5RKh"
      },
      "source": [
        "second_prob['Top_three'] = 1"
      ],
      "execution_count": null,
      "outputs": []
    },
    {
      "cell_type": "code",
      "metadata": {
        "id": "EpmOYYgr5RIN"
      },
      "source": [
        "index_list = list(second_prob.index)"
      ],
      "execution_count": null,
      "outputs": []
    },
    {
      "cell_type": "code",
      "metadata": {
        "id": "eAML2Ijv5RF5"
      },
      "source": [
        "lowest_prob = lowest_prob.drop(index = index_list)"
      ],
      "execution_count": null,
      "outputs": []
    },
    {
      "cell_type": "code",
      "metadata": {
        "id": "1HheyxJU5RDT"
      },
      "source": [
        "third_prob = lowest_prob.sort_values('y_prob').drop_duplicates('Race_ID', keep='last')"
      ],
      "execution_count": null,
      "outputs": []
    },
    {
      "cell_type": "code",
      "metadata": {
        "id": "WL1xQSim5RA5"
      },
      "source": [
        "third_prob['Top_three'] = 1"
      ],
      "execution_count": null,
      "outputs": []
    },
    {
      "cell_type": "code",
      "metadata": {
        "id": "j10-n2YA5Q-j"
      },
      "source": [
        "index_list = list(third_prob.index)"
      ],
      "execution_count": null,
      "outputs": []
    },
    {
      "cell_type": "code",
      "metadata": {
        "id": "cE1UZ9vF6Gb0"
      },
      "source": [
        "lowest_prob = lowest_prob.drop(index = index_list)"
      ],
      "execution_count": null,
      "outputs": []
    },
    {
      "cell_type": "code",
      "metadata": {
        "id": "nGyeXW4L6GZK"
      },
      "source": [
        "lowest_prob.head(12)"
      ],
      "execution_count": null,
      "outputs": []
    },
    {
      "cell_type": "code",
      "metadata": {
        "id": "MhKGtVx_6GWP"
      },
      "source": [
        ""
      ],
      "execution_count": null,
      "outputs": []
    },
    {
      "cell_type": "code",
      "metadata": {
        "id": "niF1CZK1HBWh"
      },
      "source": [
        "top_three = pd.concat([first_prob, second_prob, third_prob, lowest_prob], axis =0, join='inner')"
      ],
      "execution_count": null,
      "outputs": []
    },
    {
      "cell_type": "code",
      "metadata": {
        "id": "gC4SeqT-6d-m"
      },
      "source": [
        "# Selecting columns\n",
        "\n",
        "top_three = top_three[['Race_ID', 'Odds', 'BSP', 'Distance_All', 'Finish_All',\n",
        "       'Races_All', 'Odds_Recent', 'Odds_380', 'Time_380', 'Dist_By', 'y_real',\n",
        "       'y_pred', 'y_prob', 'Top_three']]"
      ],
      "execution_count": null,
      "outputs": []
    },
    {
      "cell_type": "code",
      "metadata": {
        "colab": {
          "base_uri": "https://localhost:8080/",
          "height": 441
        },
        "id": "nSTYCbUX6d8C",
        "outputId": "0e4b15da-4f5c-43fd-9597-ad9b8a33712a"
      },
      "source": [
        "top_three.head(12)"
      ],
      "execution_count": null,
      "outputs": [
        {
          "output_type": "execute_result",
          "data": {
            "text/html": [
              "<div>\n",
              "<style scoped>\n",
              "    .dataframe tbody tr th:only-of-type {\n",
              "        vertical-align: middle;\n",
              "    }\n",
              "\n",
              "    .dataframe tbody tr th {\n",
              "        vertical-align: top;\n",
              "    }\n",
              "\n",
              "    .dataframe thead th {\n",
              "        text-align: right;\n",
              "    }\n",
              "</style>\n",
              "<table border=\"1\" class=\"dataframe\">\n",
              "  <thead>\n",
              "    <tr style=\"text-align: right;\">\n",
              "      <th></th>\n",
              "      <th>Race_ID</th>\n",
              "      <th>Odds</th>\n",
              "      <th>BSP</th>\n",
              "      <th>Distance_All</th>\n",
              "      <th>Finish_All</th>\n",
              "      <th>Races_All</th>\n",
              "      <th>Odds_Recent</th>\n",
              "      <th>Odds_380</th>\n",
              "      <th>Time_380</th>\n",
              "      <th>Dist_By</th>\n",
              "      <th>y_real</th>\n",
              "      <th>y_pred</th>\n",
              "      <th>y_prob</th>\n",
              "      <th>Top_three</th>\n",
              "      <th>Finished</th>\n",
              "      <th>Real_top</th>\n",
              "    </tr>\n",
              "  </thead>\n",
              "  <tbody>\n",
              "    <tr>\n",
              "      <th>4695</th>\n",
              "      <td>782</td>\n",
              "      <td>5.0</td>\n",
              "      <td>5.25</td>\n",
              "      <td>393.33</td>\n",
              "      <td>5.03</td>\n",
              "      <td>30</td>\n",
              "      <td>4.25</td>\n",
              "      <td>4.11</td>\n",
              "      <td>24.62</td>\n",
              "      <td>-4.29</td>\n",
              "      <td>0</td>\n",
              "      <td>0</td>\n",
              "      <td>0.150195</td>\n",
              "      <td>1</td>\n",
              "      <td>6</td>\n",
              "      <td>0</td>\n",
              "    </tr>\n",
              "    <tr>\n",
              "      <th>10089</th>\n",
              "      <td>1681</td>\n",
              "      <td>4.0</td>\n",
              "      <td>5.30</td>\n",
              "      <td>380.00</td>\n",
              "      <td>3.17</td>\n",
              "      <td>41</td>\n",
              "      <td>4.36</td>\n",
              "      <td>4.36</td>\n",
              "      <td>24.03</td>\n",
              "      <td>-3.64</td>\n",
              "      <td>0</td>\n",
              "      <td>0</td>\n",
              "      <td>0.176285</td>\n",
              "      <td>1</td>\n",
              "      <td>5</td>\n",
              "      <td>0</td>\n",
              "    </tr>\n",
              "    <tr>\n",
              "      <th>3667</th>\n",
              "      <td>611</td>\n",
              "      <td>5.0</td>\n",
              "      <td>5.00</td>\n",
              "      <td>376.93</td>\n",
              "      <td>3.57</td>\n",
              "      <td>84</td>\n",
              "      <td>5.07</td>\n",
              "      <td>5.07</td>\n",
              "      <td>24.22</td>\n",
              "      <td>-5.54</td>\n",
              "      <td>0</td>\n",
              "      <td>0</td>\n",
              "      <td>0.178345</td>\n",
              "      <td>1</td>\n",
              "      <td>3</td>\n",
              "      <td>1</td>\n",
              "    </tr>\n",
              "    <tr>\n",
              "      <th>11865</th>\n",
              "      <td>1977</td>\n",
              "      <td>4.0</td>\n",
              "      <td>4.90</td>\n",
              "      <td>384.00</td>\n",
              "      <td>2.64</td>\n",
              "      <td>50</td>\n",
              "      <td>4.29</td>\n",
              "      <td>4.29</td>\n",
              "      <td>24.17</td>\n",
              "      <td>-4.29</td>\n",
              "      <td>0</td>\n",
              "      <td>0</td>\n",
              "      <td>0.180910</td>\n",
              "      <td>1</td>\n",
              "      <td>3</td>\n",
              "      <td>1</td>\n",
              "    </tr>\n",
              "    <tr>\n",
              "      <th>7174</th>\n",
              "      <td>1195</td>\n",
              "      <td>4.0</td>\n",
              "      <td>4.27</td>\n",
              "      <td>380.00</td>\n",
              "      <td>3.30</td>\n",
              "      <td>5</td>\n",
              "      <td>3.50</td>\n",
              "      <td>3.50</td>\n",
              "      <td>24.28</td>\n",
              "      <td>-4.00</td>\n",
              "      <td>0</td>\n",
              "      <td>0</td>\n",
              "      <td>0.182567</td>\n",
              "      <td>1</td>\n",
              "      <td>4</td>\n",
              "      <td>0</td>\n",
              "    </tr>\n",
              "    <tr>\n",
              "      <th>9490</th>\n",
              "      <td>1581</td>\n",
              "      <td>3.5</td>\n",
              "      <td>4.01</td>\n",
              "      <td>495.47</td>\n",
              "      <td>2.82</td>\n",
              "      <td>43</td>\n",
              "      <td>3.50</td>\n",
              "      <td>3.50</td>\n",
              "      <td>24.25</td>\n",
              "      <td>-2.29</td>\n",
              "      <td>0</td>\n",
              "      <td>0</td>\n",
              "      <td>0.183428</td>\n",
              "      <td>1</td>\n",
              "      <td>6</td>\n",
              "      <td>0</td>\n",
              "    </tr>\n",
              "    <tr>\n",
              "      <th>870</th>\n",
              "      <td>145</td>\n",
              "      <td>4.0</td>\n",
              "      <td>5.60</td>\n",
              "      <td>380.00</td>\n",
              "      <td>3.71</td>\n",
              "      <td>52</td>\n",
              "      <td>5.14</td>\n",
              "      <td>5.14</td>\n",
              "      <td>24.61</td>\n",
              "      <td>-3.71</td>\n",
              "      <td>1</td>\n",
              "      <td>0</td>\n",
              "      <td>0.184162</td>\n",
              "      <td>1</td>\n",
              "      <td>1</td>\n",
              "      <td>1</td>\n",
              "    </tr>\n",
              "    <tr>\n",
              "      <th>9616</th>\n",
              "      <td>1602</td>\n",
              "      <td>5.5</td>\n",
              "      <td>7.00</td>\n",
              "      <td>384.10</td>\n",
              "      <td>4.47</td>\n",
              "      <td>39</td>\n",
              "      <td>7.36</td>\n",
              "      <td>7.36</td>\n",
              "      <td>24.67</td>\n",
              "      <td>-5.86</td>\n",
              "      <td>1</td>\n",
              "      <td>0</td>\n",
              "      <td>0.185779</td>\n",
              "      <td>1</td>\n",
              "      <td>1</td>\n",
              "      <td>1</td>\n",
              "    </tr>\n",
              "    <tr>\n",
              "      <th>6157</th>\n",
              "      <td>1026</td>\n",
              "      <td>3.5</td>\n",
              "      <td>4.20</td>\n",
              "      <td>380.69</td>\n",
              "      <td>4.36</td>\n",
              "      <td>16</td>\n",
              "      <td>3.62</td>\n",
              "      <td>3.62</td>\n",
              "      <td>24.33</td>\n",
              "      <td>-5.83</td>\n",
              "      <td>0</td>\n",
              "      <td>0</td>\n",
              "      <td>0.186338</td>\n",
              "      <td>1</td>\n",
              "      <td>3</td>\n",
              "      <td>1</td>\n",
              "    </tr>\n",
              "    <tr>\n",
              "      <th>1524</th>\n",
              "      <td>254</td>\n",
              "      <td>4.0</td>\n",
              "      <td>4.70</td>\n",
              "      <td>416.40</td>\n",
              "      <td>3.63</td>\n",
              "      <td>55</td>\n",
              "      <td>4.79</td>\n",
              "      <td>4.79</td>\n",
              "      <td>24.50</td>\n",
              "      <td>-4.00</td>\n",
              "      <td>1</td>\n",
              "      <td>0</td>\n",
              "      <td>0.186436</td>\n",
              "      <td>1</td>\n",
              "      <td>1</td>\n",
              "      <td>1</td>\n",
              "    </tr>\n",
              "    <tr>\n",
              "      <th>1178</th>\n",
              "      <td>196</td>\n",
              "      <td>3.5</td>\n",
              "      <td>4.92</td>\n",
              "      <td>449.47</td>\n",
              "      <td>3.45</td>\n",
              "      <td>79</td>\n",
              "      <td>6.50</td>\n",
              "      <td>5.29</td>\n",
              "      <td>24.19</td>\n",
              "      <td>-3.61</td>\n",
              "      <td>0</td>\n",
              "      <td>0</td>\n",
              "      <td>0.186469</td>\n",
              "      <td>1</td>\n",
              "      <td>2</td>\n",
              "      <td>1</td>\n",
              "    </tr>\n",
              "    <tr>\n",
              "      <th>7303</th>\n",
              "      <td>1217</td>\n",
              "      <td>3.5</td>\n",
              "      <td>4.36</td>\n",
              "      <td>386.67</td>\n",
              "      <td>3.36</td>\n",
              "      <td>48</td>\n",
              "      <td>4.68</td>\n",
              "      <td>4.68</td>\n",
              "      <td>24.00</td>\n",
              "      <td>-0.68</td>\n",
              "      <td>0</td>\n",
              "      <td>0</td>\n",
              "      <td>0.187391</td>\n",
              "      <td>1</td>\n",
              "      <td>6</td>\n",
              "      <td>0</td>\n",
              "    </tr>\n",
              "  </tbody>\n",
              "</table>\n",
              "</div>"
            ],
            "text/plain": [
              "       Race_ID  Odds   BSP  ...  Top_three  Finished  Real_top\n",
              "4695       782   5.0  5.25  ...          1         6         0\n",
              "10089     1681   4.0  5.30  ...          1         5         0\n",
              "3667       611   5.0  5.00  ...          1         3         1\n",
              "11865     1977   4.0  4.90  ...          1         3         1\n",
              "7174      1195   4.0  4.27  ...          1         4         0\n",
              "9490      1581   3.5  4.01  ...          1         6         0\n",
              "870        145   4.0  5.60  ...          1         1         1\n",
              "9616      1602   5.5  7.00  ...          1         1         1\n",
              "6157      1026   3.5  4.20  ...          1         3         1\n",
              "1524       254   4.0  4.70  ...          1         1         1\n",
              "1178       196   3.5  4.92  ...          1         2         1\n",
              "7303      1217   3.5  4.36  ...          1         6         0\n",
              "\n",
              "[12 rows x 16 columns]"
            ]
          },
          "metadata": {},
          "execution_count": 936
        }
      ]
    },
    {
      "cell_type": "code",
      "metadata": {
        "id": "c5RGc7FkGKys"
      },
      "source": [
        ""
      ],
      "execution_count": null,
      "outputs": []
    },
    {
      "cell_type": "code",
      "metadata": {
        "id": "544MMexh6eBQ"
      },
      "source": [
        "#Mask for finished position\n",
        "\n",
        "finished = df['Finished']"
      ],
      "execution_count": null,
      "outputs": []
    },
    {
      "cell_type": "code",
      "metadata": {
        "id": "TJlpLLhy68B4"
      },
      "source": [
        "#Bringing back Race ID\n",
        "\n",
        "top_three = top_three.assign(Finished = finished)"
      ],
      "execution_count": null,
      "outputs": []
    },
    {
      "cell_type": "code",
      "metadata": {
        "id": "9f3q3goo_J8w"
      },
      "source": [
        "top_three['Real_top'] = np.where(top_three['Finished'] < 4, 1, 0)"
      ],
      "execution_count": null,
      "outputs": []
    },
    {
      "cell_type": "code",
      "metadata": {
        "id": "-IXDSxg59zNE"
      },
      "source": [
        "top_three.to_csv('top_three.csv', index=False)"
      ],
      "execution_count": null,
      "outputs": []
    },
    {
      "cell_type": "markdown",
      "metadata": {
        "id": "QfjE1-eU-APL"
      },
      "source": [
        "## Performance of top three model"
      ]
    },
    {
      "cell_type": "code",
      "metadata": {
        "colab": {
          "base_uri": "https://localhost:8080/"
        },
        "id": "3ltRrhAZ9zKV",
        "outputId": "fd924aa6-8b6b-4da3-fab2-3b493be685ec"
      },
      "source": [
        "# The APR for the original model\n",
        "\n",
        "apr(top_three['y_pred'], top_three['y_real'])"
      ],
      "execution_count": null,
      "outputs": [
        {
          "output_type": "stream",
          "name": "stdout",
          "text": [
            "Accuracy:0.8235049142095618\n",
            "Precision:0.4690126050420168\n",
            "Recall:0.44627686156921537\n",
            "F1:0.4573623559539053\n"
          ]
        },
        {
          "output_type": "execute_result",
          "data": {
            "text/plain": [
              "(0.8235049142095618,\n",
              " 0.4690126050420168,\n",
              " 0.44627686156921537,\n",
              " 0.4573623559539053)"
            ]
          },
          "metadata": {},
          "execution_count": 938
        }
      ]
    },
    {
      "cell_type": "code",
      "metadata": {
        "colab": {
          "base_uri": "https://localhost:8080/"
        },
        "id": "c0hqjMdl-Dp0",
        "outputId": "a7812840-3e5e-4ced-d814-385700388a30"
      },
      "source": [
        "# The APR for the top three\n",
        "## Better F1 score than our other models but fall in accuracy\n",
        "\n",
        "apr(top_three['Top_three'], top_three['Real_top'])"
      ],
      "execution_count": null,
      "outputs": [
        {
          "output_type": "stream",
          "name": "stdout",
          "text": [
            "Accuracy:0.609112110611361\n",
            "Precision:0.6093619856738297\n",
            "Recall:0.6090576090576091\n",
            "F1:0.6092097593471564\n"
          ]
        },
        {
          "output_type": "execute_result",
          "data": {
            "text/plain": [
              "(0.609112110611361, 0.6093619856738297, 0.6090576090576091, 0.6092097593471564)"
            ]
          },
          "metadata": {},
          "execution_count": 939
        }
      ]
    },
    {
      "cell_type": "markdown",
      "metadata": {
        "id": "lswlfZfP7eQ4"
      },
      "source": [
        "# Predicting finish positions 1-6"
      ]
    },
    {
      "cell_type": "code",
      "metadata": {
        "id": "VG4Qso6jAmB6"
      },
      "source": [
        "wins_modelled['Position'] = 0"
      ],
      "execution_count": null,
      "outputs": []
    },
    {
      "cell_type": "code",
      "metadata": {
        "id": "6VMhbFvLAmB6"
      },
      "source": [
        "# Select greyhounds in order of highest probability for each race\n",
        "\n",
        "first_prob = wins_modelled.sort_values('y_prob').drop_duplicates('Race_ID', keep='last')"
      ],
      "execution_count": null,
      "outputs": []
    },
    {
      "cell_type": "code",
      "metadata": {
        "id": "Sg9t7nIWAmB6"
      },
      "source": [
        "# Create new column to assign them as the one winner\n",
        "\n",
        "first_prob['Position'] = 1"
      ],
      "execution_count": null,
      "outputs": []
    },
    {
      "cell_type": "code",
      "metadata": {
        "id": "Fx5-eN53AmB6"
      },
      "source": [
        "# A list for the index of the winners\n",
        "\n",
        "index_list = list(first_prob.index)"
      ],
      "execution_count": null,
      "outputs": []
    },
    {
      "cell_type": "code",
      "metadata": {
        "id": "GQxjfs4cAmB7"
      },
      "source": [
        "# Create new dataset with the losing greyhounds by removing the winners using their index\n",
        "\n",
        "lowest_prob = wins_modelled.drop(index = index_list)"
      ],
      "execution_count": null,
      "outputs": []
    },
    {
      "cell_type": "code",
      "metadata": {
        "id": "ukJN-l4oAmB7"
      },
      "source": [
        "# Repeat this to get the remaining positions\n",
        "\n",
        "second_prob = lowest_prob.sort_values('y_prob').drop_duplicates('Race_ID', keep='last')\n",
        "second_prob['Position'] = 2\n",
        "index_list = list(second_prob.index)\n",
        "lowest_prob = lowest_prob.drop(index = index_list)"
      ],
      "execution_count": null,
      "outputs": []
    },
    {
      "cell_type": "code",
      "metadata": {
        "id": "kneY2Sf0AmB7"
      },
      "source": [
        "third_prob = lowest_prob.sort_values('y_prob').drop_duplicates('Race_ID', keep='last')\n",
        "third_prob['Position'] = 3\n",
        "index_list = list(third_prob.index)\n",
        "lowest_prob = lowest_prob.drop(index = index_list)"
      ],
      "execution_count": null,
      "outputs": []
    },
    {
      "cell_type": "code",
      "metadata": {
        "id": "YzD4rgbgBEXh"
      },
      "source": [
        "fourth_prob = lowest_prob.sort_values('y_prob').drop_duplicates('Race_ID', keep='last')\n",
        "fourth_prob['Position'] = 4\n",
        "index_list = list(fourth_prob.index)\n",
        "lowest_prob = lowest_prob.drop(index = index_list)"
      ],
      "execution_count": null,
      "outputs": []
    },
    {
      "cell_type": "code",
      "metadata": {
        "id": "6INhyv2lBTvx"
      },
      "source": [
        "fifth_prob = lowest_prob.sort_values('y_prob').drop_duplicates('Race_ID', keep='last')\n",
        "fifth_prob['Position'] = 5\n",
        "index_list = list(fifth_prob.index)\n",
        "lowest_prob = lowest_prob.drop(index = index_list)"
      ],
      "execution_count": null,
      "outputs": []
    },
    {
      "cell_type": "code",
      "metadata": {
        "id": "1mz1xtjYBiJ2"
      },
      "source": [
        "lowest_prob['Position'] = 6"
      ],
      "execution_count": null,
      "outputs": []
    },
    {
      "cell_type": "code",
      "metadata": {
        "id": "saa6a-j8W_2F"
      },
      "source": [
        ""
      ],
      "execution_count": null,
      "outputs": []
    },
    {
      "cell_type": "code",
      "metadata": {
        "id": "ZYEMetO2JRGu"
      },
      "source": [
        "# Concatenate all the different datasets that have been created for each position\n",
        "\n",
        "positions = pd.concat([first_prob, second_prob, third_prob, fourth_prob, fifth_prob, lowest_prob], axis =0, join='inner')"
      ],
      "execution_count": null,
      "outputs": []
    },
    {
      "cell_type": "code",
      "metadata": {
        "id": "pa34jgTsAmB8"
      },
      "source": [
        "# Selecting columns\n",
        "\n",
        "positions = positions[['Race_ID', 'Odds', 'BSP', 'Distance_All', 'Finish_All',\n",
        "       'Races_All', 'Odds_Recent', 'Odds_380', 'Time_380', 'Dist_By', 'y_real',\n",
        "       'y_pred', 'y_prob', 'Position']]"
      ],
      "execution_count": null,
      "outputs": []
    },
    {
      "cell_type": "code",
      "metadata": {
        "id": "q9u0e9vLAmB8"
      },
      "source": [
        "positions.sort_values('Race_ID').head(20)"
      ],
      "execution_count": null,
      "outputs": []
    },
    {
      "cell_type": "code",
      "metadata": {
        "id": "AA_Ud_t-AmB8"
      },
      "source": [
        "#Mask for finished position\n",
        "\n",
        "finished = df['Finished']"
      ],
      "execution_count": null,
      "outputs": []
    },
    {
      "cell_type": "code",
      "metadata": {
        "id": "Fd5lNF9LAmB8"
      },
      "source": [
        "# Bringing back finished position\n",
        "\n",
        "positions = positions.assign(Finished = finished)"
      ],
      "execution_count": null,
      "outputs": []
    },
    {
      "cell_type": "code",
      "metadata": {
        "id": "5tqdBE1fAmB9"
      },
      "source": [
        "# Save file containing new column of predicted finish positions\n",
        "\n",
        "positions.to_csv('positions.csv', index=False)"
      ],
      "execution_count": null,
      "outputs": []
    },
    {
      "cell_type": "markdown",
      "metadata": {
        "id": "K8gBWH28DUHY"
      },
      "source": [
        "## Performance of positions model"
      ]
    },
    {
      "cell_type": "code",
      "metadata": {
        "colab": {
          "base_uri": "https://localhost:8080/"
        },
        "id": "gCyHXFgiJuqm",
        "outputId": "3894b4d1-c571-4a5f-b1cf-821114558fcf"
      },
      "source": [
        "# 24.5% of positions guessed correctly - compared to 20.9% from public estimate\n",
        "\n",
        "(((positions['Finished'] == positions['Position']).sum()) / (positions.shape[0])) * 100"
      ],
      "execution_count": null,
      "outputs": [
        {
          "output_type": "execute_result",
          "data": {
            "text/plain": [
              "24.529401965683824"
            ]
          },
          "metadata": {},
          "execution_count": 1008
        }
      ]
    },
    {
      "cell_type": "markdown",
      "metadata": {
        "id": "HNYVlzPWPHWl"
      },
      "source": [
        "# Cut-off for guaranteed winner?"
      ]
    },
    {
      "cell_type": "code",
      "metadata": {
        "id": "gwnPOAxNJ55e"
      },
      "source": [
        "df = pd.read_csv('wins_modelled.csv')"
      ],
      "execution_count": null,
      "outputs": []
    },
    {
      "cell_type": "code",
      "metadata": {
        "colab": {
          "base_uri": "https://localhost:8080/"
        },
        "id": "ln5PPhsqQH9I",
        "outputId": "39e2d4a0-af30-4f26-a711-14dbfa2d085b"
      },
      "source": [
        "# The maximum probability a greyhound achieved for winning a race\n",
        "\n",
        "df.y_prob.max()"
      ],
      "execution_count": null,
      "outputs": [
        {
          "output_type": "execute_result",
          "data": {
            "text/plain": [
              "0.5493255769114688"
            ]
          },
          "metadata": {},
          "execution_count": 6
        }
      ]
    },
    {
      "cell_type": "code",
      "metadata": {
        "id": "omV2EUnLP6Ku"
      },
      "source": [
        "# Creating dataset for greyhounds with probability over 30%\n",
        "\n",
        "over3 = df[(df['y_prob'] > 0.3)]"
      ],
      "execution_count": null,
      "outputs": []
    },
    {
      "cell_type": "code",
      "metadata": {
        "id": "nOuZ9hAJP6Nu"
      },
      "source": [
        "# Have a look at dataset\n",
        "over3"
      ],
      "execution_count": null,
      "outputs": []
    },
    {
      "cell_type": "code",
      "metadata": {
        "id": "yp1MbGPbRjqm"
      },
      "source": [
        "pd.set_option('display.max_rows', None)"
      ],
      "execution_count": null,
      "outputs": []
    },
    {
      "cell_type": "code",
      "metadata": {
        "id": "6ZS6T4UuQx7n"
      },
      "source": [
        "over4 = df[(df['y_prob'] > 0.4)]"
      ],
      "execution_count": null,
      "outputs": []
    },
    {
      "cell_type": "code",
      "metadata": {
        "id": "UVdycIbUQreb"
      },
      "source": [
        "display(over4)"
      ],
      "execution_count": null,
      "outputs": []
    },
    {
      "cell_type": "code",
      "metadata": {
        "colab": {
          "base_uri": "https://localhost:8080/"
        },
        "id": "yVIA9d-YUOM3",
        "outputId": "fc899c64-6416-4900-da19-ed7eae9c76be"
      },
      "source": [
        "over4.shape[0]"
      ],
      "execution_count": null,
      "outputs": [
        {
          "output_type": "execute_result",
          "data": {
            "text/plain": [
              "169"
            ]
          },
          "metadata": {},
          "execution_count": 27
        }
      ]
    },
    {
      "cell_type": "code",
      "metadata": {
        "id": "ni6OoKWBRw_H"
      },
      "source": [
        "over5 = df[(df['y_prob'] > 0.5)]"
      ],
      "execution_count": null,
      "outputs": []
    },
    {
      "cell_type": "code",
      "metadata": {
        "colab": {
          "base_uri": "https://localhost:8080/",
          "height": 700
        },
        "id": "YAbOj4KIR0Rr",
        "outputId": "c7e9d826-09a6-49b6-efd2-28cb115b221e"
      },
      "source": [
        "display(over5)"
      ],
      "execution_count": null,
      "outputs": [
        {
          "output_type": "display_data",
          "data": {
            "text/html": [
              "<div>\n",
              "<style scoped>\n",
              "    .dataframe tbody tr th:only-of-type {\n",
              "        vertical-align: middle;\n",
              "    }\n",
              "\n",
              "    .dataframe tbody tr th {\n",
              "        vertical-align: top;\n",
              "    }\n",
              "\n",
              "    .dataframe thead th {\n",
              "        text-align: right;\n",
              "    }\n",
              "</style>\n",
              "<table border=\"1\" class=\"dataframe\">\n",
              "  <thead>\n",
              "    <tr style=\"text-align: right;\">\n",
              "      <th></th>\n",
              "      <th>Odds</th>\n",
              "      <th>BSP</th>\n",
              "      <th>Distance_All</th>\n",
              "      <th>Finish_All</th>\n",
              "      <th>Races_All</th>\n",
              "      <th>Odds_Recent</th>\n",
              "      <th>Odds_380</th>\n",
              "      <th>Time_380</th>\n",
              "      <th>Dist_By</th>\n",
              "      <th>y_real</th>\n",
              "      <th>y_pred</th>\n",
              "      <th>y_prob</th>\n",
              "    </tr>\n",
              "  </thead>\n",
              "  <tbody>\n",
              "    <tr>\n",
              "      <th>286</th>\n",
              "      <td>2.00</td>\n",
              "      <td>2.44</td>\n",
              "      <td>358.20</td>\n",
              "      <td>3.29</td>\n",
              "      <td>15</td>\n",
              "      <td>4.18</td>\n",
              "      <td>4.18000</td>\n",
              "      <td>24.35</td>\n",
              "      <td>-3.57000</td>\n",
              "      <td>1</td>\n",
              "      <td>1</td>\n",
              "      <td>0.508452</td>\n",
              "    </tr>\n",
              "    <tr>\n",
              "      <th>466</th>\n",
              "      <td>3.00</td>\n",
              "      <td>3.05</td>\n",
              "      <td>394.81</td>\n",
              "      <td>3.00</td>\n",
              "      <td>16</td>\n",
              "      <td>2.58</td>\n",
              "      <td>2.58000</td>\n",
              "      <td>24.08</td>\n",
              "      <td>0.00000</td>\n",
              "      <td>1</td>\n",
              "      <td>1</td>\n",
              "      <td>0.501693</td>\n",
              "    </tr>\n",
              "    <tr>\n",
              "      <th>635</th>\n",
              "      <td>2.50</td>\n",
              "      <td>2.40</td>\n",
              "      <td>408.84</td>\n",
              "      <td>3.47</td>\n",
              "      <td>74</td>\n",
              "      <td>5.25</td>\n",
              "      <td>5.25000</td>\n",
              "      <td>24.51</td>\n",
              "      <td>-4.82000</td>\n",
              "      <td>1</td>\n",
              "      <td>1</td>\n",
              "      <td>0.522231</td>\n",
              "    </tr>\n",
              "    <tr>\n",
              "      <th>1967</th>\n",
              "      <td>2.00</td>\n",
              "      <td>2.48</td>\n",
              "      <td>400.00</td>\n",
              "      <td>3.86</td>\n",
              "      <td>16</td>\n",
              "      <td>4.46</td>\n",
              "      <td>4.18000</td>\n",
              "      <td>24.47</td>\n",
              "      <td>-2.14000</td>\n",
              "      <td>1</td>\n",
              "      <td>1</td>\n",
              "      <td>0.540487</td>\n",
              "    </tr>\n",
              "    <tr>\n",
              "      <th>2184</th>\n",
              "      <td>2.25</td>\n",
              "      <td>2.52</td>\n",
              "      <td>397.14</td>\n",
              "      <td>4.30</td>\n",
              "      <td>49</td>\n",
              "      <td>5.00</td>\n",
              "      <td>5.00000</td>\n",
              "      <td>24.37</td>\n",
              "      <td>-4.21000</td>\n",
              "      <td>1</td>\n",
              "      <td>1</td>\n",
              "      <td>0.549326</td>\n",
              "    </tr>\n",
              "    <tr>\n",
              "      <th>2236</th>\n",
              "      <td>2.50</td>\n",
              "      <td>2.28</td>\n",
              "      <td>403.24</td>\n",
              "      <td>3.63</td>\n",
              "      <td>67</td>\n",
              "      <td>5.08</td>\n",
              "      <td>5.00000</td>\n",
              "      <td>20.84</td>\n",
              "      <td>-10.29000</td>\n",
              "      <td>1</td>\n",
              "      <td>1</td>\n",
              "      <td>0.528456</td>\n",
              "    </tr>\n",
              "    <tr>\n",
              "      <th>2320</th>\n",
              "      <td>2.00</td>\n",
              "      <td>2.39</td>\n",
              "      <td>380.71</td>\n",
              "      <td>3.26</td>\n",
              "      <td>49</td>\n",
              "      <td>4.46</td>\n",
              "      <td>4.54000</td>\n",
              "      <td>24.17</td>\n",
              "      <td>-4.43000</td>\n",
              "      <td>1</td>\n",
              "      <td>1</td>\n",
              "      <td>0.510459</td>\n",
              "    </tr>\n",
              "    <tr>\n",
              "      <th>2493</th>\n",
              "      <td>2.50</td>\n",
              "      <td>2.56</td>\n",
              "      <td>427.66</td>\n",
              "      <td>3.47</td>\n",
              "      <td>94</td>\n",
              "      <td>4.86</td>\n",
              "      <td>5.21000</td>\n",
              "      <td>24.12</td>\n",
              "      <td>-3.14000</td>\n",
              "      <td>1</td>\n",
              "      <td>1</td>\n",
              "      <td>0.522861</td>\n",
              "    </tr>\n",
              "    <tr>\n",
              "      <th>3722</th>\n",
              "      <td>1.80</td>\n",
              "      <td>2.04</td>\n",
              "      <td>376.16</td>\n",
              "      <td>3.57</td>\n",
              "      <td>113</td>\n",
              "      <td>4.08</td>\n",
              "      <td>5.32000</td>\n",
              "      <td>24.54</td>\n",
              "      <td>-4.14000</td>\n",
              "      <td>1</td>\n",
              "      <td>1</td>\n",
              "      <td>0.548722</td>\n",
              "    </tr>\n",
              "    <tr>\n",
              "      <th>5436</th>\n",
              "      <td>2.00</td>\n",
              "      <td>2.36</td>\n",
              "      <td>402.90</td>\n",
              "      <td>3.59</td>\n",
              "      <td>68</td>\n",
              "      <td>4.50</td>\n",
              "      <td>4.71000</td>\n",
              "      <td>20.83</td>\n",
              "      <td>-9.57000</td>\n",
              "      <td>1</td>\n",
              "      <td>1</td>\n",
              "      <td>0.544633</td>\n",
              "    </tr>\n",
              "    <tr>\n",
              "      <th>5541</th>\n",
              "      <td>2.50</td>\n",
              "      <td>2.72</td>\n",
              "      <td>408.45</td>\n",
              "      <td>3.43</td>\n",
              "      <td>75</td>\n",
              "      <td>5.14</td>\n",
              "      <td>5.14000</td>\n",
              "      <td>24.45</td>\n",
              "      <td>-3.54000</td>\n",
              "      <td>1</td>\n",
              "      <td>1</td>\n",
              "      <td>0.510081</td>\n",
              "    </tr>\n",
              "    <tr>\n",
              "      <th>5625</th>\n",
              "      <td>2.00</td>\n",
              "      <td>2.64</td>\n",
              "      <td>401.82</td>\n",
              "      <td>3.16</td>\n",
              "      <td>88</td>\n",
              "      <td>4.46</td>\n",
              "      <td>4.46000</td>\n",
              "      <td>24.35</td>\n",
              "      <td>-3.32000</td>\n",
              "      <td>1</td>\n",
              "      <td>1</td>\n",
              "      <td>0.529317</td>\n",
              "    </tr>\n",
              "    <tr>\n",
              "      <th>5756</th>\n",
              "      <td>3.50</td>\n",
              "      <td>5.00</td>\n",
              "      <td>380.00</td>\n",
              "      <td>3.37</td>\n",
              "      <td>14</td>\n",
              "      <td>2.58</td>\n",
              "      <td>2.58000</td>\n",
              "      <td>24.22</td>\n",
              "      <td>-4.14000</td>\n",
              "      <td>1</td>\n",
              "      <td>1</td>\n",
              "      <td>0.501724</td>\n",
              "    </tr>\n",
              "    <tr>\n",
              "      <th>7769</th>\n",
              "      <td>3.50</td>\n",
              "      <td>3.60</td>\n",
              "      <td>385.50</td>\n",
              "      <td>2.36</td>\n",
              "      <td>8</td>\n",
              "      <td>2.38</td>\n",
              "      <td>2.25000</td>\n",
              "      <td>24.00</td>\n",
              "      <td>11.00000</td>\n",
              "      <td>1</td>\n",
              "      <td>1</td>\n",
              "      <td>0.509120</td>\n",
              "    </tr>\n",
              "    <tr>\n",
              "      <th>7922</th>\n",
              "      <td>2.00</td>\n",
              "      <td>2.30</td>\n",
              "      <td>468.86</td>\n",
              "      <td>3.54</td>\n",
              "      <td>114</td>\n",
              "      <td>4.31</td>\n",
              "      <td>5.29702</td>\n",
              "      <td>24.42</td>\n",
              "      <td>-4.48688</td>\n",
              "      <td>1</td>\n",
              "      <td>1</td>\n",
              "      <td>0.533669</td>\n",
              "    </tr>\n",
              "    <tr>\n",
              "      <th>8341</th>\n",
              "      <td>2.00</td>\n",
              "      <td>2.28</td>\n",
              "      <td>395.63</td>\n",
              "      <td>4.29</td>\n",
              "      <td>19</td>\n",
              "      <td>4.79</td>\n",
              "      <td>4.79000</td>\n",
              "      <td>24.49</td>\n",
              "      <td>-3.71000</td>\n",
              "      <td>1</td>\n",
              "      <td>1</td>\n",
              "      <td>0.545611</td>\n",
              "    </tr>\n",
              "    <tr>\n",
              "      <th>8736</th>\n",
              "      <td>2.50</td>\n",
              "      <td>2.48</td>\n",
              "      <td>423.23</td>\n",
              "      <td>4.30</td>\n",
              "      <td>88</td>\n",
              "      <td>13.69</td>\n",
              "      <td>9.79000</td>\n",
              "      <td>24.36</td>\n",
              "      <td>-3.14000</td>\n",
              "      <td>1</td>\n",
              "      <td>1</td>\n",
              "      <td>0.530958</td>\n",
              "    </tr>\n",
              "    <tr>\n",
              "      <th>9781</th>\n",
              "      <td>2.00</td>\n",
              "      <td>2.09</td>\n",
              "      <td>380.67</td>\n",
              "      <td>3.20</td>\n",
              "      <td>78</td>\n",
              "      <td>4.79</td>\n",
              "      <td>4.79000</td>\n",
              "      <td>24.17</td>\n",
              "      <td>-4.00000</td>\n",
              "      <td>0</td>\n",
              "      <td>1</td>\n",
              "      <td>0.508902</td>\n",
              "    </tr>\n",
              "    <tr>\n",
              "      <th>9975</th>\n",
              "      <td>2.00</td>\n",
              "      <td>2.55</td>\n",
              "      <td>376.62</td>\n",
              "      <td>3.12</td>\n",
              "      <td>68</td>\n",
              "      <td>5.10</td>\n",
              "      <td>5.07000</td>\n",
              "      <td>24.30</td>\n",
              "      <td>-4.57000</td>\n",
              "      <td>1</td>\n",
              "      <td>1</td>\n",
              "      <td>0.513537</td>\n",
              "    </tr>\n",
              "    <tr>\n",
              "      <th>10476</th>\n",
              "      <td>2.00</td>\n",
              "      <td>2.34</td>\n",
              "      <td>413.02</td>\n",
              "      <td>3.26</td>\n",
              "      <td>42</td>\n",
              "      <td>4.57</td>\n",
              "      <td>4.71000</td>\n",
              "      <td>24.19</td>\n",
              "      <td>-2.18000</td>\n",
              "      <td>1</td>\n",
              "      <td>1</td>\n",
              "      <td>0.517149</td>\n",
              "    </tr>\n",
              "    <tr>\n",
              "      <th>11995</th>\n",
              "      <td>2.25</td>\n",
              "      <td>2.46</td>\n",
              "      <td>380.00</td>\n",
              "      <td>3.58</td>\n",
              "      <td>87</td>\n",
              "      <td>5.04</td>\n",
              "      <td>5.04000</td>\n",
              "      <td>24.48</td>\n",
              "      <td>-4.43000</td>\n",
              "      <td>1</td>\n",
              "      <td>1</td>\n",
              "      <td>0.532075</td>\n",
              "    </tr>\n",
              "  </tbody>\n",
              "</table>\n",
              "</div>"
            ],
            "text/plain": [
              "       Odds   BSP  Distance_All  Finish_All  ...   Dist_By  y_real  y_pred    y_prob\n",
              "286    2.00  2.44        358.20        3.29  ...  -3.57000       1       1  0.508452\n",
              "466    3.00  3.05        394.81        3.00  ...   0.00000       1       1  0.501693\n",
              "635    2.50  2.40        408.84        3.47  ...  -4.82000       1       1  0.522231\n",
              "1967   2.00  2.48        400.00        3.86  ...  -2.14000       1       1  0.540487\n",
              "2184   2.25  2.52        397.14        4.30  ...  -4.21000       1       1  0.549326\n",
              "2236   2.50  2.28        403.24        3.63  ... -10.29000       1       1  0.528456\n",
              "2320   2.00  2.39        380.71        3.26  ...  -4.43000       1       1  0.510459\n",
              "2493   2.50  2.56        427.66        3.47  ...  -3.14000       1       1  0.522861\n",
              "3722   1.80  2.04        376.16        3.57  ...  -4.14000       1       1  0.548722\n",
              "5436   2.00  2.36        402.90        3.59  ...  -9.57000       1       1  0.544633\n",
              "5541   2.50  2.72        408.45        3.43  ...  -3.54000       1       1  0.510081\n",
              "5625   2.00  2.64        401.82        3.16  ...  -3.32000       1       1  0.529317\n",
              "5756   3.50  5.00        380.00        3.37  ...  -4.14000       1       1  0.501724\n",
              "7769   3.50  3.60        385.50        2.36  ...  11.00000       1       1  0.509120\n",
              "7922   2.00  2.30        468.86        3.54  ...  -4.48688       1       1  0.533669\n",
              "8341   2.00  2.28        395.63        4.29  ...  -3.71000       1       1  0.545611\n",
              "8736   2.50  2.48        423.23        4.30  ...  -3.14000       1       1  0.530958\n",
              "9781   2.00  2.09        380.67        3.20  ...  -4.00000       0       1  0.508902\n",
              "9975   2.00  2.55        376.62        3.12  ...  -4.57000       1       1  0.513537\n",
              "10476  2.00  2.34        413.02        3.26  ...  -2.18000       1       1  0.517149\n",
              "11995  2.25  2.46        380.00        3.58  ...  -4.43000       1       1  0.532075\n",
              "\n",
              "[21 rows x 12 columns]"
            ]
          },
          "metadata": {}
        }
      ]
    },
    {
      "cell_type": "code",
      "metadata": {
        "colab": {
          "base_uri": "https://localhost:8080/"
        },
        "id": "v0mz2qckR2QO",
        "outputId": "bb9d27e9-f461-4077-bc5d-35b4574140f7"
      },
      "source": [
        "over5.shape[0]"
      ],
      "execution_count": null,
      "outputs": [
        {
          "output_type": "execute_result",
          "data": {
            "text/plain": [
              "21"
            ]
          },
          "metadata": {},
          "execution_count": 23
        }
      ]
    },
    {
      "cell_type": "code",
      "metadata": {
        "colab": {
          "base_uri": "https://localhost:8080/"
        },
        "id": "DEeZrQukSeRA",
        "outputId": "12338233-009d-411b-d0cb-3fa805296471"
      },
      "source": [
        "(20/21) * 100"
      ],
      "execution_count": null,
      "outputs": [
        {
          "output_type": "execute_result",
          "data": {
            "text/plain": [
              "95.23809523809523"
            ]
          },
          "metadata": {},
          "execution_count": 26
        }
      ]
    },
    {
      "cell_type": "code",
      "metadata": {
        "id": "bCe0IQ3oTlrE"
      },
      "source": [
        ""
      ],
      "execution_count": null,
      "outputs": []
    }
  ]
}